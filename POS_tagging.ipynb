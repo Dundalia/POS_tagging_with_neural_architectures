{
  "cells": [
    {
      "cell_type": "markdown",
      "metadata": {
        "id": "zRdeiSsmJg2T"
      },
      "source": [
        "#Team Members: \n",
        "Davide Baldelli -> davide.baldelli4@studio.unibo.it\n",
        "\n",
        "Mohammad Reza Ghasemi Madani -> mohammadreza.ghasemi@studio.unibo.it\n",
        "\n",
        "Mohammad Amin Nazerzadeh -> mohammad.nazerzadeh@studio.unibo.it"
      ]
    },
    {
      "cell_type": "markdown",
      "metadata": {
        "id": "a4_wqPdlBcKS"
      },
      "source": [
        "# Intro\n",
        "\n",
        "In this assignment  we will ask you to perform POS tagging using neural architectures\n",
        "\n",
        "You are asked to follow these steps:\n",
        "*   Download the corpora and split it in training and test sets, structuring a dataframe.\n",
        "*   Embed the words using GloVe embeddings\n",
        "*   Create a baseline model, using a simple neural architecture\n",
        "*   Experiment doing small modifications to the baseline model, choose hyperparameters using the validation set\n",
        "*   Evaluate your two best model\n",
        "*   Analyze the errors of your model\n",
        "\n",
        "\n",
        "**Task**: given a corpus of documents, predict the POS tag for each word\n",
        "\n",
        "**Corpus**:\n",
        "Ignore the numeric value in the third column, use only the words/symbols and its label.\n",
        "The corpus is available at:\n",
        "https://raw.githubusercontent.com/nltk/nltk_data/gh-pages/packages/corpora/dependency_treebank.zip\n",
        "\n",
        "**Splits**: documents 1-100 are the train set, 101-150 validation set, 151-199 test set.\n",
        "\n",
        "\n",
        "**Features**: you MUST use GloVe embeddings as the only input features to the model.\n",
        "\n",
        "**Splitting**: you can decide to split documents into sentences or not, the choice is yours.\n",
        "\n",
        "**I/O structure**: The input data will have three dimensions: 1-documents/sentences, 2-token, 3-features; for the output there are 2 possibilities: if you use one-hot encoding it will be 1-documents/sentences, 2-token labels, 3-classes, if you use a single integer that indicates the number of the class it will be 1-documents/sentences, 2-token labels.\n",
        "\n",
        "**Baseline**: two layers architecture: a Bidirectional LSTM layer and a Dense/Fully-Connected layer on top; the choice of hyper-parameters is yours.\n",
        "\n",
        "**Architectures**: experiment using a GRU instead of the LSTM, adding an additional LSTM layer, and adding an additional dense layer; do not mix these variantions.\n",
        "\n",
        "\n",
        "**Training and Experiments**: all the experiments must involve only the training and validation sets.\n",
        "\n",
        "**Evaluation**: in the end, only the two best models of your choice (according to the validation set) must be evaluated on the test set. The main metric must be F1-Macro computed between the various part of speech. DO NOT CONSIDER THE PUNCTUATION CLASSES. [What is punctuation?]{https://en.wikipedia.org/wiki/English_punctuation}\n",
        "\n",
        "**Metrics**: the metric you must use to evaluate your final model is the F1-macro, WITHOUT considering punctuation/symbols classes; during the training process you can use accuracy because you can't use the F1 metric unless you use a single (gigantic) batch because there is no way to aggregate \"partial\" F1 scores computed on mini-batches.\n",
        "\n",
        "**Discussion and Error Analysis** : verify and discuss if the results on the test sets are coherent with those on the validation set; analyze the errors done by your model, try to understand which may be the causes and think about how to improve it.\n",
        "\n",
        "**Report**: you are asked to deliver the code of your experiments and a small pdf report of about 2 pages; the pdf must begin with the names of the people of your team and a small abstract (4-5 lines) that sums up your findings."
      ]
    },
    {
      "cell_type": "markdown",
      "metadata": {
        "id": "hQSxmhDlOi5h"
      },
      "source": [
        "----------------------------------------------------------------------------------------------------------------------------------------------------------------"
      ]
    },
    {
      "cell_type": "code",
      "execution_count": null,
      "metadata": {
        "id": "Id8M_oS1Orr7",
        "vscode": {
          "languageId": "python"
        }
      },
      "outputs": [],
      "source": [
        "import os\n",
        "import torch\n",
        "import random\n",
        "import numpy as np\n",
        "import pandas as pd\n",
        "from pprint import pprint\n",
        "from google.colab import data_table\n",
        "data_table.enable_dataframe_formatter()"
      ]
    },
    {
      "cell_type": "markdown",
      "metadata": {
        "id": "Csct_y9lOa30"
      },
      "source": [
        "## Reproducibility\n",
        "\n",
        "Completely reproducible results are not guaranteed across PyTorch releases, individual commits, or different platforms. Furthermore, results may not be reproducible between CPU and GPU executions, even when using identical seeds. Reproducibility is a fundamental evaluation property in order to make fair evaluation.\n",
        "- Clear and reproducible data pipeline\n",
        "- Model training and evaluation with multiple and fixed seeds"
      ]
    },
    {
      "cell_type": "code",
      "execution_count": null,
      "metadata": {
        "id": "v-SQu_qoNvbN",
        "vscode": {
          "languageId": "python"
        }
      },
      "outputs": [],
      "source": [
        "seed = 42\n",
        "torch.manual_seed(seed)\n",
        "random.seed(seed)\n",
        "np.random.seed(seed)\n",
        "torch.use_deterministic_algorithms(True)"
      ]
    },
    {
      "cell_type": "markdown",
      "metadata": {
        "id": "TLtzEhpOtELN"
      },
      "source": [
        "`torch.use_deterministic_algorithms` sets whether PyTorch operations must use “deterministic” algorithms. That is, algorithms which, given the same input, and when run on the same software and hardware, always produce the same output. When enabled, operations will use deterministic algorithms when available."
      ]
    },
    {
      "cell_type": "markdown",
      "metadata": {
        "id": "tOCKLmP4K3TP"
      },
      "source": [
        "## Importing Data and Preprocessing"
      ]
    },
    {
      "cell_type": "code",
      "execution_count": null,
      "metadata": {
        "colab": {
          "base_uri": "https://localhost:8080/"
        },
        "collapsed": true,
        "id": "ZqvBT9mZK9Pk",
        "outputId": "9f8b3346-adf7-4230-d0dc-0b256c553d3b",
        "vscode": {
          "languageId": "python"
        }
      },
      "outputs": [
        {
          "name": "stdout",
          "output_type": "stream",
          "text": [
            "--2023-01-06 12:00:30--  https://raw.githubusercontent.com/nltk/nltk_data/gh-pages/packages/corpora/dependency_treebank.zip\n",
            "Resolving raw.githubusercontent.com (raw.githubusercontent.com)... 185.199.108.133, 185.199.110.133, 185.199.111.133, ...\n",
            "Connecting to raw.githubusercontent.com (raw.githubusercontent.com)|185.199.108.133|:443... connected.\n",
            "HTTP request sent, awaiting response... 200 OK\n",
            "Length: 457429 (447K) [application/zip]\n",
            "Saving to: ‘dependency_treebank.zip’\n",
            "\n",
            "dependency_treebank 100%[===================>] 446.71K  --.-KB/s    in 0.03s   \n",
            "\n",
            "2023-01-06 12:00:30 (15.8 MB/s) - ‘dependency_treebank.zip’ saved [457429/457429]\n",
            "\n",
            "Archive:  dependency_treebank.zip\n",
            "   creating: dependency_treebank/\n",
            "  inflating: dependency_treebank/wsj_0093.dp  \n",
            "  inflating: dependency_treebank/wsj_0065.dp  \n",
            "  inflating: dependency_treebank/wsj_0039.dp  \n",
            "  inflating: dependency_treebank/wsj_0182.dp  \n",
            "  inflating: dependency_treebank/wsj_0186.dp  \n",
            "  inflating: dependency_treebank/wsj_0041.dp  \n",
            "  inflating: dependency_treebank/wsj_0018.dp  \n",
            "  inflating: dependency_treebank/wsj_0105.dp  \n",
            "  inflating: dependency_treebank/wsj_0149.dp  \n",
            "  inflating: dependency_treebank/wsj_0194.dp  \n",
            "  inflating: dependency_treebank/wsj_0055.dp  \n",
            "  inflating: dependency_treebank/wsj_0187.dp  \n",
            "  inflating: dependency_treebank/wsj_0143.dp  \n",
            "  inflating: dependency_treebank/wsj_0052.dp  \n",
            "  inflating: dependency_treebank/wsj_0064.dp  \n",
            "  inflating: dependency_treebank/wsj_0179.dp  \n",
            "  inflating: dependency_treebank/wsj_0195.dp  \n",
            "  inflating: dependency_treebank/wsj_0051.dp  \n",
            "  inflating: dependency_treebank/wsj_0059.dp  \n",
            "  inflating: dependency_treebank/wsj_0109.dp  \n",
            "  inflating: dependency_treebank/wsj_0074.dp  \n",
            "  inflating: dependency_treebank/wsj_0089.dp  \n",
            "  inflating: dependency_treebank/wsj_0108.dp  \n",
            "  inflating: dependency_treebank/wsj_0104.dp  \n",
            "  inflating: dependency_treebank/wsj_0164.dp  \n",
            "  inflating: dependency_treebank/wsj_0024.dp  \n",
            "  inflating: dependency_treebank/wsj_0008.dp  \n",
            "  inflating: dependency_treebank/wsj_0101.dp  \n",
            "  inflating: dependency_treebank/wsj_0132.dp  \n",
            "  inflating: dependency_treebank/wsj_0028.dp  \n",
            "  inflating: dependency_treebank/wsj_0184.dp  \n",
            "  inflating: dependency_treebank/wsj_0082.dp  \n",
            "  inflating: dependency_treebank/wsj_0114.dp  \n",
            "  inflating: dependency_treebank/wsj_0061.dp  \n",
            "  inflating: dependency_treebank/wsj_0190.dp  \n",
            "  inflating: dependency_treebank/wsj_0034.dp  \n",
            "  inflating: dependency_treebank/wsj_0043.dp  \n",
            "  inflating: dependency_treebank/wsj_0044.dp  \n",
            "  inflating: dependency_treebank/wsj_0021.dp  \n",
            "  inflating: dependency_treebank/wsj_0005.dp  \n",
            "  inflating: dependency_treebank/wsj_0112.dp  \n",
            "  inflating: dependency_treebank/wsj_0167.dp  \n",
            "  inflating: dependency_treebank/wsj_0042.dp  \n",
            "  inflating: dependency_treebank/wsj_0168.dp  \n",
            "  inflating: dependency_treebank/wsj_0185.dp  \n",
            "  inflating: dependency_treebank/wsj_0057.dp  \n",
            "  inflating: dependency_treebank/wsj_0015.dp  \n",
            "  inflating: dependency_treebank/wsj_0116.dp  \n",
            "  inflating: dependency_treebank/wsj_0135.dp  \n",
            "  inflating: dependency_treebank/wsj_0175.dp  \n",
            "  inflating: dependency_treebank/wsj_0171.dp  \n",
            "  inflating: dependency_treebank/wsj_0068.dp  \n",
            "  inflating: dependency_treebank/wsj_0080.dp  \n",
            "  inflating: dependency_treebank/wsj_0035.dp  \n",
            "  inflating: dependency_treebank/wsj_0181.dp  \n",
            "  inflating: dependency_treebank/wsj_0177.dp  \n",
            "  inflating: dependency_treebank/wsj_0102.dp  \n",
            "  inflating: dependency_treebank/wsj_0137.dp  \n",
            "  inflating: dependency_treebank/wsj_0022.dp  \n",
            "  inflating: dependency_treebank/wsj_0176.dp  \n",
            "  inflating: dependency_treebank/wsj_0180.dp  \n",
            "  inflating: dependency_treebank/wsj_0121.dp  \n",
            "  inflating: dependency_treebank/wsj_0128.dp  \n",
            "  inflating: dependency_treebank/wsj_0036.dp  \n",
            "  inflating: dependency_treebank/wsj_0071.dp  \n",
            "  inflating: dependency_treebank/wsj_0091.dp  \n",
            "  inflating: dependency_treebank/wsj_0076.dp  \n",
            "  inflating: dependency_treebank/wsj_0123.dp  \n",
            "  inflating: dependency_treebank/wsj_0075.dp  \n",
            "  inflating: dependency_treebank/wsj_0131.dp  \n",
            "  inflating: dependency_treebank/wsj_0050.dp  \n",
            "  inflating: dependency_treebank/wsj_0136.dp  \n",
            "  inflating: dependency_treebank/wsj_0161.dp  \n",
            "  inflating: dependency_treebank/wsj_0033.dp  \n",
            "  inflating: dependency_treebank/wsj_0188.dp  \n",
            "  inflating: dependency_treebank/wsj_0085.dp  \n",
            "  inflating: dependency_treebank/wsj_0014.dp  \n",
            "  inflating: dependency_treebank/wsj_0073.dp  \n",
            "  inflating: dependency_treebank/wsj_0199.dp  \n",
            "  inflating: dependency_treebank/wsj_0120.dp  \n",
            "  inflating: dependency_treebank/wsj_0178.dp  \n",
            "  inflating: dependency_treebank/wsj_0122.dp  \n",
            "  inflating: dependency_treebank/wsj_0040.dp  \n",
            "  inflating: dependency_treebank/wsj_0020.dp  \n",
            "  inflating: dependency_treebank/wsj_0153.dp  \n",
            "  inflating: dependency_treebank/wsj_0107.dp  \n",
            "  inflating: dependency_treebank/wsj_0017.dp  \n",
            "  inflating: dependency_treebank/wsj_0140.dp  \n",
            "  inflating: dependency_treebank/wsj_0038.dp  \n",
            "  inflating: dependency_treebank/wsj_0031.dp  \n",
            "  inflating: dependency_treebank/wsj_0165.dp  \n",
            "  inflating: dependency_treebank/wsj_0146.dp  \n",
            "  inflating: dependency_treebank/wsj_0090.dp  \n",
            "  inflating: dependency_treebank/wsj_0001.dp  \n",
            "  inflating: dependency_treebank/wsj_0148.dp  \n",
            "  inflating: dependency_treebank/wsj_0097.dp  \n",
            "  inflating: dependency_treebank/wsj_0009.dp  \n",
            "  inflating: dependency_treebank/wsj_0173.dp  \n",
            "  inflating: dependency_treebank/wsj_0111.dp  \n",
            "  inflating: dependency_treebank/wsj_0129.dp  \n",
            "  inflating: dependency_treebank/wsj_0130.dp  \n",
            "  inflating: dependency_treebank/wsj_0047.dp  \n",
            "  inflating: dependency_treebank/wsj_0110.dp  \n",
            "  inflating: dependency_treebank/wsj_0113.dp  \n",
            "  inflating: dependency_treebank/wsj_0147.dp  \n",
            "  inflating: dependency_treebank/wsj_0160.dp  \n",
            "  inflating: dependency_treebank/wsj_0099.dp  \n",
            "  inflating: dependency_treebank/wsj_0003.dp  \n",
            "  inflating: dependency_treebank/wsj_0011.dp  \n",
            "  inflating: dependency_treebank/wsj_0056.dp  \n",
            "  inflating: dependency_treebank/wsj_0069.dp  \n",
            "  inflating: dependency_treebank/wsj_0026.dp  \n",
            "  inflating: dependency_treebank/wsj_0138.dp  \n",
            "  inflating: dependency_treebank/wsj_0029.dp  \n",
            "  inflating: dependency_treebank/wsj_0115.dp  \n",
            "  inflating: dependency_treebank/wsj_0037.dp  \n",
            "  inflating: dependency_treebank/wsj_0019.dp  \n",
            "  inflating: dependency_treebank/wsj_0002.dp  \n",
            "  inflating: dependency_treebank/wsj_0007.dp  \n",
            "  inflating: dependency_treebank/wsj_0158.dp  \n",
            "  inflating: dependency_treebank/wsj_0087.dp  \n",
            "  inflating: dependency_treebank/wsj_0157.dp  \n",
            "  inflating: dependency_treebank/wsj_0083.dp  \n",
            "  inflating: dependency_treebank/wsj_0103.dp  \n",
            "  inflating: dependency_treebank/wsj_0058.dp  \n",
            "  inflating: dependency_treebank/wsj_0054.dp  \n",
            "  inflating: dependency_treebank/wsj_0016.dp  \n",
            "  inflating: dependency_treebank/wsj_0126.dp  \n",
            "  inflating: dependency_treebank/wsj_0198.dp  \n",
            "  inflating: dependency_treebank/wsj_0144.dp  \n",
            "  inflating: dependency_treebank/wsj_0096.dp  \n",
            "  inflating: dependency_treebank/wsj_0086.dp  \n",
            "  inflating: dependency_treebank/wsj_0197.dp  \n",
            "  inflating: dependency_treebank/wsj_0025.dp  \n",
            "  inflating: dependency_treebank/wsj_0100.dp  \n",
            "  inflating: dependency_treebank/wsj_0084.dp  \n",
            "  inflating: dependency_treebank/wsj_0098.dp  \n",
            "  inflating: dependency_treebank/wsj_0106.dp  \n",
            "  inflating: dependency_treebank/wsj_0119.dp  \n",
            "  inflating: dependency_treebank/wsj_0092.dp  \n",
            "  inflating: dependency_treebank/wsj_0134.dp  \n",
            "  inflating: dependency_treebank/wsj_0077.dp  \n",
            "  inflating: dependency_treebank/wsj_0060.dp  \n",
            "  inflating: dependency_treebank/wsj_0172.dp  \n",
            "  inflating: dependency_treebank/wsj_0048.dp  \n",
            "  inflating: dependency_treebank/wsj_0030.dp  \n",
            "  inflating: dependency_treebank/wsj_0192.dp  \n",
            "  inflating: dependency_treebank/wsj_0066.dp  \n",
            "  inflating: dependency_treebank/wsj_0045.dp  \n",
            "  inflating: dependency_treebank/wsj_0155.dp  \n",
            "  inflating: dependency_treebank/wsj_0118.dp  \n",
            "  inflating: dependency_treebank/wsj_0152.dp  \n",
            "  inflating: dependency_treebank/wsj_0012.dp  \n",
            "  inflating: dependency_treebank/wsj_0006.dp  \n",
            "  inflating: dependency_treebank/wsj_0159.dp  \n",
            "  inflating: dependency_treebank/wsj_0163.dp  \n",
            "  inflating: dependency_treebank/wsj_0170.dp  \n",
            "  inflating: dependency_treebank/wsj_0141.dp  \n",
            "  inflating: dependency_treebank/wsj_0117.dp  \n",
            "  inflating: dependency_treebank/wsj_0125.dp  \n",
            "  inflating: dependency_treebank/wsj_0094.dp  \n",
            "  inflating: dependency_treebank/wsj_0169.dp  \n",
            "  inflating: dependency_treebank/wsj_0027.dp  \n",
            "  inflating: dependency_treebank/wsj_0010.dp  \n",
            "  inflating: dependency_treebank/wsj_0162.dp  \n",
            "  inflating: dependency_treebank/wsj_0127.dp  \n",
            "  inflating: dependency_treebank/wsj_0142.dp  \n",
            "  inflating: dependency_treebank/wsj_0046.dp  \n",
            "  inflating: dependency_treebank/wsj_0088.dp  \n",
            "  inflating: dependency_treebank/wsj_0079.dp  \n",
            "  inflating: dependency_treebank/wsj_0174.dp  \n",
            "  inflating: dependency_treebank/wsj_0063.dp  \n",
            "  inflating: dependency_treebank/wsj_0023.dp  \n",
            "  inflating: dependency_treebank/wsj_0004.dp  \n",
            "  inflating: dependency_treebank/wsj_0156.dp  \n",
            "  inflating: dependency_treebank/wsj_0133.dp  \n",
            "  inflating: dependency_treebank/wsj_0032.dp  \n",
            "  inflating: dependency_treebank/wsj_0070.dp  \n",
            "  inflating: dependency_treebank/wsj_0154.dp  \n",
            "  inflating: dependency_treebank/wsj_0095.dp  \n",
            "  inflating: dependency_treebank/wsj_0072.dp  \n",
            "  inflating: dependency_treebank/wsj_0183.dp  \n",
            "  inflating: dependency_treebank/wsj_0081.dp  \n",
            "  inflating: dependency_treebank/wsj_0196.dp  \n",
            "  inflating: dependency_treebank/wsj_0062.dp  \n",
            "  inflating: dependency_treebank/wsj_0124.dp  \n",
            "  inflating: dependency_treebank/wsj_0191.dp  \n",
            "  inflating: dependency_treebank/wsj_0013.dp  \n",
            "  inflating: dependency_treebank/wsj_0078.dp  \n",
            "  inflating: dependency_treebank/wsj_0150.dp  \n",
            "  inflating: dependency_treebank/wsj_0049.dp  \n",
            "  inflating: dependency_treebank/wsj_0189.dp  \n",
            "  inflating: dependency_treebank/wsj_0151.dp  \n",
            "  inflating: dependency_treebank/wsj_0193.dp  \n",
            "  inflating: dependency_treebank/wsj_0067.dp  \n",
            "  inflating: dependency_treebank/wsj_0145.dp  \n",
            "  inflating: dependency_treebank/wsj_0139.dp  \n",
            "  inflating: dependency_treebank/wsj_0166.dp  \n",
            "  inflating: dependency_treebank/wsj_0053.dp  \n"
          ]
        }
      ],
      "source": [
        "!wget https://raw.githubusercontent.com/nltk/nltk_data/gh-pages/packages/corpora/dependency_treebank.zip\n",
        "!unzip dependency_treebank.zip"
      ]
    },
    {
      "cell_type": "code",
      "execution_count": null,
      "metadata": {
        "colab": {
          "base_uri": "https://localhost:8080/"
        },
        "id": "xO7XkHqOyXRb",
        "outputId": "6f50c76b-67c0-43eb-c503-b9783dfa3630",
        "vscode": {
          "languageId": "python"
        }
      },
      "outputs": [
        {
          "name": "stdout",
          "output_type": "stream",
          "text": [
            "Number of sentences in train split: 1963\n",
            "Number of sentences in validation split: 1299\n",
            "Number of sentences in validation split: 652\n"
          ]
        }
      ],
      "source": [
        "# Generating the files names\n",
        "file_names = ['dependency_treebank/' + fn for fn in os.listdir('dependency_treebank')]\n",
        "file_names.sort()\n",
        "\n",
        "def get_tuples(example):\n",
        "    return tuple(example.split('\\t')[:2])\n",
        "\n",
        "def get_data(split):\n",
        "\n",
        "  inputs = []\n",
        "  outputs = []\n",
        "  for fn in split:\n",
        "    file = open(fn, 'r')\n",
        "    list_row = file.read().split('\\n')\n",
        "    temp_inputs = []\n",
        "    temp_outputs = []\n",
        "    k = 0\n",
        "    for i in range(len(list_row)):\n",
        "      if list_row[i]=='':\n",
        "        sentence = list(map(get_tuples, list_row[k:i]))\n",
        "        x = [tpl[0] for tpl in sentence]\n",
        "        y = [tpl[1] for tpl in sentence]\n",
        "        temp_inputs.append(x)\n",
        "        temp_outputs.append(y)\n",
        "        k=i+1\n",
        "    inputs.extend(temp_inputs)\n",
        "    outputs.extend(temp_outputs)\n",
        "  return pd.DataFrame({'sentence': inputs, 'tag': outputs})\n",
        "  \n",
        "# Seperate Train, Validation and Test set\n",
        "train_fn = file_names[:100]\n",
        "val_fn   = file_names[100:150]\n",
        "test_fn  = file_names[150:]\n",
        "\n",
        "train_split = get_data(train_fn)\n",
        "val_split   = get_data(val_fn)\n",
        "test_split  = get_data(test_fn)\n",
        "\n",
        "print(f\"Number of sentences in train split: {len(train_split)}\")\n",
        "print(f\"Number of sentences in validation split: {len(val_split)}\")\n",
        "print(f\"Number of sentences in validation split: {len(test_split)}\")"
      ]
    },
    {
      "cell_type": "code",
      "execution_count": null,
      "metadata": {
        "colab": {
          "base_uri": "https://localhost:8080/",
          "height": 193
        },
        "id": "J07yFGmHqizX",
        "outputId": "bacd22cf-648a-4466-f0ab-2375def54137",
        "vscode": {
          "languageId": "python"
        }
      },
      "outputs": [
        {
          "name": "stdout",
          "output_type": "stream",
          "text": [
            "Dataframe structure:\n"
          ]
        },
        {
          "data": {
            "application/vnd.google.colaboratory.module+javascript": "\n      import \"https://ssl.gstatic.com/colaboratory/data_table/fb998edc550c7947/data_table.js\";\n\n      window.createDataTable({\n        data: [[\"count\",\n1963,\n1963],\n [\"unique\",\n1958,\n1949],\n [\"top\",\n[\"Terms\", \"were\", \"n't\", \"disclosed\", \".\"],\n[\"NNS\", \"VBD\", \"RB\", \"VBN\", \".\"]],\n [\"freq\",\n5,\n5]],\n        columns: [[\"string\", \"index\"], [\"string\", \"sentence\"], [\"string\", \"tag\"]],\n        columnOptions: [{\"width\": \"1px\", \"className\": \"index_column\"}],\n        rowsPerPage: 25,\n        helpUrl: \"https://colab.research.google.com/notebooks/data_table.ipynb\",\n        suppressOutputScrolling: true,\n        minimumWidth: undefined,\n      });\n    ",
            "text/html": [
              "\n",
              "  <div id=\"df-dfbb186c-cc90-49b7-8aa3-b95c151613c6\">\n",
              "    <div class=\"colab-df-container\">\n",
              "      <div>\n",
              "<style scoped>\n",
              "    .dataframe tbody tr th:only-of-type {\n",
              "        vertical-align: middle;\n",
              "    }\n",
              "\n",
              "    .dataframe tbody tr th {\n",
              "        vertical-align: top;\n",
              "    }\n",
              "\n",
              "    .dataframe thead th {\n",
              "        text-align: right;\n",
              "    }\n",
              "</style>\n",
              "<table border=\"1\" class=\"dataframe\">\n",
              "  <thead>\n",
              "    <tr style=\"text-align: right;\">\n",
              "      <th></th>\n",
              "      <th>sentence</th>\n",
              "      <th>tag</th>\n",
              "    </tr>\n",
              "  </thead>\n",
              "  <tbody>\n",
              "    <tr>\n",
              "      <th>count</th>\n",
              "      <td>1963</td>\n",
              "      <td>1963</td>\n",
              "    </tr>\n",
              "    <tr>\n",
              "      <th>unique</th>\n",
              "      <td>1958</td>\n",
              "      <td>1949</td>\n",
              "    </tr>\n",
              "    <tr>\n",
              "      <th>top</th>\n",
              "      <td>[Terms, were, n't, disclosed, .]</td>\n",
              "      <td>[NNS, VBD, RB, VBN, .]</td>\n",
              "    </tr>\n",
              "    <tr>\n",
              "      <th>freq</th>\n",
              "      <td>5</td>\n",
              "      <td>5</td>\n",
              "    </tr>\n",
              "  </tbody>\n",
              "</table>\n",
              "</div>\n",
              "      <button class=\"colab-df-convert\" onclick=\"convertToInteractive('df-dfbb186c-cc90-49b7-8aa3-b95c151613c6')\"\n",
              "              title=\"Convert this dataframe to an interactive table.\"\n",
              "              style=\"display:none;\">\n",
              "        \n",
              "  <svg xmlns=\"http://www.w3.org/2000/svg\" height=\"24px\"viewBox=\"0 0 24 24\"\n",
              "       width=\"24px\">\n",
              "    <path d=\"M0 0h24v24H0V0z\" fill=\"none\"/>\n",
              "    <path d=\"M18.56 5.44l.94 2.06.94-2.06 2.06-.94-2.06-.94-.94-2.06-.94 2.06-2.06.94zm-11 1L8.5 8.5l.94-2.06 2.06-.94-2.06-.94L8.5 2.5l-.94 2.06-2.06.94zm10 10l.94 2.06.94-2.06 2.06-.94-2.06-.94-.94-2.06-.94 2.06-2.06.94z\"/><path d=\"M17.41 7.96l-1.37-1.37c-.4-.4-.92-.59-1.43-.59-.52 0-1.04.2-1.43.59L10.3 9.45l-7.72 7.72c-.78.78-.78 2.05 0 2.83L4 21.41c.39.39.9.59 1.41.59.51 0 1.02-.2 1.41-.59l7.78-7.78 2.81-2.81c.8-.78.8-2.07 0-2.86zM5.41 20L4 18.59l7.72-7.72 1.47 1.35L5.41 20z\"/>\n",
              "  </svg>\n",
              "      </button>\n",
              "      \n",
              "  <style>\n",
              "    .colab-df-container {\n",
              "      display:flex;\n",
              "      flex-wrap:wrap;\n",
              "      gap: 12px;\n",
              "    }\n",
              "\n",
              "    .colab-df-convert {\n",
              "      background-color: #E8F0FE;\n",
              "      border: none;\n",
              "      border-radius: 50%;\n",
              "      cursor: pointer;\n",
              "      display: none;\n",
              "      fill: #1967D2;\n",
              "      height: 32px;\n",
              "      padding: 0 0 0 0;\n",
              "      width: 32px;\n",
              "    }\n",
              "\n",
              "    .colab-df-convert:hover {\n",
              "      background-color: #E2EBFA;\n",
              "      box-shadow: 0px 1px 2px rgba(60, 64, 67, 0.3), 0px 1px 3px 1px rgba(60, 64, 67, 0.15);\n",
              "      fill: #174EA6;\n",
              "    }\n",
              "\n",
              "    [theme=dark] .colab-df-convert {\n",
              "      background-color: #3B4455;\n",
              "      fill: #D2E3FC;\n",
              "    }\n",
              "\n",
              "    [theme=dark] .colab-df-convert:hover {\n",
              "      background-color: #434B5C;\n",
              "      box-shadow: 0px 1px 3px 1px rgba(0, 0, 0, 0.15);\n",
              "      filter: drop-shadow(0px 1px 2px rgba(0, 0, 0, 0.3));\n",
              "      fill: #FFFFFF;\n",
              "    }\n",
              "  </style>\n",
              "\n",
              "      <script>\n",
              "        const buttonEl =\n",
              "          document.querySelector('#df-dfbb186c-cc90-49b7-8aa3-b95c151613c6 button.colab-df-convert');\n",
              "        buttonEl.style.display =\n",
              "          google.colab.kernel.accessAllowed ? 'block' : 'none';\n",
              "\n",
              "        async function convertToInteractive(key) {\n",
              "          const element = document.querySelector('#df-dfbb186c-cc90-49b7-8aa3-b95c151613c6');\n",
              "          const dataTable =\n",
              "            await google.colab.kernel.invokeFunction('convertToInteractive',\n",
              "                                                     [key], {});\n",
              "          if (!dataTable) return;\n",
              "\n",
              "          const docLinkHtml = 'Like what you see? Visit the ' +\n",
              "            '<a target=\"_blank\" href=https://colab.research.google.com/notebooks/data_table.ipynb>data table notebook</a>'\n",
              "            + ' to learn more about interactive tables.';\n",
              "          element.innerHTML = '';\n",
              "          dataTable['output_type'] = 'display_data';\n",
              "          await google.colab.output.renderOutput(dataTable, element);\n",
              "          const docLink = document.createElement('div');\n",
              "          docLink.innerHTML = docLinkHtml;\n",
              "          element.appendChild(docLink);\n",
              "        }\n",
              "      </script>\n",
              "    </div>\n",
              "  </div>\n",
              "  "
            ],
            "text/plain": [
              "                                sentence                     tag\n",
              "count                               1963                    1963\n",
              "unique                              1958                    1949\n",
              "top     [Terms, were, n't, disclosed, .]  [NNS, VBD, RB, VBN, .]\n",
              "freq                                   5                       5"
            ]
          },
          "execution_count": 5,
          "metadata": {},
          "output_type": "execute_result"
        }
      ],
      "source": [
        "print(\"Dataframe structure:\")\n",
        "train_split.describe(include='all')"
      ]
    },
    {
      "cell_type": "code",
      "execution_count": null,
      "metadata": {
        "colab": {
          "base_uri": "https://localhost:8080/",
          "height": 323
        },
        "id": "H8-1XjyWYqu_",
        "outputId": "58448ab9-1280-4f7f-860f-d4f6a8075d0e",
        "vscode": {
          "languageId": "python"
        }
      },
      "outputs": [
        {
          "name": "stdout",
          "output_type": "stream",
          "text": [
            "Dataframe Head:\n"
          ]
        },
        {
          "data": {
            "application/vnd.google.colaboratory.module+javascript": "\n      import \"https://ssl.gstatic.com/colaboratory/data_table/fb998edc550c7947/data_table.js\";\n\n      window.createDataTable({\n        data: [[{\n            'v': 0,\n            'f': \"0\",\n        },\n[\"Pierre\", \"Vinken\", \",\", \"61\", \"years\", \"old\", \",\", \"will\", \"join\", \"the\", \"board\", \"as\", \"a\", \"nonexecutive\", \"director\", \"Nov.\", \"29\", \".\"],\n[\"NNP\", \"NNP\", \",\", \"CD\", \"NNS\", \"JJ\", \",\", \"MD\", \"VB\", \"DT\", \"NN\", \"IN\", \"DT\", \"JJ\", \"NN\", \"NNP\", \"CD\", \".\"]],\n [{\n            'v': 1,\n            'f': \"1\",\n        },\n[\"Mr.\", \"Vinken\", \"is\", \"chairman\", \"of\", \"Elsevier\", \"N.V.\", \",\", \"the\", \"Dutch\", \"publishing\", \"group\", \".\"],\n[\"NNP\", \"NNP\", \"VBZ\", \"NN\", \"IN\", \"NNP\", \"NNP\", \",\", \"DT\", \"NNP\", \"VBG\", \"NN\", \".\"]],\n [{\n            'v': 2,\n            'f': \"2\",\n        },\n[\"Rudolph\", \"Agnew\", \",\", \"55\", \"years\", \"old\", \"and\", \"former\", \"chairman\", \"of\", \"Consolidated\", \"Gold\", \"Fields\", \"PLC\", \",\", \"was\", \"named\", \"a\", \"nonexecutive\", \"director\", \"of\", \"this\", \"British\", \"industrial\", \"conglomerate\", \".\"],\n[\"NNP\", \"NNP\", \",\", \"CD\", \"NNS\", \"JJ\", \"CC\", \"JJ\", \"NN\", \"IN\", \"NNP\", \"NNP\", \"NNP\", \"NNP\", \",\", \"VBD\", \"VBN\", \"DT\", \"JJ\", \"NN\", \"IN\", \"DT\", \"JJ\", \"JJ\", \"NN\", \".\"]],\n [{\n            'v': 3,\n            'f': \"3\",\n        },\n[\"A\", \"form\", \"of\", \"asbestos\", \"once\", \"used\", \"to\", \"make\", \"Kent\", \"cigarette\", \"filters\", \"has\", \"caused\", \"a\", \"high\", \"percentage\", \"of\", \"cancer\", \"deaths\", \"among\", \"a\", \"group\", \"of\", \"workers\", \"exposed\", \"to\", \"it\", \"more\", \"than\", \"30\", \"years\", \"ago\", \",\", \"researchers\", \"reported\", \".\"],\n[\"DT\", \"NN\", \"IN\", \"NN\", \"RB\", \"VBN\", \"TO\", \"VB\", \"NNP\", \"NN\", \"NNS\", \"VBZ\", \"VBN\", \"DT\", \"JJ\", \"NN\", \"IN\", \"NN\", \"NNS\", \"IN\", \"DT\", \"NN\", \"IN\", \"NNS\", \"VBN\", \"TO\", \"PRP\", \"RBR\", \"IN\", \"CD\", \"NNS\", \"IN\", \",\", \"NNS\", \"VBD\", \".\"]],\n [{\n            'v': 4,\n            'f': \"4\",\n        },\n[\"The\", \"asbestos\", \"fiber\", \",\", \"crocidolite\", \",\", \"is\", \"unusually\", \"resilient\", \"once\", \"it\", \"enters\", \"the\", \"lungs\", \",\", \"with\", \"even\", \"brief\", \"exposures\", \"to\", \"it\", \"causing\", \"symptoms\", \"that\", \"show\", \"up\", \"decades\", \"later\", \",\", \"researchers\", \"said\", \".\"],\n[\"DT\", \"NN\", \"NN\", \",\", \"NN\", \",\", \"VBZ\", \"RB\", \"JJ\", \"IN\", \"PRP\", \"VBZ\", \"DT\", \"NNS\", \",\", \"IN\", \"RB\", \"JJ\", \"NNS\", \"TO\", \"PRP\", \"VBG\", \"NNS\", \"WDT\", \"VBP\", \"RP\", \"NNS\", \"JJ\", \",\", \"NNS\", \"VBD\", \".\"]],\n [{\n            'v': 5,\n            'f': \"5\",\n        },\n[\"Lorillard\", \"Inc.\", \",\", \"the\", \"unit\", \"of\", \"New\", \"York-based\", \"Loews\", \"Corp.\", \"that\", \"makes\", \"Kent\", \"cigarettes\", \",\", \"stopped\", \"using\", \"crocidolite\", \"in\", \"its\", \"Micronite\", \"cigarette\", \"filters\", \"in\", \"1956\", \".\"],\n[\"NNP\", \"NNP\", \",\", \"DT\", \"NN\", \"IN\", \"JJ\", \"JJ\", \"NNP\", \"NNP\", \"WDT\", \"VBZ\", \"NNP\", \"NNS\", \",\", \"VBD\", \"VBG\", \"NN\", \"IN\", \"PRP$\", \"NN\", \"NN\", \"NNS\", \"IN\", \"CD\", \".\"]],\n [{\n            'v': 6,\n            'f': \"6\",\n        },\n[\"Although\", \"preliminary\", \"findings\", \"were\", \"reported\", \"more\", \"than\", \"a\", \"year\", \"ago\", \",\", \"the\", \"latest\", \"results\", \"appear\", \"in\", \"today\", \"'s\", \"New\", \"England\", \"Journal\", \"of\", \"Medicine\", \",\", \"a\", \"forum\", \"likely\", \"to\", \"bring\", \"new\", \"attention\", \"to\", \"the\", \"problem\", \".\"],\n[\"IN\", \"JJ\", \"NNS\", \"VBD\", \"VBN\", \"RBR\", \"IN\", \"DT\", \"NN\", \"IN\", \",\", \"DT\", \"JJS\", \"NNS\", \"VBP\", \"IN\", \"NN\", \"POS\", \"NNP\", \"NNP\", \"NNP\", \"IN\", \"NNP\", \",\", \"DT\", \"NN\", \"JJ\", \"TO\", \"VB\", \"JJ\", \"NN\", \"TO\", \"DT\", \"NN\", \".\"]],\n [{\n            'v': 7,\n            'f': \"7\",\n        },\n[\"A\", \"Lorillard\", \"spokewoman\", \"said\", \",\", \"``\", \"This\", \"is\", \"an\", \"old\", \"story\", \".\"],\n[\"DT\", \"NNP\", \"NN\", \"VBD\", \",\", \"``\", \"DT\", \"VBZ\", \"DT\", \"JJ\", \"NN\", \".\"]],\n [{\n            'v': 8,\n            'f': \"8\",\n        },\n[\"We\", \"'re\", \"talking\", \"about\", \"years\", \"ago\", \"before\", \"anyone\", \"heard\", \"of\", \"asbestos\", \"having\", \"any\", \"questionable\", \"properties\", \".\"],\n[\"PRP\", \"VBP\", \"VBG\", \"IN\", \"NNS\", \"IN\", \"IN\", \"NN\", \"VBD\", \"IN\", \"NN\", \"VBG\", \"DT\", \"JJ\", \"NNS\", \".\"]],\n [{\n            'v': 9,\n            'f': \"9\",\n        },\n[\"There\", \"is\", \"no\", \"asbestos\", \"in\", \"our\", \"products\", \"now\", \".\", \"''\"],\n[\"EX\", \"VBZ\", \"DT\", \"NN\", \"IN\", \"PRP$\", \"NNS\", \"RB\", \".\", \"''\"]]],\n        columns: [[\"number\", \"index\"], [\"string\", \"sentence\"], [\"string\", \"tag\"]],\n        columnOptions: [{\"width\": \"1px\", \"className\": \"index_column\"}],\n        rowsPerPage: 25,\n        helpUrl: \"https://colab.research.google.com/notebooks/data_table.ipynb\",\n        suppressOutputScrolling: true,\n        minimumWidth: undefined,\n      });\n    ",
            "text/html": [
              "\n",
              "  <div id=\"df-f1e2a112-cad6-4db7-8764-388584b8230a\">\n",
              "    <div class=\"colab-df-container\">\n",
              "      <div>\n",
              "<style scoped>\n",
              "    .dataframe tbody tr th:only-of-type {\n",
              "        vertical-align: middle;\n",
              "    }\n",
              "\n",
              "    .dataframe tbody tr th {\n",
              "        vertical-align: top;\n",
              "    }\n",
              "\n",
              "    .dataframe thead th {\n",
              "        text-align: right;\n",
              "    }\n",
              "</style>\n",
              "<table border=\"1\" class=\"dataframe\">\n",
              "  <thead>\n",
              "    <tr style=\"text-align: right;\">\n",
              "      <th></th>\n",
              "      <th>sentence</th>\n",
              "      <th>tag</th>\n",
              "    </tr>\n",
              "  </thead>\n",
              "  <tbody>\n",
              "    <tr>\n",
              "      <th>0</th>\n",
              "      <td>[Pierre, Vinken, ,, 61, years, old, ,, will, j...</td>\n",
              "      <td>[NNP, NNP, ,, CD, NNS, JJ, ,, MD, VB, DT, NN, ...</td>\n",
              "    </tr>\n",
              "    <tr>\n",
              "      <th>1</th>\n",
              "      <td>[Mr., Vinken, is, chairman, of, Elsevier, N.V....</td>\n",
              "      <td>[NNP, NNP, VBZ, NN, IN, NNP, NNP, ,, DT, NNP, ...</td>\n",
              "    </tr>\n",
              "    <tr>\n",
              "      <th>2</th>\n",
              "      <td>[Rudolph, Agnew, ,, 55, years, old, and, forme...</td>\n",
              "      <td>[NNP, NNP, ,, CD, NNS, JJ, CC, JJ, NN, IN, NNP...</td>\n",
              "    </tr>\n",
              "    <tr>\n",
              "      <th>3</th>\n",
              "      <td>[A, form, of, asbestos, once, used, to, make, ...</td>\n",
              "      <td>[DT, NN, IN, NN, RB, VBN, TO, VB, NNP, NN, NNS...</td>\n",
              "    </tr>\n",
              "    <tr>\n",
              "      <th>4</th>\n",
              "      <td>[The, asbestos, fiber, ,, crocidolite, ,, is, ...</td>\n",
              "      <td>[DT, NN, NN, ,, NN, ,, VBZ, RB, JJ, IN, PRP, V...</td>\n",
              "    </tr>\n",
              "    <tr>\n",
              "      <th>5</th>\n",
              "      <td>[Lorillard, Inc., ,, the, unit, of, New, York-...</td>\n",
              "      <td>[NNP, NNP, ,, DT, NN, IN, JJ, JJ, NNP, NNP, WD...</td>\n",
              "    </tr>\n",
              "    <tr>\n",
              "      <th>6</th>\n",
              "      <td>[Although, preliminary, findings, were, report...</td>\n",
              "      <td>[IN, JJ, NNS, VBD, VBN, RBR, IN, DT, NN, IN, ,...</td>\n",
              "    </tr>\n",
              "    <tr>\n",
              "      <th>7</th>\n",
              "      <td>[A, Lorillard, spokewoman, said, ,, ``, This, ...</td>\n",
              "      <td>[DT, NNP, NN, VBD, ,, ``, DT, VBZ, DT, JJ, NN, .]</td>\n",
              "    </tr>\n",
              "    <tr>\n",
              "      <th>8</th>\n",
              "      <td>[We, 're, talking, about, years, ago, before, ...</td>\n",
              "      <td>[PRP, VBP, VBG, IN, NNS, IN, IN, NN, VBD, IN, ...</td>\n",
              "    </tr>\n",
              "    <tr>\n",
              "      <th>9</th>\n",
              "      <td>[There, is, no, asbestos, in, our, products, n...</td>\n",
              "      <td>[EX, VBZ, DT, NN, IN, PRP$, NNS, RB, ., '']</td>\n",
              "    </tr>\n",
              "  </tbody>\n",
              "</table>\n",
              "</div>\n",
              "      <button class=\"colab-df-convert\" onclick=\"convertToInteractive('df-f1e2a112-cad6-4db7-8764-388584b8230a')\"\n",
              "              title=\"Convert this dataframe to an interactive table.\"\n",
              "              style=\"display:none;\">\n",
              "        \n",
              "  <svg xmlns=\"http://www.w3.org/2000/svg\" height=\"24px\"viewBox=\"0 0 24 24\"\n",
              "       width=\"24px\">\n",
              "    <path d=\"M0 0h24v24H0V0z\" fill=\"none\"/>\n",
              "    <path d=\"M18.56 5.44l.94 2.06.94-2.06 2.06-.94-2.06-.94-.94-2.06-.94 2.06-2.06.94zm-11 1L8.5 8.5l.94-2.06 2.06-.94-2.06-.94L8.5 2.5l-.94 2.06-2.06.94zm10 10l.94 2.06.94-2.06 2.06-.94-2.06-.94-.94-2.06-.94 2.06-2.06.94z\"/><path d=\"M17.41 7.96l-1.37-1.37c-.4-.4-.92-.59-1.43-.59-.52 0-1.04.2-1.43.59L10.3 9.45l-7.72 7.72c-.78.78-.78 2.05 0 2.83L4 21.41c.39.39.9.59 1.41.59.51 0 1.02-.2 1.41-.59l7.78-7.78 2.81-2.81c.8-.78.8-2.07 0-2.86zM5.41 20L4 18.59l7.72-7.72 1.47 1.35L5.41 20z\"/>\n",
              "  </svg>\n",
              "      </button>\n",
              "      \n",
              "  <style>\n",
              "    .colab-df-container {\n",
              "      display:flex;\n",
              "      flex-wrap:wrap;\n",
              "      gap: 12px;\n",
              "    }\n",
              "\n",
              "    .colab-df-convert {\n",
              "      background-color: #E8F0FE;\n",
              "      border: none;\n",
              "      border-radius: 50%;\n",
              "      cursor: pointer;\n",
              "      display: none;\n",
              "      fill: #1967D2;\n",
              "      height: 32px;\n",
              "      padding: 0 0 0 0;\n",
              "      width: 32px;\n",
              "    }\n",
              "\n",
              "    .colab-df-convert:hover {\n",
              "      background-color: #E2EBFA;\n",
              "      box-shadow: 0px 1px 2px rgba(60, 64, 67, 0.3), 0px 1px 3px 1px rgba(60, 64, 67, 0.15);\n",
              "      fill: #174EA6;\n",
              "    }\n",
              "\n",
              "    [theme=dark] .colab-df-convert {\n",
              "      background-color: #3B4455;\n",
              "      fill: #D2E3FC;\n",
              "    }\n",
              "\n",
              "    [theme=dark] .colab-df-convert:hover {\n",
              "      background-color: #434B5C;\n",
              "      box-shadow: 0px 1px 3px 1px rgba(0, 0, 0, 0.15);\n",
              "      filter: drop-shadow(0px 1px 2px rgba(0, 0, 0, 0.3));\n",
              "      fill: #FFFFFF;\n",
              "    }\n",
              "  </style>\n",
              "\n",
              "      <script>\n",
              "        const buttonEl =\n",
              "          document.querySelector('#df-f1e2a112-cad6-4db7-8764-388584b8230a button.colab-df-convert');\n",
              "        buttonEl.style.display =\n",
              "          google.colab.kernel.accessAllowed ? 'block' : 'none';\n",
              "\n",
              "        async function convertToInteractive(key) {\n",
              "          const element = document.querySelector('#df-f1e2a112-cad6-4db7-8764-388584b8230a');\n",
              "          const dataTable =\n",
              "            await google.colab.kernel.invokeFunction('convertToInteractive',\n",
              "                                                     [key], {});\n",
              "          if (!dataTable) return;\n",
              "\n",
              "          const docLinkHtml = 'Like what you see? Visit the ' +\n",
              "            '<a target=\"_blank\" href=https://colab.research.google.com/notebooks/data_table.ipynb>data table notebook</a>'\n",
              "            + ' to learn more about interactive tables.';\n",
              "          element.innerHTML = '';\n",
              "          dataTable['output_type'] = 'display_data';\n",
              "          await google.colab.output.renderOutput(dataTable, element);\n",
              "          const docLink = document.createElement('div');\n",
              "          docLink.innerHTML = docLinkHtml;\n",
              "          element.appendChild(docLink);\n",
              "        }\n",
              "      </script>\n",
              "    </div>\n",
              "  </div>\n",
              "  "
            ],
            "text/plain": [
              "                                            sentence  \\\n",
              "0  [Pierre, Vinken, ,, 61, years, old, ,, will, j...   \n",
              "1  [Mr., Vinken, is, chairman, of, Elsevier, N.V....   \n",
              "2  [Rudolph, Agnew, ,, 55, years, old, and, forme...   \n",
              "3  [A, form, of, asbestos, once, used, to, make, ...   \n",
              "4  [The, asbestos, fiber, ,, crocidolite, ,, is, ...   \n",
              "5  [Lorillard, Inc., ,, the, unit, of, New, York-...   \n",
              "6  [Although, preliminary, findings, were, report...   \n",
              "7  [A, Lorillard, spokewoman, said, ,, ``, This, ...   \n",
              "8  [We, 're, talking, about, years, ago, before, ...   \n",
              "9  [There, is, no, asbestos, in, our, products, n...   \n",
              "\n",
              "                                                 tag  \n",
              "0  [NNP, NNP, ,, CD, NNS, JJ, ,, MD, VB, DT, NN, ...  \n",
              "1  [NNP, NNP, VBZ, NN, IN, NNP, NNP, ,, DT, NNP, ...  \n",
              "2  [NNP, NNP, ,, CD, NNS, JJ, CC, JJ, NN, IN, NNP...  \n",
              "3  [DT, NN, IN, NN, RB, VBN, TO, VB, NNP, NN, NNS...  \n",
              "4  [DT, NN, NN, ,, NN, ,, VBZ, RB, JJ, IN, PRP, V...  \n",
              "5  [NNP, NNP, ,, DT, NN, IN, JJ, JJ, NNP, NNP, WD...  \n",
              "6  [IN, JJ, NNS, VBD, VBN, RBR, IN, DT, NN, IN, ,...  \n",
              "7  [DT, NNP, NN, VBD, ,, ``, DT, VBZ, DT, JJ, NN, .]  \n",
              "8  [PRP, VBP, VBG, IN, NNS, IN, IN, NN, VBD, IN, ...  \n",
              "9        [EX, VBZ, DT, NN, IN, PRP$, NNS, RB, ., '']  "
            ]
          },
          "execution_count": 6,
          "metadata": {},
          "output_type": "execute_result"
        }
      ],
      "source": [
        "#Let's see how our structured and processed data looks like\n",
        "print(\"Dataframe Head:\")\n",
        "train_split.head(10) "
      ]
    },
    {
      "cell_type": "markdown",
      "metadata": {
        "id": "oKRQdRFMwyNs"
      },
      "source": [
        "## GloVe Embedding\n",
        "\n",
        "GloVe is an unsupervised learning algorithm for obtaining vector representations for words. Training is performed on aggregated global word-word co-occurrence statistics from a corpus, and the resulting representations showcase interesting linear substructures of the word vector space. In this project, we use the GloVe variant with 6B tokens, 400K vocab, uncased, 50d vectors."
      ]
    },
    {
      "cell_type": "code",
      "execution_count": null,
      "metadata": {
        "colab": {
          "base_uri": "https://localhost:8080/"
        },
        "id": "ucdKuqXukA62",
        "outputId": "728f5aa7-3542-4ee2-a14e-778f22d6facb",
        "vscode": {
          "languageId": "python"
        }
      },
      "outputs": [
        {
          "name": "stderr",
          "output_type": "stream",
          "text": [
            ".vector_cache/glove.6B.zip: 862MB [02:39, 5.39MB/s]                           \n",
            "100%|█████████▉| 399999/400000 [00:09<00:00, 41891.28it/s]\n"
          ]
        }
      ],
      "source": [
        "import torch\n",
        "import torch.nn as nn\n",
        "from torchtext.vocab import GloVe\n",
        "\n",
        "# We use GloVe with token size of 6B and embedding dimension size of 50\n",
        "embedding_dim = 50\n",
        "glove = GloVe(name = '6B', dim = embedding_dim)"
      ]
    },
    {
      "cell_type": "markdown",
      "metadata": {
        "id": "agH855CtRt2L"
      },
      "source": [
        "`GloVe` comes with:\n",
        "- a dictionary `glove.stoi` associating each word in the GloVe vocabulary to an index;\n",
        "- a list `glove.itos`, that is the GloVe vocabulary. For each word in the vocabulary, `glove.itos[ glove.stoi[word] ] = word`;\n",
        "- a `torch.Tensor` `glove.vectors`, whose ith element is the GloVe embedding of the ith word in `glove.itos`. As a consequence, for each word, the embedding of the word can be retrieved with `glove.vectors[ glove.stoi[word] ]`.\n",
        "\n"
      ]
    },
    {
      "cell_type": "markdown",
      "metadata": {
        "id": "seO_WjLTUe50"
      },
      "source": [
        "## OOV Handling and Vectorization:\n",
        "\n",
        "To handle Out Of Vocabulary (OOV) words we have opted for the placeholder approach ---> we embed the OOV words with vector of zeros."
      ]
    },
    {
      "cell_type": "code",
      "execution_count": null,
      "metadata": {
        "colab": {
          "base_uri": "https://localhost:8080/",
          "height": 167,
          "referenced_widgets": [
            "1279e2eb25604ea7925450b54ce82fc2",
            "1156c668cf5243a19dca452bfd317693",
            "0711d0903c9f42d0a91ea7890c21a255",
            "a2f771f42e9d4484a6e3f282e8974470",
            "e1dce61d25f142dca8269ed32a5590da",
            "446aefe6fb4c4983bf6ff6054a2515ce",
            "b7b95079e63245d5832b9ac13b21e671",
            "a783ed4c27a54daeb821a6d2f9d49d20",
            "cae6dca3e8bc40bb835b8c98e66eef6e",
            "d15825b357bb426a8fd3758c37d76f05",
            "638f8735721648138e334c36bf44c4bd",
            "11b4c99537c5489e8bc314ac42d4b29a",
            "cd8ed268f4d8413882337bd0ba391be6",
            "928bdaf4936245adb23dc08f2db30132",
            "2ca9aaa10a4141d69ade00c106a58455",
            "d6f10a09ad4e445290e6e840c7b3b468",
            "d20b78d3bd73416bb675bb08a13025f2",
            "43ef3e0424e74e848b4d4b6e39d30aea",
            "99b2b6d1b08343febf595762c3991fc8",
            "7654dcdde8774790baf8936aa43f8393",
            "00b122340e694ed7a1b517a173f10d9f",
            "72c762fe69b64491b0959d7de0113670",
            "84ee8ddf664e4feaad20deac0e4ffbcf",
            "33f831524f9640608da64ec537882cfe",
            "3e69eb4f71e84caa93644cdf18490928",
            "805a74f70a7142c1a84e454f2ec44f89",
            "74f3cfa343d64953805268c634fa24f0",
            "5dc2c0a9debd4c0fad0beded73f6fe71",
            "a1ab4a854aea4639967397222030df7d",
            "bd6d6c53f0b74871b0ab24fad768b771",
            "260f71db733849bf8f0098e148c72d1c",
            "96cd7b71adfc45a68bb0e559c6995c68",
            "887d3211a81648d0af01792622fbb021"
          ]
        },
        "id": "pLKQt6HbmsEN",
        "outputId": "6f8aa8b5-a2a4-4d66-de75-6681dbdd2120",
        "vscode": {
          "languageId": "python"
        }
      },
      "outputs": [
        {
          "name": "stdout",
          "output_type": "stream",
          "text": [
            "Extending the vocabulary with OOV1 words ...\n"
          ]
        },
        {
          "data": {
            "application/vnd.jupyter.widget-view+json": {
              "model_id": "1279e2eb25604ea7925450b54ce82fc2",
              "version_major": 2,
              "version_minor": 0
            },
            "text/plain": [
              "  0%|          | 0/2346 [00:00<?, ?it/s]"
            ]
          },
          "metadata": {},
          "output_type": "display_data"
        },
        {
          "name": "stdout",
          "output_type": "stream",
          "text": [
            "Extending the vocabulary with OOV2 words ...\n"
          ]
        },
        {
          "data": {
            "application/vnd.jupyter.widget-view+json": {
              "model_id": "11b4c99537c5489e8bc314ac42d4b29a",
              "version_major": 2,
              "version_minor": 0
            },
            "text/plain": [
              "  0%|          | 0/944 [00:00<?, ?it/s]"
            ]
          },
          "metadata": {},
          "output_type": "display_data"
        },
        {
          "name": "stdout",
          "output_type": "stream",
          "text": [
            "Extending the vocabulary with OOV3 words ...\n"
          ]
        },
        {
          "data": {
            "application/vnd.jupyter.widget-view+json": {
              "model_id": "84ee8ddf664e4feaad20deac0e4ffbcf",
              "version_major": 2,
              "version_minor": 0
            },
            "text/plain": [
              "  0%|          | 0/455 [00:00<?, ?it/s]"
            ]
          },
          "metadata": {},
          "output_type": "display_data"
        }
      ],
      "source": [
        "from copy import copy\n",
        "from tqdm.notebook import tqdm_notebook\n",
        "\n",
        "word2idx = copy(glove.stoi)\n",
        "idx2word = copy(glove.itos)\n",
        "embedding_vec_with_oov = copy(glove.vectors)\n",
        "\n",
        "# Adding the padding token to the vocabulary\n",
        "for word in word2idx:\n",
        "  word2idx[word] += 1\n",
        "word2idx['<pad>'] = 0\n",
        "idx2word = ['<pad>'] + idx2word\n",
        "embedding_vec_with_oov = torch.cat((torch.zeros(1,embedding_dim), embedding_vec_with_oov))\n",
        "\n",
        "\n",
        "# Creating the vocabulary of words in the train datasets\n",
        "train_vocab = []\n",
        "for i, row in train_split.iterrows():\n",
        "  sentence = row['sentence']\n",
        "  for word in sentence:\n",
        "      train_vocab.append(word)\n",
        "\n",
        "# set of OOV1 words\n",
        "oov1 = list(set(train_vocab).difference(set(idx2word)))\n",
        "\n",
        "print(\"Extending the vocabulary with OOV1 words ...\")\n",
        "for word in tqdm_notebook(oov1):\n",
        "  idx2word.append(word)\n",
        "  embedding_vec_with_oov = torch.cat((embedding_vec_with_oov, torch.zeros(1,embedding_dim)))\n",
        "  word2idx[word] = len(word2idx)\n",
        "\n",
        "\n",
        "# Creating the vocabulary of words in the validation dataset\n",
        "val_vocab = []\n",
        "for i, row in val_split.iterrows():\n",
        "  sentence = row['sentence']\n",
        "  for word in sentence:\n",
        "      val_vocab.append(word)\n",
        "\n",
        "# set of OOV2 words\n",
        "oov2 = list(set(val_vocab).difference(set(idx2word)))\n",
        "\n",
        "print(\"Extending the vocabulary with OOV2 words ...\")\n",
        "for word in tqdm_notebook(oov2):\n",
        "  idx2word.append(word)\n",
        "  embedding_vec_with_oov = torch.cat((embedding_vec_with_oov, torch.zeros(1,embedding_dim)))\n",
        "  word2idx[word] = len(word2idx)\n",
        "\n",
        "  \n",
        "# Creating the vocabulary of words in the test datasets\n",
        "test_vocab = []\n",
        "for i, row in test_split.iterrows():\n",
        "  sentence = row['sentence']\n",
        "  for word in sentence:\n",
        "      test_vocab.append(word)\n",
        "\n",
        "# set of OOV3 words\n",
        "oov3 = list(set(test_vocab).difference(set(idx2word)))\n",
        "\n",
        "print(\"Extending the vocabulary with OOV3 words ...\")\n",
        "for word in tqdm_notebook(oov3):\n",
        "  idx2word.append(word)\n",
        "  embedding_vec_with_oov = torch.cat((embedding_vec_with_oov, torch.zeros(1,50)))\n",
        "  word2idx[word] = len(word2idx)"
      ]
    },
    {
      "cell_type": "code",
      "execution_count": null,
      "metadata": {
        "colab": {
          "base_uri": "https://localhost:8080/"
        },
        "id": "MSM27bBlWx33",
        "outputId": "69bf1ce9-f689-4aa7-af01-80bbb7f2c5c4",
        "vscode": {
          "languageId": "python"
        }
      },
      "outputs": [
        {
          "name": "stdout",
          "output_type": "stream",
          "text": [
            "Number of OOVs in ...\n",
            "Train set ----------------------------------------------- 2346\n",
            "Validation set ------------------------------------------ 944\n",
            "Test set ------------------------------------------------ 455\n"
          ]
        }
      ],
      "source": [
        "print(\n",
        "    f'Number of OOVs in ...\\n'\n",
        "    f'Train set ----------------------------------------------- {len(oov1)}\\n'\n",
        "    f'Validation set ------------------------------------------ {len(oov2)}\\n'\n",
        "    f'Test set ------------------------------------------------ {len(oov3)}'\n",
        ")"
      ]
    },
    {
      "cell_type": "code",
      "execution_count": null,
      "metadata": {
        "colab": {
          "base_uri": "https://localhost:8080/"
        },
        "id": "D4ulNZmFHUCM",
        "outputId": "9ea93a8a-3f28-4204-e6aa-f6cd972dc09b",
        "vscode": {
          "languageId": "python"
        }
      },
      "outputs": [
        {
          "name": "stdout",
          "output_type": "stream",
          "text": [
            "Glove vocab size ---------------------------------------- 400000\n",
            "Golve + Train OOV --------------------------------------- 402346\n",
            "Glove + Train + Validation OOV -------------------------- 403290\n",
            "Glove + Train + Validation + Test OOV ------------------- 403745\n",
            "Glove + Train + Validation + Test OOV + <pad> token ----- 403746\n",
            "\n"
          ]
        }
      ],
      "source": [
        "print(\n",
        "    f'Glove vocab size ---------------------------------------- {len(glove.stoi)}\\n'\n",
        "    f'Golve + Train OOV --------------------------------------- {len(glove.stoi) + len(oov1)}\\n'\n",
        "    f'Glove + Train + Validation OOV -------------------------- {len(glove.stoi) + len(oov1) + len(oov2)}\\n'\n",
        "    f'Glove + Train + Validation + Test OOV ------------------- {len(glove.stoi) + len(oov1) + len(oov2) + len(oov3)}\\n'\n",
        "    f'Glove + Train + Validation + Test OOV + <pad> token ----- {len(glove.stoi) + len(oov1) + len(oov2) + len(oov3) + 1}\\n'\n",
        ")"
      ]
    },
    {
      "cell_type": "markdown",
      "metadata": {
        "id": "_CVzgJno6NUK"
      },
      "source": [
        "## Tags\n",
        "#### Tags Vocabularization:"
      ]
    },
    {
      "cell_type": "code",
      "execution_count": null,
      "metadata": {
        "colab": {
          "base_uri": "https://localhost:8080/"
        },
        "id": "Y7V5tRsumX3F",
        "outputId": "ad349656-e6c5-45a9-c70b-efe283e298d2",
        "vscode": {
          "languageId": "python"
        }
      },
      "outputs": [
        {
          "name": "stdout",
          "output_type": "stream",
          "text": [
            "number of different tags in the training set: 46\n"
          ]
        }
      ],
      "source": [
        "# 'Vocabulary' of tags\n",
        "ind2tag, ind = np.unique(['<pad>'] + [tag for sentence in train_split['tag'] for tag in sentence], return_index=True)\n",
        "ind2tag = ind2tag[np.argsort(ind)]\n",
        "tag2idx = {tag:idx for (idx, tag) in enumerate(ind2tag)}\n",
        "print(f\"number of different tags in the training set: {len(tag2idx)}\")"
      ]
    },
    {
      "cell_type": "markdown",
      "metadata": {
        "id": "HOA68GMW5P2a"
      },
      "source": [
        "We check if there are tags which exist in the validation set, but not in the training set:\n"
      ]
    },
    {
      "cell_type": "code",
      "execution_count": null,
      "metadata": {
        "colab": {
          "base_uri": "https://localhost:8080/"
        },
        "id": "on6nchGs362K",
        "outputId": "0e75ac44-f2c7-49b0-be0e-885e55fda332",
        "vscode": {
          "languageId": "python"
        }
      },
      "outputs": [
        {
          "name": "stdout",
          "output_type": "stream",
          "text": [
            "Tags in Validation/Train set: []\n"
          ]
        }
      ],
      "source": [
        "ind2tag_val = np.unique([tag for sentence in val_split['tag'] for tag in sentence])\n",
        "ind2tag_test = np.unique([tag for sentence in test_split['tag'] for tag in sentence])\n",
        "\n",
        "val_train_tag_diff = list(set(ind2tag_val).difference(set(ind2tag)))\n",
        "\n",
        "print(f\"Tags in Validation/Train set: {val_train_tag_diff}\")"
      ]
    },
    {
      "cell_type": "markdown",
      "metadata": {
        "id": "TYqmEuQEiAtH"
      },
      "source": [
        "We will continue with the assumption of universality and completeness of the tags which are available in the train set"
      ]
    },
    {
      "cell_type": "markdown",
      "metadata": {
        "id": "4zTOfMVyfT6P"
      },
      "source": [
        "#### Tags Distributions\n",
        "\n",
        "Let's have a look to the distribution of the tags."
      ]
    },
    {
      "cell_type": "code",
      "execution_count": null,
      "metadata": {
        "id": "og8_3apT30Ss",
        "vscode": {
          "languageId": "python"
        }
      },
      "outputs": [],
      "source": [
        "train_tag_list = [tag for sentence in train_split['tag'] for tag in sentence if tag!='<pad>']\n",
        "validation_tag_list = [tag for sentence in val_split['tag'] for tag in sentence if tag!='<pad>']"
      ]
    },
    {
      "cell_type": "markdown",
      "metadata": {
        "id": "8jwwgwCRDcwF"
      },
      "source": [
        "Note:\n",
        "- To sort the table, click on the column you wish as sorting parameter (e.g. count)"
      ]
    },
    {
      "cell_type": "code",
      "execution_count": null,
      "metadata": {
        "colab": {
          "base_uri": "https://localhost:8080/",
          "height": 637
        },
        "id": "87Qe-Am-HCoK",
        "outputId": "03ecfa18-3d7d-4a7f-fbfe-bcb4f805b976",
        "vscode": {
          "languageId": "python"
        }
      },
      "outputs": [
        {
          "data": {
            "application/vnd.google.colaboratory.module+javascript": "\n      import \"https://ssl.gstatic.com/colaboratory/data_table/fb998edc550c7947/data_table.js\";\n\n      window.createDataTable({\n        data: [[{\n            'v': 0,\n            'f': \"0\",\n        },\n\"NNP\",\n{\n            'v': 5202,\n            'f': \"5202\",\n        }],\n [{\n            'v': 1,\n            'f': \"1\",\n        },\n\",\",\n{\n            'v': 2571,\n            'f': \"2571\",\n        }],\n [{\n            'v': 2,\n            'f': \"2\",\n        },\n\"CD\",\n{\n            'v': 1439,\n            'f': \"1439\",\n        }],\n [{\n            'v': 3,\n            'f': \"3\",\n        },\n\"NNS\",\n{\n            'v': 3004,\n            'f': \"3004\",\n        }],\n [{\n            'v': 4,\n            'f': \"4\",\n        },\n\"JJ\",\n{\n            'v': 2992,\n            'f': \"2992\",\n        }],\n [{\n            'v': 5,\n            'f': \"5\",\n        },\n\"MD\",\n{\n            'v': 413,\n            'f': \"413\",\n        }],\n [{\n            'v': 6,\n            'f': \"6\",\n        },\n\"VB\",\n{\n            'v': 1195,\n            'f': \"1195\",\n        }],\n [{\n            'v': 7,\n            'f': \"7\",\n        },\n\"DT\",\n{\n            'v': 4076,\n            'f': \"4076\",\n        }],\n [{\n            'v': 8,\n            'f': \"8\",\n        },\n\"NN\",\n{\n            'v': 6270,\n            'f': \"6270\",\n        }],\n [{\n            'v': 9,\n            'f': \"9\",\n        },\n\"IN\",\n{\n            'v': 4952,\n            'f': \"4952\",\n        }],\n [{\n            'v': 10,\n            'f': \"10\",\n        },\n\".\",\n{\n            'v': 1959,\n            'f': \"1959\",\n        }],\n [{\n            'v': 11,\n            'f': \"11\",\n        },\n\"VBZ\",\n{\n            'v': 1133,\n            'f': \"1133\",\n        }],\n [{\n            'v': 12,\n            'f': \"12\",\n        },\n\"VBG\",\n{\n            'v': 763,\n            'f': \"763\",\n        }],\n [{\n            'v': 13,\n            'f': \"13\",\n        },\n\"CC\",\n{\n            'v': 1141,\n            'f': \"1141\",\n        }],\n [{\n            'v': 14,\n            'f': \"14\",\n        },\n\"VBD\",\n{\n            'v': 1548,\n            'f': \"1548\",\n        }],\n [{\n            'v': 15,\n            'f': \"15\",\n        },\n\"VBN\",\n{\n            'v': 1031,\n            'f': \"1031\",\n        }],\n [{\n            'v': 16,\n            'f': \"16\",\n        },\n\"RB\",\n{\n            'v': 1490,\n            'f': \"1490\",\n        }],\n [{\n            'v': 17,\n            'f': \"17\",\n        },\n\"TO\",\n{\n            'v': 1028,\n            'f': \"1028\",\n        }],\n [{\n            'v': 18,\n            'f': \"18\",\n        },\n\"PRP\",\n{\n            'v': 954,\n            'f': \"954\",\n        }],\n [{\n            'v': 19,\n            'f': \"19\",\n        },\n\"RBR\",\n{\n            'v': 86,\n            'f': \"86\",\n        }],\n [{\n            'v': 20,\n            'f': \"20\",\n        },\n\"WDT\",\n{\n            'v': 204,\n            'f': \"204\",\n        }],\n [{\n            'v': 21,\n            'f': \"21\",\n        },\n\"VBP\",\n{\n            'v': 727,\n            'f': \"727\",\n        }],\n [{\n            'v': 22,\n            'f': \"22\",\n        },\n\"RP\",\n{\n            'v': 140,\n            'f': \"140\",\n        }],\n [{\n            'v': 23,\n            'f': \"23\",\n        },\n\"PRP$\",\n{\n            'v': 409,\n            'f': \"409\",\n        }],\n [{\n            'v': 24,\n            'f': \"24\",\n        },\n\"JJS\",\n{\n            'v': 93,\n            'f': \"93\",\n        }],\n [{\n            'v': 25,\n            'f': \"25\",\n        },\n\"POS\",\n{\n            'v': 403,\n            'f': \"403\",\n        }],\n [{\n            'v': 26,\n            'f': \"26\",\n        },\n\"``\",\n{\n            'v': 409,\n            'f': \"409\",\n        }],\n [{\n            'v': 27,\n            'f': \"27\",\n        },\n\"EX\",\n{\n            'v': 49,\n            'f': \"49\",\n        }],\n [{\n            'v': 28,\n            'f': \"28\",\n        },\n\"''\",\n{\n            'v': 399,\n            'f': \"399\",\n        }],\n [{\n            'v': 29,\n            'f': \"29\",\n        },\n\"WP\",\n{\n            'v': 141,\n            'f': \"141\",\n        }],\n [{\n            'v': 30,\n            'f': \"30\",\n        },\n\":\",\n{\n            'v': 293,\n            'f': \"293\",\n        }],\n [{\n            'v': 31,\n            'f': \"31\",\n        },\n\"JJR\",\n{\n            'v': 157,\n            'f': \"157\",\n        }],\n [{\n            'v': 32,\n            'f': \"32\",\n        },\n\"WRB\",\n{\n            'v': 92,\n            'f': \"92\",\n        }],\n [{\n            'v': 33,\n            'f': \"33\",\n        },\n\"$\",\n{\n            'v': 342,\n            'f': \"342\",\n        }],\n [{\n            'v': 34,\n            'f': \"34\",\n        },\n\"NNPS\",\n{\n            'v': 95,\n            'f': \"95\",\n        }],\n [{\n            'v': 35,\n            'f': \"35\",\n        },\n\"WP$\",\n{\n            'v': 6,\n            'f': \"6\",\n        }],\n [{\n            'v': 36,\n            'f': \"36\",\n        },\n\"-LRB-\",\n{\n            'v': 52,\n            'f': \"52\",\n        }],\n [{\n            'v': 37,\n            'f': \"37\",\n        },\n\"-RRB-\",\n{\n            'v': 55,\n            'f': \"55\",\n        }],\n [{\n            'v': 38,\n            'f': \"38\",\n        },\n\"PDT\",\n{\n            'v': 9,\n            'f': \"9\",\n        }],\n [{\n            'v': 39,\n            'f': \"39\",\n        },\n\"RBS\",\n{\n            'v': 19,\n            'f': \"19\",\n        }],\n [{\n            'v': 40,\n            'f': \"40\",\n        },\n\"FW\",\n{\n            'v': 2,\n            'f': \"2\",\n        }],\n [{\n            'v': 41,\n            'f': \"41\",\n        },\n\"UH\",\n{\n            'v': 1,\n            'f': \"1\",\n        }],\n [{\n            'v': 42,\n            'f': \"42\",\n        },\n\"SYM\",\n{\n            'v': 1,\n            'f': \"1\",\n        }],\n [{\n            'v': 43,\n            'f': \"43\",\n        },\n\"LS\",\n{\n            'v': 10,\n            'f': \"10\",\n        }],\n [{\n            'v': 44,\n            'f': \"44\",\n        },\n\"#\",\n{\n            'v': 1,\n            'f': \"1\",\n        }]],\n        columns: [[\"number\", \"index\"], [\"string\", \"tag\"], [\"number\", \"count\"]],\n        columnOptions: [{\"width\": \"1px\", \"className\": \"index_column\"}],\n        rowsPerPage: 25,\n        helpUrl: \"https://colab.research.google.com/notebooks/data_table.ipynb\",\n        suppressOutputScrolling: true,\n        minimumWidth: undefined,\n      });\n    ",
            "text/html": [
              "\n",
              "  <div id=\"df-538c525e-f00f-4459-b5b4-40942a8ca575\">\n",
              "    <div class=\"colab-df-container\">\n",
              "      <div>\n",
              "<style scoped>\n",
              "    .dataframe tbody tr th:only-of-type {\n",
              "        vertical-align: middle;\n",
              "    }\n",
              "\n",
              "    .dataframe tbody tr th {\n",
              "        vertical-align: top;\n",
              "    }\n",
              "\n",
              "    .dataframe thead th {\n",
              "        text-align: right;\n",
              "    }\n",
              "</style>\n",
              "<table border=\"1\" class=\"dataframe\">\n",
              "  <thead>\n",
              "    <tr style=\"text-align: right;\">\n",
              "      <th></th>\n",
              "      <th>tag</th>\n",
              "      <th>count</th>\n",
              "    </tr>\n",
              "  </thead>\n",
              "  <tbody>\n",
              "    <tr>\n",
              "      <th>0</th>\n",
              "      <td>NNP</td>\n",
              "      <td>5202</td>\n",
              "    </tr>\n",
              "    <tr>\n",
              "      <th>1</th>\n",
              "      <td>,</td>\n",
              "      <td>2571</td>\n",
              "    </tr>\n",
              "    <tr>\n",
              "      <th>2</th>\n",
              "      <td>CD</td>\n",
              "      <td>1439</td>\n",
              "    </tr>\n",
              "    <tr>\n",
              "      <th>3</th>\n",
              "      <td>NNS</td>\n",
              "      <td>3004</td>\n",
              "    </tr>\n",
              "    <tr>\n",
              "      <th>4</th>\n",
              "      <td>JJ</td>\n",
              "      <td>2992</td>\n",
              "    </tr>\n",
              "    <tr>\n",
              "      <th>5</th>\n",
              "      <td>MD</td>\n",
              "      <td>413</td>\n",
              "    </tr>\n",
              "    <tr>\n",
              "      <th>6</th>\n",
              "      <td>VB</td>\n",
              "      <td>1195</td>\n",
              "    </tr>\n",
              "    <tr>\n",
              "      <th>7</th>\n",
              "      <td>DT</td>\n",
              "      <td>4076</td>\n",
              "    </tr>\n",
              "    <tr>\n",
              "      <th>8</th>\n",
              "      <td>NN</td>\n",
              "      <td>6270</td>\n",
              "    </tr>\n",
              "    <tr>\n",
              "      <th>9</th>\n",
              "      <td>IN</td>\n",
              "      <td>4952</td>\n",
              "    </tr>\n",
              "    <tr>\n",
              "      <th>10</th>\n",
              "      <td>.</td>\n",
              "      <td>1959</td>\n",
              "    </tr>\n",
              "    <tr>\n",
              "      <th>11</th>\n",
              "      <td>VBZ</td>\n",
              "      <td>1133</td>\n",
              "    </tr>\n",
              "    <tr>\n",
              "      <th>12</th>\n",
              "      <td>VBG</td>\n",
              "      <td>763</td>\n",
              "    </tr>\n",
              "    <tr>\n",
              "      <th>13</th>\n",
              "      <td>CC</td>\n",
              "      <td>1141</td>\n",
              "    </tr>\n",
              "    <tr>\n",
              "      <th>14</th>\n",
              "      <td>VBD</td>\n",
              "      <td>1548</td>\n",
              "    </tr>\n",
              "    <tr>\n",
              "      <th>15</th>\n",
              "      <td>VBN</td>\n",
              "      <td>1031</td>\n",
              "    </tr>\n",
              "    <tr>\n",
              "      <th>16</th>\n",
              "      <td>RB</td>\n",
              "      <td>1490</td>\n",
              "    </tr>\n",
              "    <tr>\n",
              "      <th>17</th>\n",
              "      <td>TO</td>\n",
              "      <td>1028</td>\n",
              "    </tr>\n",
              "    <tr>\n",
              "      <th>18</th>\n",
              "      <td>PRP</td>\n",
              "      <td>954</td>\n",
              "    </tr>\n",
              "    <tr>\n",
              "      <th>19</th>\n",
              "      <td>RBR</td>\n",
              "      <td>86</td>\n",
              "    </tr>\n",
              "    <tr>\n",
              "      <th>20</th>\n",
              "      <td>WDT</td>\n",
              "      <td>204</td>\n",
              "    </tr>\n",
              "    <tr>\n",
              "      <th>21</th>\n",
              "      <td>VBP</td>\n",
              "      <td>727</td>\n",
              "    </tr>\n",
              "    <tr>\n",
              "      <th>22</th>\n",
              "      <td>RP</td>\n",
              "      <td>140</td>\n",
              "    </tr>\n",
              "    <tr>\n",
              "      <th>23</th>\n",
              "      <td>PRP$</td>\n",
              "      <td>409</td>\n",
              "    </tr>\n",
              "    <tr>\n",
              "      <th>24</th>\n",
              "      <td>JJS</td>\n",
              "      <td>93</td>\n",
              "    </tr>\n",
              "    <tr>\n",
              "      <th>25</th>\n",
              "      <td>POS</td>\n",
              "      <td>403</td>\n",
              "    </tr>\n",
              "    <tr>\n",
              "      <th>26</th>\n",
              "      <td>``</td>\n",
              "      <td>409</td>\n",
              "    </tr>\n",
              "    <tr>\n",
              "      <th>27</th>\n",
              "      <td>EX</td>\n",
              "      <td>49</td>\n",
              "    </tr>\n",
              "    <tr>\n",
              "      <th>28</th>\n",
              "      <td>''</td>\n",
              "      <td>399</td>\n",
              "    </tr>\n",
              "    <tr>\n",
              "      <th>29</th>\n",
              "      <td>WP</td>\n",
              "      <td>141</td>\n",
              "    </tr>\n",
              "    <tr>\n",
              "      <th>30</th>\n",
              "      <td>:</td>\n",
              "      <td>293</td>\n",
              "    </tr>\n",
              "    <tr>\n",
              "      <th>31</th>\n",
              "      <td>JJR</td>\n",
              "      <td>157</td>\n",
              "    </tr>\n",
              "    <tr>\n",
              "      <th>32</th>\n",
              "      <td>WRB</td>\n",
              "      <td>92</td>\n",
              "    </tr>\n",
              "    <tr>\n",
              "      <th>33</th>\n",
              "      <td>$</td>\n",
              "      <td>342</td>\n",
              "    </tr>\n",
              "    <tr>\n",
              "      <th>34</th>\n",
              "      <td>NNPS</td>\n",
              "      <td>95</td>\n",
              "    </tr>\n",
              "    <tr>\n",
              "      <th>35</th>\n",
              "      <td>WP$</td>\n",
              "      <td>6</td>\n",
              "    </tr>\n",
              "    <tr>\n",
              "      <th>36</th>\n",
              "      <td>-LRB-</td>\n",
              "      <td>52</td>\n",
              "    </tr>\n",
              "    <tr>\n",
              "      <th>37</th>\n",
              "      <td>-RRB-</td>\n",
              "      <td>55</td>\n",
              "    </tr>\n",
              "    <tr>\n",
              "      <th>38</th>\n",
              "      <td>PDT</td>\n",
              "      <td>9</td>\n",
              "    </tr>\n",
              "    <tr>\n",
              "      <th>39</th>\n",
              "      <td>RBS</td>\n",
              "      <td>19</td>\n",
              "    </tr>\n",
              "    <tr>\n",
              "      <th>40</th>\n",
              "      <td>FW</td>\n",
              "      <td>2</td>\n",
              "    </tr>\n",
              "    <tr>\n",
              "      <th>41</th>\n",
              "      <td>UH</td>\n",
              "      <td>1</td>\n",
              "    </tr>\n",
              "    <tr>\n",
              "      <th>42</th>\n",
              "      <td>SYM</td>\n",
              "      <td>1</td>\n",
              "    </tr>\n",
              "    <tr>\n",
              "      <th>43</th>\n",
              "      <td>LS</td>\n",
              "      <td>10</td>\n",
              "    </tr>\n",
              "    <tr>\n",
              "      <th>44</th>\n",
              "      <td>#</td>\n",
              "      <td>1</td>\n",
              "    </tr>\n",
              "  </tbody>\n",
              "</table>\n",
              "</div>\n",
              "      <button class=\"colab-df-convert\" onclick=\"convertToInteractive('df-538c525e-f00f-4459-b5b4-40942a8ca575')\"\n",
              "              title=\"Convert this dataframe to an interactive table.\"\n",
              "              style=\"display:none;\">\n",
              "        \n",
              "  <svg xmlns=\"http://www.w3.org/2000/svg\" height=\"24px\"viewBox=\"0 0 24 24\"\n",
              "       width=\"24px\">\n",
              "    <path d=\"M0 0h24v24H0V0z\" fill=\"none\"/>\n",
              "    <path d=\"M18.56 5.44l.94 2.06.94-2.06 2.06-.94-2.06-.94-.94-2.06-.94 2.06-2.06.94zm-11 1L8.5 8.5l.94-2.06 2.06-.94-2.06-.94L8.5 2.5l-.94 2.06-2.06.94zm10 10l.94 2.06.94-2.06 2.06-.94-2.06-.94-.94-2.06-.94 2.06-2.06.94z\"/><path d=\"M17.41 7.96l-1.37-1.37c-.4-.4-.92-.59-1.43-.59-.52 0-1.04.2-1.43.59L10.3 9.45l-7.72 7.72c-.78.78-.78 2.05 0 2.83L4 21.41c.39.39.9.59 1.41.59.51 0 1.02-.2 1.41-.59l7.78-7.78 2.81-2.81c.8-.78.8-2.07 0-2.86zM5.41 20L4 18.59l7.72-7.72 1.47 1.35L5.41 20z\"/>\n",
              "  </svg>\n",
              "      </button>\n",
              "      \n",
              "  <style>\n",
              "    .colab-df-container {\n",
              "      display:flex;\n",
              "      flex-wrap:wrap;\n",
              "      gap: 12px;\n",
              "    }\n",
              "\n",
              "    .colab-df-convert {\n",
              "      background-color: #E8F0FE;\n",
              "      border: none;\n",
              "      border-radius: 50%;\n",
              "      cursor: pointer;\n",
              "      display: none;\n",
              "      fill: #1967D2;\n",
              "      height: 32px;\n",
              "      padding: 0 0 0 0;\n",
              "      width: 32px;\n",
              "    }\n",
              "\n",
              "    .colab-df-convert:hover {\n",
              "      background-color: #E2EBFA;\n",
              "      box-shadow: 0px 1px 2px rgba(60, 64, 67, 0.3), 0px 1px 3px 1px rgba(60, 64, 67, 0.15);\n",
              "      fill: #174EA6;\n",
              "    }\n",
              "\n",
              "    [theme=dark] .colab-df-convert {\n",
              "      background-color: #3B4455;\n",
              "      fill: #D2E3FC;\n",
              "    }\n",
              "\n",
              "    [theme=dark] .colab-df-convert:hover {\n",
              "      background-color: #434B5C;\n",
              "      box-shadow: 0px 1px 3px 1px rgba(0, 0, 0, 0.15);\n",
              "      filter: drop-shadow(0px 1px 2px rgba(0, 0, 0, 0.3));\n",
              "      fill: #FFFFFF;\n",
              "    }\n",
              "  </style>\n",
              "\n",
              "      <script>\n",
              "        const buttonEl =\n",
              "          document.querySelector('#df-538c525e-f00f-4459-b5b4-40942a8ca575 button.colab-df-convert');\n",
              "        buttonEl.style.display =\n",
              "          google.colab.kernel.accessAllowed ? 'block' : 'none';\n",
              "\n",
              "        async function convertToInteractive(key) {\n",
              "          const element = document.querySelector('#df-538c525e-f00f-4459-b5b4-40942a8ca575');\n",
              "          const dataTable =\n",
              "            await google.colab.kernel.invokeFunction('convertToInteractive',\n",
              "                                                     [key], {});\n",
              "          if (!dataTable) return;\n",
              "\n",
              "          const docLinkHtml = 'Like what you see? Visit the ' +\n",
              "            '<a target=\"_blank\" href=https://colab.research.google.com/notebooks/data_table.ipynb>data table notebook</a>'\n",
              "            + ' to learn more about interactive tables.';\n",
              "          element.innerHTML = '';\n",
              "          dataTable['output_type'] = 'display_data';\n",
              "          await google.colab.output.renderOutput(dataTable, element);\n",
              "          const docLink = document.createElement('div');\n",
              "          docLink.innerHTML = docLinkHtml;\n",
              "          element.appendChild(docLink);\n",
              "        }\n",
              "      </script>\n",
              "    </div>\n",
              "  </div>\n",
              "  "
            ],
            "text/plain": [
              "      tag  count\n",
              "0     NNP   5202\n",
              "1       ,   2571\n",
              "2      CD   1439\n",
              "3     NNS   3004\n",
              "4      JJ   2992\n",
              "5      MD    413\n",
              "6      VB   1195\n",
              "7      DT   4076\n",
              "8      NN   6270\n",
              "9      IN   4952\n",
              "10      .   1959\n",
              "11    VBZ   1133\n",
              "12    VBG    763\n",
              "13     CC   1141\n",
              "14    VBD   1548\n",
              "15    VBN   1031\n",
              "16     RB   1490\n",
              "17     TO   1028\n",
              "18    PRP    954\n",
              "19    RBR     86\n",
              "20    WDT    204\n",
              "21    VBP    727\n",
              "22     RP    140\n",
              "23   PRP$    409\n",
              "24    JJS     93\n",
              "25    POS    403\n",
              "26     ``    409\n",
              "27     EX     49\n",
              "28     ''    399\n",
              "29     WP    141\n",
              "30      :    293\n",
              "31    JJR    157\n",
              "32    WRB     92\n",
              "33      $    342\n",
              "34   NNPS     95\n",
              "35    WP$      6\n",
              "36  -LRB-     52\n",
              "37  -RRB-     55\n",
              "38    PDT      9\n",
              "39    RBS     19\n",
              "40     FW      2\n",
              "41     UH      1\n",
              "42    SYM      1\n",
              "43     LS     10\n",
              "44      #      1"
            ]
          },
          "execution_count": 14,
          "metadata": {},
          "output_type": "execute_result"
        }
      ],
      "source": [
        "from collections import Counter\n",
        "\n",
        "train_tag_df = pd.DataFrame({'tag':Counter(train_tag_list).keys(), 'count':Counter(train_tag_list).values()})\n",
        "train_tag_df.head(50)\n",
        "\n",
        "# to sort the following table select the 'count' in the header"
      ]
    },
    {
      "cell_type": "markdown",
      "metadata": {
        "id": "xaPCgZwgL2SA"
      },
      "source": [
        "Here we can see the most frequent tags that are `NN`, `NNP`, `IN`, and so on. Now we will see the same thing in the validation set"
      ]
    },
    {
      "cell_type": "code",
      "execution_count": null,
      "metadata": {
        "colab": {
          "base_uri": "https://localhost:8080/",
          "height": 637
        },
        "id": "G73_dKATLBrd",
        "outputId": "4521abf5-f93f-4735-a836-9fb8c43d945e",
        "vscode": {
          "languageId": "python"
        }
      },
      "outputs": [
        {
          "data": {
            "application/vnd.google.colaboratory.module+javascript": "\n      import \"https://ssl.gstatic.com/colaboratory/data_table/fb998edc550c7947/data_table.js\";\n\n      window.createDataTable({\n        data: [[{\n            'v': 0,\n            'f': \"0\",\n        },\n\"DT\",\n{\n            'v': 2754,\n            'f': \"2754\",\n        }],\n [{\n            'v': 1,\n            'f': \"1\",\n        },\n\"NNP\",\n{\n            'v': 2704,\n            'f': \"2704\",\n        }],\n [{\n            'v': 2,\n            'f': \"2\",\n        },\n\"NN\",\n{\n            'v': 4513,\n            'f': \"4513\",\n        }],\n [{\n            'v': 3,\n            'f': \"3\",\n        },\n\"VBD\",\n{\n            'v': 861,\n            'f': \"861\",\n        }],\n [{\n            'v': 4,\n            'f': \"4\",\n        },\n\"JJ\",\n{\n            'v': 1924,\n            'f': \"1924\",\n        }],\n [{\n            'v': 5,\n            'f': \"5\",\n        },\n\"NNS\",\n{\n            'v': 2102,\n            'f': \"2102\",\n        }],\n [{\n            'v': 6,\n            'f': \"6\",\n        },\n\"IN\",\n{\n            'v': 3275,\n            'f': \"3275\",\n        }],\n [{\n            'v': 7,\n            'f': \"7\",\n        },\n\"JJR\",\n{\n            'v': 165,\n            'f': \"165\",\n        }],\n [{\n            'v': 8,\n            'f': \"8\",\n        },\n\"$\",\n{\n            'v': 173,\n            'f': \"173\",\n        }],\n [{\n            'v': 9,\n            'f': \"9\",\n        },\n\"CD\",\n{\n            'v': 1249,\n            'f': \"1249\",\n        }],\n [{\n            'v': 10,\n            'f': \"10\",\n        },\n\"WDT\",\n{\n            'v': 157,\n            'f': \"157\",\n        }],\n [{\n            'v': 11,\n            'f': \"11\",\n        },\n\"VBZ\",\n{\n            'v': 712,\n            'f': \"712\",\n        }],\n [{\n            'v': 12,\n            'f': \"12\",\n        },\n\"RB\",\n{\n            'v': 951,\n            'f': \"951\",\n        }],\n [{\n            'v': 13,\n            'f': \"13\",\n        },\n\"CC\",\n{\n            'v': 758,\n            'f': \"758\",\n        }],\n [{\n            'v': 14,\n            'f': \"14\",\n        },\n\"VBG\",\n{\n            'v': 476,\n            'f': \"476\",\n        }],\n [{\n            'v': 15,\n            'f': \"15\",\n        },\n\".\",\n{\n            'v': 1277,\n            'f': \"1277\",\n        }],\n [{\n            'v': 16,\n            'f': \"16\",\n        },\n\",\",\n{\n            'v': 1528,\n            'f': \"1528\",\n        }],\n [{\n            'v': 17,\n            'f': \"17\",\n        },\n\"VBN\",\n{\n            'v': 737,\n            'f': \"737\",\n        }],\n [{\n            'v': 18,\n            'f': \"18\",\n        },\n\"VBP\",\n{\n            'v': 460,\n            'f': \"460\",\n        }],\n [{\n            'v': 19,\n            'f': \"19\",\n        },\n\"JJS\",\n{\n            'v': 58,\n            'f': \"58\",\n        }],\n [{\n            'v': 20,\n            'f': \"20\",\n        },\n\"TO\",\n{\n            'v': 765,\n            'f': \"765\",\n        }],\n [{\n            'v': 21,\n            'f': \"21\",\n        },\n\"POS\",\n{\n            'v': 269,\n            'f': \"269\",\n        }],\n [{\n            'v': 22,\n            'f': \"22\",\n        },\n\"RBR\",\n{\n            'v': 35,\n            'f': \"35\",\n        }],\n [{\n            'v': 23,\n            'f': \"23\",\n        },\n\"MD\",\n{\n            'v': 347,\n            'f': \"347\",\n        }],\n [{\n            'v': 24,\n            'f': \"24\",\n        },\n\"VB\",\n{\n            'v': 956,\n            'f': \"956\",\n        }],\n [{\n            'v': 25,\n            'f': \"25\",\n        },\n\"NNPS\",\n{\n            'v': 105,\n            'f': \"105\",\n        }],\n [{\n            'v': 26,\n            'f': \"26\",\n        },\n\"PRP\",\n{\n            'v': 570,\n            'f': \"570\",\n        }],\n [{\n            'v': 27,\n            'f': \"27\",\n        },\n\"-LRB-\",\n{\n            'v': 50,\n            'f': \"50\",\n        }],\n [{\n            'v': 28,\n            'f': \"28\",\n        },\n\"-RRB-\",\n{\n            'v': 53,\n            'f': \"53\",\n        }],\n [{\n            'v': 29,\n            'f': \"29\",\n        },\n\"PRP$\",\n{\n            'v': 258,\n            'f': \"258\",\n        }],\n [{\n            'v': 30,\n            'f': \"30\",\n        },\n\":\",\n{\n            'v': 214,\n            'f': \"214\",\n        }],\n [{\n            'v': 31,\n            'f': \"31\",\n        },\n\"WP\",\n{\n            'v': 80,\n            'f': \"80\",\n        }],\n [{\n            'v': 32,\n            'f': \"32\",\n        },\n\"RBS\",\n{\n            'v': 13,\n            'f': \"13\",\n        }],\n [{\n            'v': 33,\n            'f': \"33\",\n        },\n\"EX\",\n{\n            'v': 34,\n            'f': \"34\",\n        }],\n [{\n            'v': 34,\n            'f': \"34\",\n        },\n\"WRB\",\n{\n            'v': 62,\n            'f': \"62\",\n        }],\n [{\n            'v': 35,\n            'f': \"35\",\n        },\n\"``\",\n{\n            'v': 230,\n            'f': \"230\",\n        }],\n [{\n            'v': 36,\n            'f': \"36\",\n        },\n\"''\",\n{\n            'v': 225,\n            'f': \"225\",\n        }],\n [{\n            'v': 37,\n            'f': \"37\",\n        },\n\"RP\",\n{\n            'v': 43,\n            'f': \"43\",\n        }],\n [{\n            'v': 38,\n            'f': \"38\",\n        },\n\"FW\",\n{\n            'v': 2,\n            'f': \"2\",\n        }],\n [{\n            'v': 39,\n            'f': \"39\",\n        },\n\"UH\",\n{\n            'v': 2,\n            'f': \"2\",\n        }],\n [{\n            'v': 40,\n            'f': \"40\",\n        },\n\"WP$\",\n{\n            'v': 4,\n            'f': \"4\",\n        }],\n [{\n            'v': 41,\n            'f': \"41\",\n        },\n\"PDT\",\n{\n            'v': 14,\n            'f': \"14\",\n        }],\n [{\n            'v': 42,\n            'f': \"42\",\n        },\n\"#\",\n{\n            'v': 15,\n            'f': \"15\",\n        }],\n [{\n            'v': 43,\n            'f': \"43\",\n        },\n\"LS\",\n{\n            'v': 3,\n            'f': \"3\",\n        }]],\n        columns: [[\"number\", \"index\"], [\"string\", \"tag\"], [\"number\", \"count\"]],\n        columnOptions: [{\"width\": \"1px\", \"className\": \"index_column\"}],\n        rowsPerPage: 25,\n        helpUrl: \"https://colab.research.google.com/notebooks/data_table.ipynb\",\n        suppressOutputScrolling: true,\n        minimumWidth: undefined,\n      });\n    ",
            "text/html": [
              "\n",
              "  <div id=\"df-32a27a6e-a9dc-43df-b95f-e2a412ffa5ea\">\n",
              "    <div class=\"colab-df-container\">\n",
              "      <div>\n",
              "<style scoped>\n",
              "    .dataframe tbody tr th:only-of-type {\n",
              "        vertical-align: middle;\n",
              "    }\n",
              "\n",
              "    .dataframe tbody tr th {\n",
              "        vertical-align: top;\n",
              "    }\n",
              "\n",
              "    .dataframe thead th {\n",
              "        text-align: right;\n",
              "    }\n",
              "</style>\n",
              "<table border=\"1\" class=\"dataframe\">\n",
              "  <thead>\n",
              "    <tr style=\"text-align: right;\">\n",
              "      <th></th>\n",
              "      <th>tag</th>\n",
              "      <th>count</th>\n",
              "    </tr>\n",
              "  </thead>\n",
              "  <tbody>\n",
              "    <tr>\n",
              "      <th>0</th>\n",
              "      <td>DT</td>\n",
              "      <td>2754</td>\n",
              "    </tr>\n",
              "    <tr>\n",
              "      <th>1</th>\n",
              "      <td>NNP</td>\n",
              "      <td>2704</td>\n",
              "    </tr>\n",
              "    <tr>\n",
              "      <th>2</th>\n",
              "      <td>NN</td>\n",
              "      <td>4513</td>\n",
              "    </tr>\n",
              "    <tr>\n",
              "      <th>3</th>\n",
              "      <td>VBD</td>\n",
              "      <td>861</td>\n",
              "    </tr>\n",
              "    <tr>\n",
              "      <th>4</th>\n",
              "      <td>JJ</td>\n",
              "      <td>1924</td>\n",
              "    </tr>\n",
              "    <tr>\n",
              "      <th>5</th>\n",
              "      <td>NNS</td>\n",
              "      <td>2102</td>\n",
              "    </tr>\n",
              "    <tr>\n",
              "      <th>6</th>\n",
              "      <td>IN</td>\n",
              "      <td>3275</td>\n",
              "    </tr>\n",
              "    <tr>\n",
              "      <th>7</th>\n",
              "      <td>JJR</td>\n",
              "      <td>165</td>\n",
              "    </tr>\n",
              "    <tr>\n",
              "      <th>8</th>\n",
              "      <td>$</td>\n",
              "      <td>173</td>\n",
              "    </tr>\n",
              "    <tr>\n",
              "      <th>9</th>\n",
              "      <td>CD</td>\n",
              "      <td>1249</td>\n",
              "    </tr>\n",
              "    <tr>\n",
              "      <th>10</th>\n",
              "      <td>WDT</td>\n",
              "      <td>157</td>\n",
              "    </tr>\n",
              "    <tr>\n",
              "      <th>11</th>\n",
              "      <td>VBZ</td>\n",
              "      <td>712</td>\n",
              "    </tr>\n",
              "    <tr>\n",
              "      <th>12</th>\n",
              "      <td>RB</td>\n",
              "      <td>951</td>\n",
              "    </tr>\n",
              "    <tr>\n",
              "      <th>13</th>\n",
              "      <td>CC</td>\n",
              "      <td>758</td>\n",
              "    </tr>\n",
              "    <tr>\n",
              "      <th>14</th>\n",
              "      <td>VBG</td>\n",
              "      <td>476</td>\n",
              "    </tr>\n",
              "    <tr>\n",
              "      <th>15</th>\n",
              "      <td>.</td>\n",
              "      <td>1277</td>\n",
              "    </tr>\n",
              "    <tr>\n",
              "      <th>16</th>\n",
              "      <td>,</td>\n",
              "      <td>1528</td>\n",
              "    </tr>\n",
              "    <tr>\n",
              "      <th>17</th>\n",
              "      <td>VBN</td>\n",
              "      <td>737</td>\n",
              "    </tr>\n",
              "    <tr>\n",
              "      <th>18</th>\n",
              "      <td>VBP</td>\n",
              "      <td>460</td>\n",
              "    </tr>\n",
              "    <tr>\n",
              "      <th>19</th>\n",
              "      <td>JJS</td>\n",
              "      <td>58</td>\n",
              "    </tr>\n",
              "    <tr>\n",
              "      <th>20</th>\n",
              "      <td>TO</td>\n",
              "      <td>765</td>\n",
              "    </tr>\n",
              "    <tr>\n",
              "      <th>21</th>\n",
              "      <td>POS</td>\n",
              "      <td>269</td>\n",
              "    </tr>\n",
              "    <tr>\n",
              "      <th>22</th>\n",
              "      <td>RBR</td>\n",
              "      <td>35</td>\n",
              "    </tr>\n",
              "    <tr>\n",
              "      <th>23</th>\n",
              "      <td>MD</td>\n",
              "      <td>347</td>\n",
              "    </tr>\n",
              "    <tr>\n",
              "      <th>24</th>\n",
              "      <td>VB</td>\n",
              "      <td>956</td>\n",
              "    </tr>\n",
              "    <tr>\n",
              "      <th>25</th>\n",
              "      <td>NNPS</td>\n",
              "      <td>105</td>\n",
              "    </tr>\n",
              "    <tr>\n",
              "      <th>26</th>\n",
              "      <td>PRP</td>\n",
              "      <td>570</td>\n",
              "    </tr>\n",
              "    <tr>\n",
              "      <th>27</th>\n",
              "      <td>-LRB-</td>\n",
              "      <td>50</td>\n",
              "    </tr>\n",
              "    <tr>\n",
              "      <th>28</th>\n",
              "      <td>-RRB-</td>\n",
              "      <td>53</td>\n",
              "    </tr>\n",
              "    <tr>\n",
              "      <th>29</th>\n",
              "      <td>PRP$</td>\n",
              "      <td>258</td>\n",
              "    </tr>\n",
              "    <tr>\n",
              "      <th>30</th>\n",
              "      <td>:</td>\n",
              "      <td>214</td>\n",
              "    </tr>\n",
              "    <tr>\n",
              "      <th>31</th>\n",
              "      <td>WP</td>\n",
              "      <td>80</td>\n",
              "    </tr>\n",
              "    <tr>\n",
              "      <th>32</th>\n",
              "      <td>RBS</td>\n",
              "      <td>13</td>\n",
              "    </tr>\n",
              "    <tr>\n",
              "      <th>33</th>\n",
              "      <td>EX</td>\n",
              "      <td>34</td>\n",
              "    </tr>\n",
              "    <tr>\n",
              "      <th>34</th>\n",
              "      <td>WRB</td>\n",
              "      <td>62</td>\n",
              "    </tr>\n",
              "    <tr>\n",
              "      <th>35</th>\n",
              "      <td>``</td>\n",
              "      <td>230</td>\n",
              "    </tr>\n",
              "    <tr>\n",
              "      <th>36</th>\n",
              "      <td>''</td>\n",
              "      <td>225</td>\n",
              "    </tr>\n",
              "    <tr>\n",
              "      <th>37</th>\n",
              "      <td>RP</td>\n",
              "      <td>43</td>\n",
              "    </tr>\n",
              "    <tr>\n",
              "      <th>38</th>\n",
              "      <td>FW</td>\n",
              "      <td>2</td>\n",
              "    </tr>\n",
              "    <tr>\n",
              "      <th>39</th>\n",
              "      <td>UH</td>\n",
              "      <td>2</td>\n",
              "    </tr>\n",
              "    <tr>\n",
              "      <th>40</th>\n",
              "      <td>WP$</td>\n",
              "      <td>4</td>\n",
              "    </tr>\n",
              "    <tr>\n",
              "      <th>41</th>\n",
              "      <td>PDT</td>\n",
              "      <td>14</td>\n",
              "    </tr>\n",
              "    <tr>\n",
              "      <th>42</th>\n",
              "      <td>#</td>\n",
              "      <td>15</td>\n",
              "    </tr>\n",
              "    <tr>\n",
              "      <th>43</th>\n",
              "      <td>LS</td>\n",
              "      <td>3</td>\n",
              "    </tr>\n",
              "  </tbody>\n",
              "</table>\n",
              "</div>\n",
              "      <button class=\"colab-df-convert\" onclick=\"convertToInteractive('df-32a27a6e-a9dc-43df-b95f-e2a412ffa5ea')\"\n",
              "              title=\"Convert this dataframe to an interactive table.\"\n",
              "              style=\"display:none;\">\n",
              "        \n",
              "  <svg xmlns=\"http://www.w3.org/2000/svg\" height=\"24px\"viewBox=\"0 0 24 24\"\n",
              "       width=\"24px\">\n",
              "    <path d=\"M0 0h24v24H0V0z\" fill=\"none\"/>\n",
              "    <path d=\"M18.56 5.44l.94 2.06.94-2.06 2.06-.94-2.06-.94-.94-2.06-.94 2.06-2.06.94zm-11 1L8.5 8.5l.94-2.06 2.06-.94-2.06-.94L8.5 2.5l-.94 2.06-2.06.94zm10 10l.94 2.06.94-2.06 2.06-.94-2.06-.94-.94-2.06-.94 2.06-2.06.94z\"/><path d=\"M17.41 7.96l-1.37-1.37c-.4-.4-.92-.59-1.43-.59-.52 0-1.04.2-1.43.59L10.3 9.45l-7.72 7.72c-.78.78-.78 2.05 0 2.83L4 21.41c.39.39.9.59 1.41.59.51 0 1.02-.2 1.41-.59l7.78-7.78 2.81-2.81c.8-.78.8-2.07 0-2.86zM5.41 20L4 18.59l7.72-7.72 1.47 1.35L5.41 20z\"/>\n",
              "  </svg>\n",
              "      </button>\n",
              "      \n",
              "  <style>\n",
              "    .colab-df-container {\n",
              "      display:flex;\n",
              "      flex-wrap:wrap;\n",
              "      gap: 12px;\n",
              "    }\n",
              "\n",
              "    .colab-df-convert {\n",
              "      background-color: #E8F0FE;\n",
              "      border: none;\n",
              "      border-radius: 50%;\n",
              "      cursor: pointer;\n",
              "      display: none;\n",
              "      fill: #1967D2;\n",
              "      height: 32px;\n",
              "      padding: 0 0 0 0;\n",
              "      width: 32px;\n",
              "    }\n",
              "\n",
              "    .colab-df-convert:hover {\n",
              "      background-color: #E2EBFA;\n",
              "      box-shadow: 0px 1px 2px rgba(60, 64, 67, 0.3), 0px 1px 3px 1px rgba(60, 64, 67, 0.15);\n",
              "      fill: #174EA6;\n",
              "    }\n",
              "\n",
              "    [theme=dark] .colab-df-convert {\n",
              "      background-color: #3B4455;\n",
              "      fill: #D2E3FC;\n",
              "    }\n",
              "\n",
              "    [theme=dark] .colab-df-convert:hover {\n",
              "      background-color: #434B5C;\n",
              "      box-shadow: 0px 1px 3px 1px rgba(0, 0, 0, 0.15);\n",
              "      filter: drop-shadow(0px 1px 2px rgba(0, 0, 0, 0.3));\n",
              "      fill: #FFFFFF;\n",
              "    }\n",
              "  </style>\n",
              "\n",
              "      <script>\n",
              "        const buttonEl =\n",
              "          document.querySelector('#df-32a27a6e-a9dc-43df-b95f-e2a412ffa5ea button.colab-df-convert');\n",
              "        buttonEl.style.display =\n",
              "          google.colab.kernel.accessAllowed ? 'block' : 'none';\n",
              "\n",
              "        async function convertToInteractive(key) {\n",
              "          const element = document.querySelector('#df-32a27a6e-a9dc-43df-b95f-e2a412ffa5ea');\n",
              "          const dataTable =\n",
              "            await google.colab.kernel.invokeFunction('convertToInteractive',\n",
              "                                                     [key], {});\n",
              "          if (!dataTable) return;\n",
              "\n",
              "          const docLinkHtml = 'Like what you see? Visit the ' +\n",
              "            '<a target=\"_blank\" href=https://colab.research.google.com/notebooks/data_table.ipynb>data table notebook</a>'\n",
              "            + ' to learn more about interactive tables.';\n",
              "          element.innerHTML = '';\n",
              "          dataTable['output_type'] = 'display_data';\n",
              "          await google.colab.output.renderOutput(dataTable, element);\n",
              "          const docLink = document.createElement('div');\n",
              "          docLink.innerHTML = docLinkHtml;\n",
              "          element.appendChild(docLink);\n",
              "        }\n",
              "      </script>\n",
              "    </div>\n",
              "  </div>\n",
              "  "
            ],
            "text/plain": [
              "      tag  count\n",
              "0      DT   2754\n",
              "1     NNP   2704\n",
              "2      NN   4513\n",
              "3     VBD    861\n",
              "4      JJ   1924\n",
              "5     NNS   2102\n",
              "6      IN   3275\n",
              "7     JJR    165\n",
              "8       $    173\n",
              "9      CD   1249\n",
              "10    WDT    157\n",
              "11    VBZ    712\n",
              "12     RB    951\n",
              "13     CC    758\n",
              "14    VBG    476\n",
              "15      .   1277\n",
              "16      ,   1528\n",
              "17    VBN    737\n",
              "18    VBP    460\n",
              "19    JJS     58\n",
              "20     TO    765\n",
              "21    POS    269\n",
              "22    RBR     35\n",
              "23     MD    347\n",
              "24     VB    956\n",
              "25   NNPS    105\n",
              "26    PRP    570\n",
              "27  -LRB-     50\n",
              "28  -RRB-     53\n",
              "29   PRP$    258\n",
              "30      :    214\n",
              "31     WP     80\n",
              "32    RBS     13\n",
              "33     EX     34\n",
              "34    WRB     62\n",
              "35     ``    230\n",
              "36     ''    225\n",
              "37     RP     43\n",
              "38     FW      2\n",
              "39     UH      2\n",
              "40    WP$      4\n",
              "41    PDT     14\n",
              "42      #     15\n",
              "43     LS      3"
            ]
          },
          "execution_count": 15,
          "metadata": {},
          "output_type": "execute_result"
        }
      ],
      "source": [
        "validation_tag_df = pd.DataFrame({'tag':Counter(validation_tag_list).keys(), 'count':Counter(validation_tag_list).values()})\n",
        "validation_tag_df.head(50)"
      ]
    },
    {
      "cell_type": "code",
      "execution_count": null,
      "metadata": {
        "colab": {
          "base_uri": "https://localhost:8080/",
          "height": 913
        },
        "id": "_Kd9Fhxf4lad",
        "outputId": "2af69ff7-3003-4671-f7bd-f799a24c34fb",
        "vscode": {
          "languageId": "python"
        }
      },
      "outputs": [
        {
          "data": {
            "image/png": "[encoded data removed]",
            "text/plain": [
              "<Figure size 1440x576 with 1 Axes>"
            ]
          },
          "metadata": {
            "needs_background": "light"
          },
          "output_type": "display_data"
        },
        {
          "data": {
            "image/png": "[encoded data removed]",
            "text/plain": [
              "<Figure size 1440x576 with 1 Axes>"
            ]
          },
          "metadata": {
            "needs_background": "light"
          },
          "output_type": "display_data"
        }
      ],
      "source": [
        "import matplotlib.pyplot as plt\n",
        "import seaborn as sns\n",
        "\n",
        "plt.figure(figsize=(20,8))\n",
        "sns.countplot(x = train_tag_list, order=ind2tag)\n",
        "plt.title('Distribution of tags in train set', size = 15)\n",
        "plt.show()\n",
        "\n",
        "plt.figure(figsize=(20,8))\n",
        "sns.countplot(x = validation_tag_list, order=ind2tag)\n",
        "plt.title('Distribution of tags in validation set', size = 15)\n",
        "plt.show()\n"
      ]
    },
    {
      "cell_type": "markdown",
      "metadata": {
        "id": "fJQmlQjMvAE0"
      },
      "source": [
        "We can see that the tags' distribution in both train and validation sets are almost similar. Now we can extract the features from the datasets by vectorizing the words and tags in the sequences."
      ]
    },
    {
      "cell_type": "markdown",
      "metadata": {
        "id": "JiUbE1nUtC_x"
      },
      "source": [
        "#### Vectorization\n",
        "Now we vectorize the sequences (sentences and tags) in the train, validation, and test set. But first, we have to consider the puctuation and remove them for validation and test set."
      ]
    },
    {
      "cell_type": "markdown",
      "metadata": {
        "id": "U2PFM8uIemf9"
      },
      "source": [
        "#### Handling Puctuations\n",
        "As we discussed in the beginning we have to ignore the puntuation when evaluating the test and the validation set. First we get the punctuation indexes so we can ignore them at evaluation time."
      ]
    },
    {
      "cell_type": "code",
      "execution_count": null,
      "metadata": {
        "colab": {
          "base_uri": "https://localhost:8080/"
        },
        "id": "4EMGmPBY2OTn",
        "outputId": "3d4dabd5-251c-4951-9dd6-610967324664",
        "vscode": {
          "languageId": "python"
        }
      },
      "outputs": [
        {
          "name": "stdout",
          "output_type": "stream",
          "text": [
            "Tags list with 46 unique tags is:\n",
            "\n",
            "['<pad>' 'NNP' ',' 'CD' 'NNS' 'JJ' 'MD' 'VB' 'DT' 'NN' 'IN' '.' 'VBZ'\n",
            " 'VBG' 'CC' 'VBD' 'VBN' 'RB' 'TO' 'PRP' 'RBR' 'WDT' 'VBP' 'RP' 'PRP$'\n",
            " 'JJS' 'POS' '``' 'EX' \"''\" 'WP' ':' 'JJR' 'WRB' '$' 'NNPS' 'WP$' '-LRB-'\n",
            " '-RRB-' 'PDT' 'RBS' 'FW' 'UH' 'SYM' 'LS' '#']\n"
          ]
        }
      ],
      "source": [
        "print(f'Tags list with {len(tag2idx)} unique tags is:\\n')\n",
        "print(ind2tag)"
      ]
    },
    {
      "cell_type": "code",
      "execution_count": null,
      "metadata": {
        "colab": {
          "base_uri": "https://localhost:8080/"
        },
        "id": "zSDJiNnRei_S",
        "outputId": "5b123604-fab2-477f-fc37-ff01cb9fa05e",
        "vscode": {
          "languageId": "python"
        }
      },
      "outputs": [
        {
          "name": "stdout",
          "output_type": "stream",
          "text": [
            "List of Enlish punctuatios\n",
            "\n",
            "['!', '\"', '#', '$', '%', '&', \"'\", '(', ')', '*', '+', ',', '-', '.', '/', ':', ';', '<', '=', '>', '?', '@', '[', '\\\\', ']', '^', '_', '`', '{', '|', '}', '~']\n"
          ]
        }
      ],
      "source": [
        "import string\n",
        "punct = list(string.punctuation)\n",
        "\n",
        "print('List of Enlish punctuatios\\n')\n",
        "print(punct)"
      ]
    },
    {
      "cell_type": "markdown",
      "metadata": {
        "id": "myrlTODT38JV"
      },
      "source": [
        "There are two other symbols (\" \\`  ` \" and \" ' ' \") that are in the tag list but not in the puctuation list and are irrelevant when we want to evaluate the results. We simply add them manually and ignore them during the evaluation."
      ]
    },
    {
      "cell_type": "code",
      "execution_count": null,
      "metadata": {
        "id": "nP-G77a15aSo",
        "vscode": {
          "languageId": "python"
        }
      },
      "outputs": [],
      "source": [
        "punct = punct + ['``',\"''\"]"
      ]
    },
    {
      "cell_type": "code",
      "execution_count": null,
      "metadata": {
        "colab": {
          "base_uri": "https://localhost:8080/"
        },
        "id": "exAV-4rU37yP",
        "outputId": "00e36b27-84cc-41d4-b77f-e3b8b5906c6a",
        "vscode": {
          "languageId": "python"
        }
      },
      "outputs": [
        {
          "name": "stdout",
          "output_type": "stream",
          "text": [
            "Indices of the puctuations in the tags' list are: [2, 11, 27, 29, 31, 34, 45]\n"
          ]
        }
      ],
      "source": [
        "ignore_indices = []\n",
        "for i, tag in enumerate(ind2tag):\n",
        "  if tag in punct:\n",
        "    ignore_indices.append(i)\n",
        "\n",
        "print('Indices of the puctuations in the tags\\' list are:', ignore_indices)"
      ]
    },
    {
      "cell_type": "markdown",
      "metadata": {
        "id": "bJSPQ6p8bLSI"
      },
      "source": [
        "We set the extracted punctuation and symbols indices to 0 so we can ignore them in evaluation phase by setting `ignore_index` attribute of the loss function to 0."
      ]
    },
    {
      "cell_type": "code",
      "execution_count": null,
      "metadata": {
        "id": "pG2N4bN2FTwt",
        "vscode": {
          "languageId": "python"
        }
      },
      "outputs": [],
      "source": [
        "# vectorization\n",
        "def seq_vec(seq):\n",
        "  return [word2idx[word] for word in seq]\n",
        "\n",
        "def tag_vec(tags):\n",
        "  return [tag2idx[tag] for tag in tags]\n",
        "\n",
        "# we use this function for vaildation and test set to assign 0 to the puncts and symbols\n",
        "def tag_vec_ignore_punct(tags):\n",
        "  return [tag2idx[tag] if  tag not in punct else 0 for tag in tags]\n",
        "\n",
        "\n",
        "X_train = list(map(seq_vec, train_split['sentence']))\n",
        "y_train = list(map(tag_vec, train_split['tag']))\n",
        "\n",
        "X_val = list(map(seq_vec, val_split['sentence']))\n",
        "y_val = list(map(tag_vec_ignore_punct, val_split['tag']))\n",
        "\n",
        "X_test = list(map(seq_vec, test_split['sentence']))\n",
        "y_test = list(map(tag_vec_ignore_punct, test_split['tag']))"
      ]
    },
    {
      "cell_type": "markdown",
      "metadata": {
        "id": "jAccn2xpRrnn"
      },
      "source": [
        "The vectorized data looks like the following:"
      ]
    },
    {
      "cell_type": "code",
      "execution_count": null,
      "metadata": {
        "colab": {
          "base_uri": "https://localhost:8080/",
          "height": 197
        },
        "id": "ZvNcdwFz1hnK",
        "outputId": "8e0af15a-5432-4b74-fb93-066a87f63e69",
        "vscode": {
          "languageId": "python"
        }
      },
      "outputs": [
        {
          "data": {
            "application/vnd.google.colaboratory.module+javascript": "\n      import \"https://ssl.gstatic.com/colaboratory/data_table/fb998edc550c7947/data_table.js\";\n\n      window.createDataTable({\n        data: [[{\n            'v': 0,\n            'f': \"0\",\n        },\n[\"Pierre\", \"Vinken\", \",\", \"61\", \"years\", \"old\", \",\", \"will\", \"join\", \"the\", \"board\", \"as\", \"a\", \"nonexecutive\", \"director\", \"Nov.\", \"29\", \".\"],\n[400519, 401535, 2, 4979, 83, 168, 2, 44, 1430, 1, 535, 20, 8, 128565, 370, 400018, 1264, 3]],\n [{\n            'v': 1,\n            'f': \"1\",\n        },\n[\"Mr.\", \"Vinken\", \"is\", \"chairman\", \"of\", \"Elsevier\", \"N.V.\", \",\", \"the\", \"Dutch\", \"publishing\", \"group\", \".\"],\n[401844, 401535, 15, 664, 4, 400448, 401338, 2, 1, 400450, 3649, 130, 3]],\n [{\n            'v': 2,\n            'f': \"2\",\n        },\n[\"Rudolph\", \"Agnew\", \",\", \"55\", \"years\", \"old\", \"and\", \"former\", \"chairman\", \"of\", \"Consolidated\", \"Gold\", \"Fields\", \"PLC\", \",\", \"was\", \"named\", \"a\", \"nonexecutive\", \"director\", \"of\", \"this\", \"British\", \"industrial\", \"conglomerate\", \".\"],\n[400548, 401235, 2, 3069, 83, 168, 6, 158, 664, 4, 401212, 400242, 401431, 400799, 2, 16, 565, 8, 128565, 370, 4, 38, 400538, 1272, 10254, 3]],\n [{\n            'v': 3,\n            'f': \"3\",\n        },\n[\"A\", \"form\", \"of\", \"asbestos\", \"once\", \"used\", \"to\", \"make\", \"Kent\", \"cigarette\", \"filters\", \"has\", \"caused\", \"a\", \"high\", \"percentage\", \"of\", \"cancer\", \"deaths\", \"among\", \"a\", \"group\", \"of\", \"workers\", \"exposed\", \"to\", \"it\", \"more\", \"than\", \"30\", \"years\", \"ago\", \",\", \"researchers\", \"reported\", \".\"],\n[400946, 684, 4, 14666, 443, 181, 5, 160, 401520, 7017, 16039, 32, 1099, 8, 153, 2458, 4, 1648, 1934, 245, 8, 130, 4, 538, 4498, 5, 21, 57, 74, 408, 83, 364, 2, 2635, 294, 3]],\n [{\n            'v': 4,\n            'f': \"4\",\n        },\n[\"The\", \"asbestos\", \"fiber\", \",\", \"crocidolite\", \",\", \"is\", \"unusually\", \"resilient\", \"once\", \"it\", \"enters\", \"the\", \"lungs\", \",\", \"with\", \"even\", \"brief\", \"exposures\", \"to\", \"it\", \"causing\", \"symptoms\", \"that\", \"show\", \"up\", \"decades\", \"later\", \",\", \"researchers\", \"said\", \".\"],\n[401255, 14666, 7677, 2, 401159, 2, 15, 7683, 18184, 443, 21, 7433, 1, 13083, 2, 18, 152, 2462, 29498, 5, 21, 2866, 5004, 13, 274, 61, 1425, 169, 2, 2635, 17, 3]]],\n        columns: [[\"number\", \"index\"], [\"string\", \"Sentence\"], [\"string\", \"Vectorized Sentence\"]],\n        columnOptions: [{\"width\": \"1px\", \"className\": \"index_column\"}],\n        rowsPerPage: 25,\n        helpUrl: \"https://colab.research.google.com/notebooks/data_table.ipynb\",\n        suppressOutputScrolling: true,\n        minimumWidth: undefined,\n      });\n    ",
            "text/html": [
              "\n",
              "  <div id=\"df-d7f8ae44-0771-4fda-8aac-37032ca5e320\">\n",
              "    <div class=\"colab-df-container\">\n",
              "      <div>\n",
              "<style scoped>\n",
              "    .dataframe tbody tr th:only-of-type {\n",
              "        vertical-align: middle;\n",
              "    }\n",
              "\n",
              "    .dataframe tbody tr th {\n",
              "        vertical-align: top;\n",
              "    }\n",
              "\n",
              "    .dataframe thead th {\n",
              "        text-align: right;\n",
              "    }\n",
              "</style>\n",
              "<table border=\"1\" class=\"dataframe\">\n",
              "  <thead>\n",
              "    <tr style=\"text-align: right;\">\n",
              "      <th></th>\n",
              "      <th>Sentence</th>\n",
              "      <th>Vectorized Sentence</th>\n",
              "    </tr>\n",
              "  </thead>\n",
              "  <tbody>\n",
              "    <tr>\n",
              "      <th>0</th>\n",
              "      <td>[Pierre, Vinken, ,, 61, years, old, ,, will, j...</td>\n",
              "      <td>[400519, 401535, 2, 4979, 83, 168, 2, 44, 1430...</td>\n",
              "    </tr>\n",
              "    <tr>\n",
              "      <th>1</th>\n",
              "      <td>[Mr., Vinken, is, chairman, of, Elsevier, N.V....</td>\n",
              "      <td>[401844, 401535, 15, 664, 4, 400448, 401338, 2...</td>\n",
              "    </tr>\n",
              "    <tr>\n",
              "      <th>2</th>\n",
              "      <td>[Rudolph, Agnew, ,, 55, years, old, and, forme...</td>\n",
              "      <td>[400548, 401235, 2, 3069, 83, 168, 6, 158, 664...</td>\n",
              "    </tr>\n",
              "    <tr>\n",
              "      <th>3</th>\n",
              "      <td>[A, form, of, asbestos, once, used, to, make, ...</td>\n",
              "      <td>[400946, 684, 4, 14666, 443, 181, 5, 160, 4015...</td>\n",
              "    </tr>\n",
              "    <tr>\n",
              "      <th>4</th>\n",
              "      <td>[The, asbestos, fiber, ,, crocidolite, ,, is, ...</td>\n",
              "      <td>[401255, 14666, 7677, 2, 401159, 2, 15, 7683, ...</td>\n",
              "    </tr>\n",
              "  </tbody>\n",
              "</table>\n",
              "</div>\n",
              "      <button class=\"colab-df-convert\" onclick=\"convertToInteractive('df-d7f8ae44-0771-4fda-8aac-37032ca5e320')\"\n",
              "              title=\"Convert this dataframe to an interactive table.\"\n",
              "              style=\"display:none;\">\n",
              "        \n",
              "  <svg xmlns=\"http://www.w3.org/2000/svg\" height=\"24px\"viewBox=\"0 0 24 24\"\n",
              "       width=\"24px\">\n",
              "    <path d=\"M0 0h24v24H0V0z\" fill=\"none\"/>\n",
              "    <path d=\"M18.56 5.44l.94 2.06.94-2.06 2.06-.94-2.06-.94-.94-2.06-.94 2.06-2.06.94zm-11 1L8.5 8.5l.94-2.06 2.06-.94-2.06-.94L8.5 2.5l-.94 2.06-2.06.94zm10 10l.94 2.06.94-2.06 2.06-.94-2.06-.94-.94-2.06-.94 2.06-2.06.94z\"/><path d=\"M17.41 7.96l-1.37-1.37c-.4-.4-.92-.59-1.43-.59-.52 0-1.04.2-1.43.59L10.3 9.45l-7.72 7.72c-.78.78-.78 2.05 0 2.83L4 21.41c.39.39.9.59 1.41.59.51 0 1.02-.2 1.41-.59l7.78-7.78 2.81-2.81c.8-.78.8-2.07 0-2.86zM5.41 20L4 18.59l7.72-7.72 1.47 1.35L5.41 20z\"/>\n",
              "  </svg>\n",
              "      </button>\n",
              "      \n",
              "  <style>\n",
              "    .colab-df-container {\n",
              "      display:flex;\n",
              "      flex-wrap:wrap;\n",
              "      gap: 12px;\n",
              "    }\n",
              "\n",
              "    .colab-df-convert {\n",
              "      background-color: #E8F0FE;\n",
              "      border: none;\n",
              "      border-radius: 50%;\n",
              "      cursor: pointer;\n",
              "      display: none;\n",
              "      fill: #1967D2;\n",
              "      height: 32px;\n",
              "      padding: 0 0 0 0;\n",
              "      width: 32px;\n",
              "    }\n",
              "\n",
              "    .colab-df-convert:hover {\n",
              "      background-color: #E2EBFA;\n",
              "      box-shadow: 0px 1px 2px rgba(60, 64, 67, 0.3), 0px 1px 3px 1px rgba(60, 64, 67, 0.15);\n",
              "      fill: #174EA6;\n",
              "    }\n",
              "\n",
              "    [theme=dark] .colab-df-convert {\n",
              "      background-color: #3B4455;\n",
              "      fill: #D2E3FC;\n",
              "    }\n",
              "\n",
              "    [theme=dark] .colab-df-convert:hover {\n",
              "      background-color: #434B5C;\n",
              "      box-shadow: 0px 1px 3px 1px rgba(0, 0, 0, 0.15);\n",
              "      filter: drop-shadow(0px 1px 2px rgba(0, 0, 0, 0.3));\n",
              "      fill: #FFFFFF;\n",
              "    }\n",
              "  </style>\n",
              "\n",
              "      <script>\n",
              "        const buttonEl =\n",
              "          document.querySelector('#df-d7f8ae44-0771-4fda-8aac-37032ca5e320 button.colab-df-convert');\n",
              "        buttonEl.style.display =\n",
              "          google.colab.kernel.accessAllowed ? 'block' : 'none';\n",
              "\n",
              "        async function convertToInteractive(key) {\n",
              "          const element = document.querySelector('#df-d7f8ae44-0771-4fda-8aac-37032ca5e320');\n",
              "          const dataTable =\n",
              "            await google.colab.kernel.invokeFunction('convertToInteractive',\n",
              "                                                     [key], {});\n",
              "          if (!dataTable) return;\n",
              "\n",
              "          const docLinkHtml = 'Like what you see? Visit the ' +\n",
              "            '<a target=\"_blank\" href=https://colab.research.google.com/notebooks/data_table.ipynb>data table notebook</a>'\n",
              "            + ' to learn more about interactive tables.';\n",
              "          element.innerHTML = '';\n",
              "          dataTable['output_type'] = 'display_data';\n",
              "          await google.colab.output.renderOutput(dataTable, element);\n",
              "          const docLink = document.createElement('div');\n",
              "          docLink.innerHTML = docLinkHtml;\n",
              "          element.appendChild(docLink);\n",
              "        }\n",
              "      </script>\n",
              "    </div>\n",
              "  </div>\n",
              "  "
            ],
            "text/plain": [
              "                                            Sentence  \\\n",
              "0  [Pierre, Vinken, ,, 61, years, old, ,, will, j...   \n",
              "1  [Mr., Vinken, is, chairman, of, Elsevier, N.V....   \n",
              "2  [Rudolph, Agnew, ,, 55, years, old, and, forme...   \n",
              "3  [A, form, of, asbestos, once, used, to, make, ...   \n",
              "4  [The, asbestos, fiber, ,, crocidolite, ,, is, ...   \n",
              "\n",
              "                                 Vectorized Sentence  \n",
              "0  [400519, 401535, 2, 4979, 83, 168, 2, 44, 1430...  \n",
              "1  [401844, 401535, 15, 664, 4, 400448, 401338, 2...  \n",
              "2  [400548, 401235, 2, 3069, 83, 168, 6, 158, 664...  \n",
              "3  [400946, 684, 4, 14666, 443, 181, 5, 160, 4015...  \n",
              "4  [401255, 14666, 7677, 2, 401159, 2, 15, 7683, ...  "
            ]
          },
          "execution_count": 22,
          "metadata": {},
          "output_type": "execute_result"
        }
      ],
      "source": [
        "temp = pd.DataFrame({'Sentence':train_split['sentence'], 'Vectorized Sentence':X_train})\n",
        "temp.head()"
      ]
    },
    {
      "cell_type": "code",
      "execution_count": null,
      "metadata": {
        "colab": {
          "base_uri": "https://localhost:8080/",
          "height": 197
        },
        "id": "7qTBwZR9RV0T",
        "outputId": "5fa66c97-938d-4e69-a059-9887b55c57b3",
        "vscode": {
          "languageId": "python"
        }
      },
      "outputs": [
        {
          "data": {
            "application/vnd.google.colaboratory.module+javascript": "\n      import \"https://ssl.gstatic.com/colaboratory/data_table/fb998edc550c7947/data_table.js\";\n\n      window.createDataTable({\n        data: [[{\n            'v': 0,\n            'f': \"0\",\n        },\n[\"NNP\", \"NNP\", \",\", \"CD\", \"NNS\", \"JJ\", \",\", \"MD\", \"VB\", \"DT\", \"NN\", \"IN\", \"DT\", \"JJ\", \"NN\", \"NNP\", \"CD\", \".\"],\n[1, 1, 2, 3, 4, 5, 2, 6, 7, 8, 9, 10, 8, 5, 9, 1, 3, 11]],\n [{\n            'v': 1,\n            'f': \"1\",\n        },\n[\"NNP\", \"NNP\", \"VBZ\", \"NN\", \"IN\", \"NNP\", \"NNP\", \",\", \"DT\", \"NNP\", \"VBG\", \"NN\", \".\"],\n[1, 1, 12, 9, 10, 1, 1, 2, 8, 1, 13, 9, 11]],\n [{\n            'v': 2,\n            'f': \"2\",\n        },\n[\"NNP\", \"NNP\", \",\", \"CD\", \"NNS\", \"JJ\", \"CC\", \"JJ\", \"NN\", \"IN\", \"NNP\", \"NNP\", \"NNP\", \"NNP\", \",\", \"VBD\", \"VBN\", \"DT\", \"JJ\", \"NN\", \"IN\", \"DT\", \"JJ\", \"JJ\", \"NN\", \".\"],\n[1, 1, 2, 3, 4, 5, 14, 5, 9, 10, 1, 1, 1, 1, 2, 15, 16, 8, 5, 9, 10, 8, 5, 5, 9, 11]],\n [{\n            'v': 3,\n            'f': \"3\",\n        },\n[\"DT\", \"NN\", \"IN\", \"NN\", \"RB\", \"VBN\", \"TO\", \"VB\", \"NNP\", \"NN\", \"NNS\", \"VBZ\", \"VBN\", \"DT\", \"JJ\", \"NN\", \"IN\", \"NN\", \"NNS\", \"IN\", \"DT\", \"NN\", \"IN\", \"NNS\", \"VBN\", \"TO\", \"PRP\", \"RBR\", \"IN\", \"CD\", \"NNS\", \"IN\", \",\", \"NNS\", \"VBD\", \".\"],\n[8, 9, 10, 9, 17, 16, 18, 7, 1, 9, 4, 12, 16, 8, 5, 9, 10, 9, 4, 10, 8, 9, 10, 4, 16, 18, 19, 20, 10, 3, 4, 10, 2, 4, 15, 11]],\n [{\n            'v': 4,\n            'f': \"4\",\n        },\n[\"DT\", \"NN\", \"NN\", \",\", \"NN\", \",\", \"VBZ\", \"RB\", \"JJ\", \"IN\", \"PRP\", \"VBZ\", \"DT\", \"NNS\", \",\", \"IN\", \"RB\", \"JJ\", \"NNS\", \"TO\", \"PRP\", \"VBG\", \"NNS\", \"WDT\", \"VBP\", \"RP\", \"NNS\", \"JJ\", \",\", \"NNS\", \"VBD\", \".\"],\n[8, 9, 9, 2, 9, 2, 12, 17, 5, 10, 19, 12, 8, 4, 2, 10, 17, 5, 4, 18, 19, 13, 4, 21, 22, 23, 4, 5, 2, 4, 15, 11]]],\n        columns: [[\"number\", \"index\"], [\"string\", \"Sentence\"], [\"string\", \"Vectorized Sentence\"]],\n        columnOptions: [{\"width\": \"1px\", \"className\": \"index_column\"}],\n        rowsPerPage: 25,\n        helpUrl: \"https://colab.research.google.com/notebooks/data_table.ipynb\",\n        suppressOutputScrolling: true,\n        minimumWidth: undefined,\n      });\n    ",
            "text/html": [
              "\n",
              "  <div id=\"df-684e2de5-60f9-48f9-8f63-51bd8b9d863f\">\n",
              "    <div class=\"colab-df-container\">\n",
              "      <div>\n",
              "<style scoped>\n",
              "    .dataframe tbody tr th:only-of-type {\n",
              "        vertical-align: middle;\n",
              "    }\n",
              "\n",
              "    .dataframe tbody tr th {\n",
              "        vertical-align: top;\n",
              "    }\n",
              "\n",
              "    .dataframe thead th {\n",
              "        text-align: right;\n",
              "    }\n",
              "</style>\n",
              "<table border=\"1\" class=\"dataframe\">\n",
              "  <thead>\n",
              "    <tr style=\"text-align: right;\">\n",
              "      <th></th>\n",
              "      <th>Sentence</th>\n",
              "      <th>Vectorized Sentence</th>\n",
              "    </tr>\n",
              "  </thead>\n",
              "  <tbody>\n",
              "    <tr>\n",
              "      <th>0</th>\n",
              "      <td>[NNP, NNP, ,, CD, NNS, JJ, ,, MD, VB, DT, NN, ...</td>\n",
              "      <td>[1, 1, 2, 3, 4, 5, 2, 6, 7, 8, 9, 10, 8, 5, 9,...</td>\n",
              "    </tr>\n",
              "    <tr>\n",
              "      <th>1</th>\n",
              "      <td>[NNP, NNP, VBZ, NN, IN, NNP, NNP, ,, DT, NNP, ...</td>\n",
              "      <td>[1, 1, 12, 9, 10, 1, 1, 2, 8, 1, 13, 9, 11]</td>\n",
              "    </tr>\n",
              "    <tr>\n",
              "      <th>2</th>\n",
              "      <td>[NNP, NNP, ,, CD, NNS, JJ, CC, JJ, NN, IN, NNP...</td>\n",
              "      <td>[1, 1, 2, 3, 4, 5, 14, 5, 9, 10, 1, 1, 1, 1, 2...</td>\n",
              "    </tr>\n",
              "    <tr>\n",
              "      <th>3</th>\n",
              "      <td>[DT, NN, IN, NN, RB, VBN, TO, VB, NNP, NN, NNS...</td>\n",
              "      <td>[8, 9, 10, 9, 17, 16, 18, 7, 1, 9, 4, 12, 16, ...</td>\n",
              "    </tr>\n",
              "    <tr>\n",
              "      <th>4</th>\n",
              "      <td>[DT, NN, NN, ,, NN, ,, VBZ, RB, JJ, IN, PRP, V...</td>\n",
              "      <td>[8, 9, 9, 2, 9, 2, 12, 17, 5, 10, 19, 12, 8, 4...</td>\n",
              "    </tr>\n",
              "  </tbody>\n",
              "</table>\n",
              "</div>\n",
              "      <button class=\"colab-df-convert\" onclick=\"convertToInteractive('df-684e2de5-60f9-48f9-8f63-51bd8b9d863f')\"\n",
              "              title=\"Convert this dataframe to an interactive table.\"\n",
              "              style=\"display:none;\">\n",
              "        \n",
              "  <svg xmlns=\"http://www.w3.org/2000/svg\" height=\"24px\"viewBox=\"0 0 24 24\"\n",
              "       width=\"24px\">\n",
              "    <path d=\"M0 0h24v24H0V0z\" fill=\"none\"/>\n",
              "    <path d=\"M18.56 5.44l.94 2.06.94-2.06 2.06-.94-2.06-.94-.94-2.06-.94 2.06-2.06.94zm-11 1L8.5 8.5l.94-2.06 2.06-.94-2.06-.94L8.5 2.5l-.94 2.06-2.06.94zm10 10l.94 2.06.94-2.06 2.06-.94-2.06-.94-.94-2.06-.94 2.06-2.06.94z\"/><path d=\"M17.41 7.96l-1.37-1.37c-.4-.4-.92-.59-1.43-.59-.52 0-1.04.2-1.43.59L10.3 9.45l-7.72 7.72c-.78.78-.78 2.05 0 2.83L4 21.41c.39.39.9.59 1.41.59.51 0 1.02-.2 1.41-.59l7.78-7.78 2.81-2.81c.8-.78.8-2.07 0-2.86zM5.41 20L4 18.59l7.72-7.72 1.47 1.35L5.41 20z\"/>\n",
              "  </svg>\n",
              "      </button>\n",
              "      \n",
              "  <style>\n",
              "    .colab-df-container {\n",
              "      display:flex;\n",
              "      flex-wrap:wrap;\n",
              "      gap: 12px;\n",
              "    }\n",
              "\n",
              "    .colab-df-convert {\n",
              "      background-color: #E8F0FE;\n",
              "      border: none;\n",
              "      border-radius: 50%;\n",
              "      cursor: pointer;\n",
              "      display: none;\n",
              "      fill: #1967D2;\n",
              "      height: 32px;\n",
              "      padding: 0 0 0 0;\n",
              "      width: 32px;\n",
              "    }\n",
              "\n",
              "    .colab-df-convert:hover {\n",
              "      background-color: #E2EBFA;\n",
              "      box-shadow: 0px 1px 2px rgba(60, 64, 67, 0.3), 0px 1px 3px 1px rgba(60, 64, 67, 0.15);\n",
              "      fill: #174EA6;\n",
              "    }\n",
              "\n",
              "    [theme=dark] .colab-df-convert {\n",
              "      background-color: #3B4455;\n",
              "      fill: #D2E3FC;\n",
              "    }\n",
              "\n",
              "    [theme=dark] .colab-df-convert:hover {\n",
              "      background-color: #434B5C;\n",
              "      box-shadow: 0px 1px 3px 1px rgba(0, 0, 0, 0.15);\n",
              "      filter: drop-shadow(0px 1px 2px rgba(0, 0, 0, 0.3));\n",
              "      fill: #FFFFFF;\n",
              "    }\n",
              "  </style>\n",
              "\n",
              "      <script>\n",
              "        const buttonEl =\n",
              "          document.querySelector('#df-684e2de5-60f9-48f9-8f63-51bd8b9d863f button.colab-df-convert');\n",
              "        buttonEl.style.display =\n",
              "          google.colab.kernel.accessAllowed ? 'block' : 'none';\n",
              "\n",
              "        async function convertToInteractive(key) {\n",
              "          const element = document.querySelector('#df-684e2de5-60f9-48f9-8f63-51bd8b9d863f');\n",
              "          const dataTable =\n",
              "            await google.colab.kernel.invokeFunction('convertToInteractive',\n",
              "                                                     [key], {});\n",
              "          if (!dataTable) return;\n",
              "\n",
              "          const docLinkHtml = 'Like what you see? Visit the ' +\n",
              "            '<a target=\"_blank\" href=https://colab.research.google.com/notebooks/data_table.ipynb>data table notebook</a>'\n",
              "            + ' to learn more about interactive tables.';\n",
              "          element.innerHTML = '';\n",
              "          dataTable['output_type'] = 'display_data';\n",
              "          await google.colab.output.renderOutput(dataTable, element);\n",
              "          const docLink = document.createElement('div');\n",
              "          docLink.innerHTML = docLinkHtml;\n",
              "          element.appendChild(docLink);\n",
              "        }\n",
              "      </script>\n",
              "    </div>\n",
              "  </div>\n",
              "  "
            ],
            "text/plain": [
              "                                            Sentence  \\\n",
              "0  [NNP, NNP, ,, CD, NNS, JJ, ,, MD, VB, DT, NN, ...   \n",
              "1  [NNP, NNP, VBZ, NN, IN, NNP, NNP, ,, DT, NNP, ...   \n",
              "2  [NNP, NNP, ,, CD, NNS, JJ, CC, JJ, NN, IN, NNP...   \n",
              "3  [DT, NN, IN, NN, RB, VBN, TO, VB, NNP, NN, NNS...   \n",
              "4  [DT, NN, NN, ,, NN, ,, VBZ, RB, JJ, IN, PRP, V...   \n",
              "\n",
              "                                 Vectorized Sentence  \n",
              "0  [1, 1, 2, 3, 4, 5, 2, 6, 7, 8, 9, 10, 8, 5, 9,...  \n",
              "1        [1, 1, 12, 9, 10, 1, 1, 2, 8, 1, 13, 9, 11]  \n",
              "2  [1, 1, 2, 3, 4, 5, 14, 5, 9, 10, 1, 1, 1, 1, 2...  \n",
              "3  [8, 9, 10, 9, 17, 16, 18, 7, 1, 9, 4, 12, 16, ...  \n",
              "4  [8, 9, 9, 2, 9, 2, 12, 17, 5, 10, 19, 12, 8, 4...  "
            ]
          },
          "execution_count": 23,
          "metadata": {},
          "output_type": "execute_result"
        }
      ],
      "source": [
        "temp = pd.DataFrame({'Sentence':train_split['tag'], 'Vectorized Sentence':y_train})\n",
        "temp.head()"
      ]
    },
    {
      "cell_type": "markdown",
      "metadata": {
        "id": "cRrCrXfmR9yG"
      },
      "source": [
        "We use this vectorized sequences as the model's input. Each number in the sequence refers to a word in out vocabulary which can be obtained from `idx2word` or `ind2tag` lists.  "
      ]
    },
    {
      "cell_type": "markdown",
      "metadata": {
        "id": "vul-XpGOMV5n"
      },
      "source": [
        "## Padding Strategy\n",
        "\n",
        "To pass the data to our models, both the sentences and the tags must have a fixed length. To do so, we have to pad those sequences with `<pad>` token or truncate them to a fixed length. To find a compromise between padding and truncation, we will have a look at the distribution of the lengths of the sentences. \n"
      ]
    },
    {
      "cell_type": "code",
      "execution_count": null,
      "metadata": {
        "colab": {
          "base_uri": "https://localhost:8080/",
          "height": 482
        },
        "id": "8iokh3ybkwmm",
        "outputId": "ac1b2127-e4e8-495b-ef6f-a8ed32e439f0",
        "vscode": {
          "languageId": "python"
        }
      },
      "outputs": [
        {
          "data": {
            "image/png": "[encoded data removed]",
            "text/plain": [
              "<Figure size 1080x504 with 1 Axes>"
            ]
          },
          "metadata": {
            "needs_background": "light"
          },
          "output_type": "display_data"
        },
        {
          "name": "stdout",
          "output_type": "stream",
          "text": [
            "\n",
            "Percentage of sentences less long than 50 words:  0.9801324503311258\n"
          ]
        }
      ],
      "source": [
        "# Pad or Truncate each sentence to max_seq_length\n",
        "\n",
        "import matplotlib.pyplot as plt\n",
        "import seaborn as sns\n",
        "\n",
        "length_of_sentences = np.array([len(sentence) for sentence in train_split['sentence']])\n",
        "\n",
        "plt.figure(figsize = (15,7))\n",
        "sns.histplot(length_of_sentences)\n",
        "plt.title('Length of sentences in the train dataset', size = 15)\n",
        "plt.show()\n",
        "\n",
        "print(\"\\nPercentage of sentences less long than 50 words: \", np.sum(length_of_sentences<50)/len(length_of_sentences))"
      ]
    },
    {
      "cell_type": "markdown",
      "metadata": {
        "id": "ixl7RKs8NUpu"
      },
      "source": [
        "It seems that setting the maximum allowed length to $50$ is a good design choice. Although, it may be inefficient to pad all the sequences to a fixed length. For example, if the length of sequences in a size $8$ batch is $[4,6,8,5,4,3,7,8]$, we will pad all the sequences and that will result in 8 sequences of length $8$ and end up doing $64$ computations $(8*8)$ when training RNN (LSTM, GRU, and etc.). However, we need to do only $45$ computations. This even gets worse, if we use a bidirectional-RNN and do batch computations just by padding.\n",
        "\n",
        "Instead, PyTorch  allows to pack the sequence, internally using `collate_fn` in the `DataLoader` which represents a Python iterable over a dataset. Basically, the `collate_fn` receives a list of tuples if your `__getitem__` function from a Dataset subclass returns a tuple, or just a normal list if your Dataset subclass returns only one element. Here, its main objective is to create batch of padded sequences without spending much time implementing it manually. \n",
        "\n",
        "We define `collate_fn` such that packed sequence is a triple of lists. One contains the elements of sequences and others contain sequence labels and the size of each sequence in the batch at each step. This is helpful in recovering the actual sequences as well as telling RNN what is the batch size at each time step.\n",
        "\n",
        "We use PyTorch `pack_padded_sequence` which packs a Tensor containing padded sequences of variable length. Finally we use `pad_packed_sequence` that is an inverse operation to `pack_padded_sequence` to unpack the sequences so we can generate the output."
      ]
    },
    {
      "cell_type": "code",
      "execution_count": null,
      "metadata": {
        "id": "0cQ8dUMvwRxY",
        "vscode": {
          "languageId": "python"
        }
      },
      "outputs": [],
      "source": [
        "from torch.nn.utils.rnn import pad_sequence, pack_padded_sequence\n",
        "\n",
        "def pad_collate_fn(batch):\n",
        "    \"\"\"\n",
        "    The collate_fn that can add padding to the sequences so all can have\n",
        "    the same length as the longest one.\n",
        "\n",
        "    Args:\n",
        "        batch (List[List, List]): The batch data, where the first element\n",
        "        of the tuple is the word idx and the second element are the target\n",
        "        label.\n",
        "\n",
        "    Returns:\n",
        "        A triple (x, y, z). The element x is a tensor of packed sequence .\n",
        "        The element y is a tensor of padded tag indices. The word vectors are\n",
        "        padded with vectors of 0s and the tag indices are padded with 0s. z is the lengths of original sequences in the input\n",
        "    \"\"\"\n",
        "\n",
        "    # This gets us two lists of tensors and a list of integer.\n",
        "    # Each tensor in the first list is a sequence of word vectors.\n",
        "    # Each tensor in the second list is a sequence of tag indices.\n",
        "    # The list of integer consist of the lengths of the sequences in order.\n",
        "    sequences_vectors, sequences_labels, lengths = zip(\n",
        "        *[\n",
        "            (torch.IntTensor(seq_vectors), torch.LongTensor(labels), len(seq_vectors))\n",
        "            for (seq_vectors, labels) in sorted(\n",
        "                batch, key=lambda x: len(x[0]), reverse=True\n",
        "            )\n",
        "        ]\n",
        "    )\n",
        "\n",
        "    lengths = torch.LongTensor(lengths)\n",
        "\n",
        "    padded_sequences_vectors = pad_sequence(\n",
        "        sequences_vectors, batch_first=True, padding_value=0\n",
        "    )\n",
        "\n",
        "    padded_sequences_labels = pad_sequence(\n",
        "        sequences_labels, batch_first=True, padding_value=0\n",
        "    )\n",
        "\n",
        "    # return pack_padded_sequences_vectors, padded_sequences_labels\n",
        "    return padded_sequences_vectors, padded_sequences_labels, lengths"
      ]
    },
    {
      "cell_type": "markdown",
      "metadata": {
        "id": "NR-lc0hEtCq5"
      },
      "source": [
        "Finally, we can create the DataLoaders for training , validation, and testing the model"
      ]
    },
    {
      "cell_type": "code",
      "execution_count": null,
      "metadata": {
        "id": "vqoZIRUi5uwI",
        "vscode": {
          "languageId": "python"
        }
      },
      "outputs": [],
      "source": [
        "class DatasetBucket:\n",
        "    def __init__(self, X, y):\n",
        "        self.X = X\n",
        "        self.y = y\n",
        "\n",
        "    def __len__(self):\n",
        "        return len(self.X)\n",
        "\n",
        "    def __getitem__(self, index):\n",
        "        return self.X[index], self.y[index]\n"
      ]
    },
    {
      "cell_type": "markdown",
      "metadata": {
        "id": "UKQmrq-dmWTN"
      },
      "source": [
        "Note:\n",
        "- Choosing a `batch_size` can be critical. By choosing a big `batch_size` we may include long sequences (e.g. with len 50) together with short (e.g. with len 4) which will result in inefficient padding. While, with an approperiate `batch_size` the variaton of the lengths is much smaller and the padding would be more efficient."
      ]
    },
    {
      "cell_type": "code",
      "execution_count": null,
      "metadata": {
        "id": "9IR8neIQXNRs",
        "vscode": {
          "languageId": "python"
        }
      },
      "outputs": [],
      "source": [
        "from torch.utils.data import TensorDataset, DataLoader\n",
        "\n",
        "batch_size = 32\n",
        "\n",
        "train_dataset = DatasetBucket(X_train, y_train)\n",
        "train_dl = DataLoader(train_dataset, batch_size=batch_size, collate_fn= pad_collate_fn, num_workers=2)\n",
        "\n",
        "val_dataset = DatasetBucket(X_val, y_val)\n",
        "val_dl = DataLoader(val_dataset, batch_size=batch_size, collate_fn= pad_collate_fn, num_workers=2)\n",
        "\n",
        "test_dataset = DatasetBucket(X_test, y_test)\n",
        "test_dl = DataLoader(test_dataset, batch_size=batch_size, collate_fn= pad_collate_fn, num_workers=2)"
      ]
    },
    {
      "cell_type": "markdown",
      "metadata": {
        "id": "86BdvNkIj05O"
      },
      "source": [
        "We can see in the following that how this approach pad the sequences dynamically in each batch"
      ]
    },
    {
      "cell_type": "code",
      "execution_count": null,
      "metadata": {
        "colab": {
          "base_uri": "https://localhost:8080/"
        },
        "id": "u8qQiE0dPcji",
        "outputId": "89e61ee6-e647-434b-b91a-6ccb978b08d4",
        "vscode": {
          "languageId": "python"
        }
      },
      "outputs": [
        {
          "name": "stdout",
          "output_type": "stream",
          "text": [
            "First 10 Batch Shapes\n",
            "\n",
            "Batch_0:  torch.Size([32, 52])\n",
            "Batch_1:  torch.Size([32, 37])\n",
            "Batch_2:  torch.Size([32, 39])\n",
            "Batch_3:  torch.Size([32, 54])\n",
            "Batch_4:  torch.Size([32, 46])\n",
            "Batch_5:  torch.Size([32, 46])\n",
            "Batch_6:  torch.Size([32, 58])\n",
            "Batch_7:  torch.Size([32, 48])\n",
            "Batch_8:  torch.Size([32, 49])\n",
            "Batch_9:  torch.Size([32, 40])\n"
          ]
        }
      ],
      "source": [
        "it = iter(train_dl)\n",
        "print('First 10 Batch Shapes\\n')\n",
        "for i in range(10):\n",
        "    batch = next(it)\n",
        "    print(f'Batch_{i}: ', batch[0].shape)\n"
      ]
    },
    {
      "cell_type": "code",
      "execution_count": null,
      "metadata": {
        "colab": {
          "base_uri": "https://localhost:8080/"
        },
        "id": "4qiXOwipEJyz",
        "outputId": "faa242d5-27d8-4f7b-cd03-90821b74171f",
        "vscode": {
          "languageId": "python"
        }
      },
      "outputs": [
        {
          "name": "stdout",
          "output_type": "stream",
          "text": [
            "Max/Min Sequences' Length in First 10 Batch \n",
            "\n",
            "Batch_0 --> Max:52 - Min: 10 \n",
            "Batch_1 --> Max:37 - Min: 10 \n",
            "Batch_2 --> Max:39 - Min: 4 \n",
            "Batch_3 --> Max:54 - Min: 5 \n",
            "Batch_4 --> Max:46 - Min: 12 \n",
            "Batch_5 --> Max:46 - Min: 9 \n",
            "Batch_6 --> Max:58 - Min: 6 \n",
            "Batch_7 --> Max:48 - Min: 7 \n",
            "Batch_8 --> Max:49 - Min: 9 \n",
            "Batch_9 --> Max:40 - Min: 7 \n"
          ]
        }
      ],
      "source": [
        "it = iter(train_dl)\n",
        "print('Max/Min Sequences\\' Length in First 10 Batch \\n')\n",
        "for i in range(10):\n",
        "    batch = next(it)\n",
        "    print(f'Batch_{i} --> Max:{batch[2][0]} - Min: {batch[2][-1]} ')"
      ]
    },
    {
      "cell_type": "markdown",
      "metadata": {
        "id": "H-jf-5Z1AUdT"
      },
      "source": [
        "we can see that overally, padded sequences have less length than the ones with fixed length padding strategy"
      ]
    },
    {
      "cell_type": "markdown",
      "metadata": {
        "id": "n7Li7yC1fCn2"
      },
      "source": [
        "## Models Architecture\n",
        "We now implement the baseline architecture and make simple and small modification to generate other variances based on this baseline model\n",
        "\n",
        "## Baseline Model\n",
        "\n",
        "Baseline model is a sequence of Embedding layer, LSTM layer, and Time-distributed Dense layer"
      ]
    },
    {
      "cell_type": "code",
      "execution_count": null,
      "metadata": {
        "id": "FXYy6XoFPnZH",
        "vscode": {
          "languageId": "python"
        }
      },
      "outputs": [],
      "source": [
        "from torch.nn.modules import dropout\n",
        "from torch.nn import LSTM, Embedding, GRU\n",
        "from torch.nn.utils.rnn import pad_packed_sequence\n",
        "\n",
        "# Size of the hidden vector of LSTM/GRU cells\n",
        "hidden_size = 32  \n",
        "\n",
        "class RnnLangModel(nn.Module):\n",
        "    def __init__(self, hidden_size):\n",
        "        super().__init__()\n",
        "        # Defining embeddings as a layer in the model \n",
        "        self.embedding = Embedding(num_embeddings=len(word2idx), embedding_dim=embedding_dim)  \n",
        "        # Freezing the embedding layer in order not to be trainable\n",
        "        self.embedding.from_pretrained(embedding_vec_with_oov, freeze = True)       \n",
        "        self.lstm = LSTM(input_size=embedding_dim, hidden_size=hidden_size, batch_first=True, bidirectional= True)   \n",
        "        # Time Distributed Linear Layer\n",
        "        self.tdl = nn.Conv2d(1, len(tag2idx), (1, hidden_size * 2))  \n",
        "        self.dropout = nn.Dropout(0.25)\n",
        "\n",
        "    def forward(self, input, lengths):\n",
        "        embedded_padded_input = self.embedding(input)\n",
        "        # We pack the padded sequence to improve the computational speed during training\n",
        "        embedded_packed_padded_input = pack_padded_sequence(embedded_padded_input, lengths, batch_first=True)  \n",
        "        output, (ht, ct) = self.lstm(embedded_packed_padded_input)\n",
        "        # Unpacking the packed padded output\n",
        "        output, _ = pad_packed_sequence(output, batch_first=True) \n",
        "        return self.tdl(self.dropout(torch.unsqueeze(output, dim = 1)))\n",
        "\n",
        "\n",
        "rnn_lm = RnnLangModel(hidden_size = hidden_size)"
      ]
    },
    {
      "cell_type": "markdown",
      "metadata": {
        "id": "w_Q6X0wECV80"
      },
      "source": [
        "We take a look at the structure of the output"
      ]
    },
    {
      "cell_type": "code",
      "execution_count": null,
      "metadata": {
        "colab": {
          "base_uri": "https://localhost:8080/"
        },
        "id": "NQv7MKRQIw0u",
        "outputId": "ce94fdc7-aeec-44ca-8a13-2062d7d68945",
        "vscode": {
          "languageId": "python"
        }
      },
      "outputs": [
        {
          "data": {
            "text/plain": [
              "torch.Size([32, 46, 52, 1])"
            ]
          },
          "execution_count": 31,
          "metadata": {},
          "output_type": "execute_result"
        }
      ],
      "source": [
        "# Batch_size * Num_tags * Seq_len * 1\n",
        "it = iter(train_dl)\n",
        "batch = next(it)\n",
        "\n",
        "# Model output for a single batch \n",
        "rnn_lm(batch[0], batch[2]).shape"
      ]
    },
    {
      "cell_type": "markdown",
      "metadata": {
        "id": "1Fg78UCkfuUE"
      },
      "source": [
        "### Modified Model No. 1\n",
        "using a GRU instead of the LSTM in the baseline model.\n",
        "\n",
        "The GRU is the newer generation of Recurrent Neural networks and is pretty similar to an LSTM. GRU’s got rid of the cell state and used the hidden state to transfer information. It also only has two gates, a reset gate and update gate. Here are the main points comparing the two:\n",
        "\n",
        "- The GRU unit controls the flow of information like the LSTM unit, but without having to use a memory unit. It just exposes the full hidden content without any control.\n",
        "\n",
        "- GRUs are relatively new, and their performance is on par with LSTMs, but computationally more efficient (they have a less complex structure)."
      ]
    },
    {
      "cell_type": "code",
      "execution_count": null,
      "metadata": {
        "id": "rpkAk-YhftWG",
        "vscode": {
          "languageId": "python"
        }
      },
      "outputs": [],
      "source": [
        "from torch.nn import LSTM, Embedding, GRU\n",
        "\n",
        "class GruLangModel(nn.Module):\n",
        "    def __init__(self, hidden_size):\n",
        "        super().__init__()\n",
        "        self.embedding = Embedding(num_embeddings=len(word2idx), embedding_dim=embedding_dim)\n",
        "        # embedding_dim = 50\n",
        "        self.embedding.from_pretrained(embedding_vec_with_oov, freeze = True) \n",
        "        self.gru = GRU(input_size=embedding_dim, hidden_size=hidden_size, batch_first=True, bidirectional= True) \n",
        "        # Time Distributed Linear Layer \n",
        "        self.tdl = nn.Conv2d(1, len(tag2idx), (1, hidden_size * 2))   \n",
        "        self.dropout = nn.Dropout(0.25)                                                 \n",
        "\n",
        "    def forward(self, input, lengths):\n",
        "        embedded_padded_input = self.embedding(input)\n",
        "        # We pack the padded sequence to improve the computational speed during training\n",
        "        embedded_packed_padded_input = pack_padded_sequence(embedded_padded_input, lengths, batch_first=True)  \n",
        "        output, (ht, ct) = self.gru(embedded_packed_padded_input)\n",
        "        # Unpacking the packed padded output\n",
        "        output, _ = pad_packed_sequence(output, batch_first=True) \n",
        "        return self.tdl(self.dropout(torch.unsqueeze(output, dim = 1)))\n",
        "\n",
        "\n",
        "gru_lm = GruLangModel(hidden_size = hidden_size)"
      ]
    },
    {
      "cell_type": "markdown",
      "metadata": {
        "id": "XtMSHbqugJLd"
      },
      "source": [
        "### Modified Model No. 2\n",
        "adding an additional LSTM layer"
      ]
    },
    {
      "cell_type": "code",
      "execution_count": null,
      "metadata": {
        "id": "ocydjoUCgMnF",
        "vscode": {
          "languageId": "python"
        }
      },
      "outputs": [],
      "source": [
        "from torch.nn import LSTM, Embedding, GRU\n",
        "\n",
        "class LstmLangModel(nn.Module):\n",
        "    def __init__(self, hidden_size):\n",
        "        super().__init__()\n",
        "        # Defining embeddings as a layer in the model \n",
        "        self.embedding = Embedding(num_embeddings=len(word2idx), embedding_dim=embedding_dim)  \n",
        "        # Freezing the embedding layer in order not to be trainable\n",
        "        self.embedding.from_pretrained(embedding_vec_with_oov, freeze = True)       \n",
        "        self.lstm = LSTM(input_size=embedding_dim, hidden_size=hidden_size, num_layers=2, dropout=0.25, batch_first=True, bidirectional= True)   \n",
        "        # Time Distributed Linear Layer\n",
        "        self.tdl = nn.Conv2d(1, len(tag2idx), (1, hidden_size * 2))  \n",
        "        self.dropout = nn.Dropout(0.25)\n",
        "\n",
        "    def forward(self, input, lengths):\n",
        "        embedded_padded_input = self.embedding(input)\n",
        "        # We pack the padded sequence to improve the computational speed during training\n",
        "        embedded_packed_padded_input = pack_padded_sequence(embedded_padded_input, lengths, batch_first=True)  \n",
        "        output, (ht, ct) = self.lstm(embedded_packed_padded_input)\n",
        "        # Unpacking the packed padded output\n",
        "        output, _ = pad_packed_sequence(output, batch_first=True) \n",
        "        return self.tdl(self.dropout(torch.unsqueeze(output, dim = 1)))\n",
        "\n",
        "\n",
        "lstm_lm = LstmLangModel(hidden_size = hidden_size)"
      ]
    },
    {
      "cell_type": "markdown",
      "metadata": {
        "id": "X9_nX98PgM05"
      },
      "source": [
        "### Modified Model No. 3\n",
        "adding an additional dense layer"
      ]
    },
    {
      "cell_type": "code",
      "execution_count": null,
      "metadata": {
        "id": "YBoNxwkGgPwY",
        "vscode": {
          "languageId": "python"
        }
      },
      "outputs": [],
      "source": [
        "from torch.nn import LSTM, Embedding, GRU, Linear\n",
        "\n",
        "class DenseLangModel(nn.Module):\n",
        "    def __init__(self, hidden_size):\n",
        "        super().__init__()\n",
        "        # Defining embeddings as a layer in the model \n",
        "        self.embedding = Embedding(num_embeddings=len(word2idx), embedding_dim=embedding_dim)  \n",
        "        # Freezing the embedding layer in order not to be trainable\n",
        "        self.embedding.from_pretrained(embedding_vec_with_oov, freeze = True)       \n",
        "        self.lstm = LSTM(input_size=embedding_dim, hidden_size=hidden_size, batch_first=True, bidirectional= True) \n",
        "        # Fully connected Linear Layer  \n",
        "        self.dense  = Linear(hidden_size * 2, hidden_size * 2)\n",
        "        self.dense2 = Linear(hidden_size * 2, len(tag2idx))\n",
        "        self.relu = nn.ReLU()\n",
        "\n",
        "    def forward(self, input, lengths):\n",
        "        embedded_padded_input = self.embedding(input)\n",
        "        # We pack the padded sequence to improve the computational speed during training\n",
        "        embedded_packed_padded_input = pack_padded_sequence(embedded_padded_input, lengths, batch_first=True)  \n",
        "        output, (ht, ct) = self.lstm(embedded_packed_padded_input)\n",
        "        # # Unpacking the packed padded output\n",
        "        output, _ = pad_packed_sequence(output, batch_first=True) \n",
        "        output = self.dense(output)\n",
        "        output = self.dense2(output)\n",
        "        # We have to reformat the output structure to be the same as other models\n",
        "        return torch.unsqueeze(torch.permute(output, (0,2,1)), -1)        \n",
        "\n",
        "\n",
        "dense_lm = DenseLangModel(hidden_size = hidden_size)"
      ]
    },
    {
      "cell_type": "markdown",
      "metadata": {
        "id": "SWNytVU2KcAl"
      },
      "source": [
        "### Train\n",
        "\n",
        "We will use `CrossEntropyLoss` as loss function to train our models. Also `F1Score` (with Macro average) has been utilize as a metric when we evaluate the trained model."
      ]
    },
    {
      "cell_type": "code",
      "execution_count": null,
      "metadata": {
        "colab": {
          "base_uri": "https://localhost:8080/"
        },
        "collapsed": true,
        "id": "O6ptzJ3KgMiB",
        "outputId": "e9d87aa0-8a83-42fb-a89e-5a5f103a4a53",
        "vscode": {
          "languageId": "python"
        }
      },
      "outputs": [
        {
          "name": "stdout",
          "output_type": "stream",
          "text": [
            "Looking in indexes: https://pypi.org/simple, https://us-python.pkg.dev/colab-wheels/public/simple/\n",
            "Collecting torchmetrics\n",
            "  Downloading torchmetrics-0.11.0-py3-none-any.whl (512 kB)\n",
            "\u001b[2K     \u001b[90m━━━━━━━━━━━━━━━━━━━━━━━━━━━━━━━━━━━━━━\u001b[0m \u001b[32m512.4/512.4 KB\u001b[0m \u001b[31m13.7 MB/s\u001b[0m eta \u001b[36m0:00:00\u001b[0m\n",
            "\u001b[?25hRequirement already satisfied: numpy>=1.17.2 in /usr/local/lib/python3.8/dist-packages (from torchmetrics) (1.21.6)\n",
            "Requirement already satisfied: typing-extensions in /usr/local/lib/python3.8/dist-packages (from torchmetrics) (4.4.0)\n",
            "Requirement already satisfied: packaging in /usr/local/lib/python3.8/dist-packages (from torchmetrics) (21.3)\n",
            "Requirement already satisfied: torch>=1.8.1 in /usr/local/lib/python3.8/dist-packages (from torchmetrics) (1.13.0+cu116)\n",
            "Requirement already satisfied: pyparsing!=3.0.5,>=2.0.2 in /usr/local/lib/python3.8/dist-packages (from packaging->torchmetrics) (3.0.9)\n",
            "Installing collected packages: torchmetrics\n",
            "Successfully installed torchmetrics-0.11.0\n"
          ]
        }
      ],
      "source": [
        "!pip install torchmetrics"
      ]
    },
    {
      "cell_type": "markdown",
      "metadata": {
        "id": "JyXPKkX0OXAP"
      },
      "source": [
        "Note:\n",
        "- During the training we do not ignore puctuations and symbols since they may be useful. For evaluation we ignore the puctuations and symbols. In the train set, only `<pad>` token has the index equal to 0 but in the validation and test set, puctuations and symbols index are also set to 0 so we can ignore them using `ignore_index`."
      ]
    },
    {
      "cell_type": "code",
      "execution_count": null,
      "metadata": {
        "id": "NBHqsZbsNlwU",
        "vscode": {
          "languageId": "python"
        }
      },
      "outputs": [],
      "source": [
        "from torch.nn import CrossEntropyLoss\n",
        "from torchmetrics import Accuracy, F1Score, Precision, Recall\n",
        "\n",
        "# During the training we do not ignore puctuations and symbols since they may be useful\n",
        "ce_loss = CrossEntropyLoss(reduction='mean', ignore_index=0)\n",
        "f1_score = F1Score(task=\"multiclass\", average=\"macro\", num_classes=len(tag2idx), ignore_index=0)\n",
        "accuracy = Accuracy(task=\"multiclass\", num_classes=len(tag2idx), ignore_index=0)"
      ]
    },
    {
      "cell_type": "markdown",
      "metadata": {
        "id": "XpodA2pjNcfX"
      },
      "source": [
        "#### Training "
      ]
    },
    {
      "cell_type": "code",
      "execution_count": null,
      "metadata": {
        "colab": {
          "base_uri": "https://localhost:8080/"
        },
        "collapsed": true,
        "id": "L7evLTZgClTw",
        "outputId": "1d568183-5dfb-4fba-f87a-2d57a9f24200",
        "vscode": {
          "languageId": "python"
        }
      },
      "outputs": [
        {
          "name": "stdout",
          "output_type": "stream",
          "text": [
            "Epoch 1\n"
          ]
        },
        {
          "name": "stderr",
          "output_type": "stream",
          "text": [
            "100%|██████████| 62/62 [00:16<00:00,  3.66it/s]\n"
          ]
        },
        {
          "name": "stdout",
          "output_type": "stream",
          "text": [
            "Loss: 3.2555\n",
            "Running evaluation ...\n"
          ]
        },
        {
          "name": "stderr",
          "output_type": "stream",
          "text": [
            "100%|██████████| 41/41 [00:00<00:00, 85.25it/s] \n"
          ]
        },
        {
          "name": "stdout",
          "output_type": "stream",
          "text": [
            "Saving new checkpoint ...\n",
            "Best ---> Val_Loss: 2.6860, F1_Score: 0.0524, Accuracy: 0.2836\n",
            "------------------\n",
            "Epoch 2\n"
          ]
        },
        {
          "name": "stderr",
          "output_type": "stream",
          "text": [
            "100%|██████████| 62/62 [00:16<00:00,  3.66it/s]\n"
          ]
        },
        {
          "name": "stdout",
          "output_type": "stream",
          "text": [
            "Loss: 2.1914\n",
            "Running evaluation ...\n"
          ]
        },
        {
          "name": "stderr",
          "output_type": "stream",
          "text": [
            "100%|██████████| 41/41 [00:00<00:00, 82.41it/s] \n"
          ]
        },
        {
          "name": "stdout",
          "output_type": "stream",
          "text": [
            "Saving new checkpoint ...\n",
            "Best ---> Val_Loss: 2.1244, F1_Score: 0.1350, Accuracy: 0.4273\n",
            "------------------\n",
            "Epoch 3\n"
          ]
        },
        {
          "name": "stderr",
          "output_type": "stream",
          "text": [
            "100%|██████████| 62/62 [00:16<00:00,  3.65it/s]\n"
          ]
        },
        {
          "name": "stdout",
          "output_type": "stream",
          "text": [
            "Loss: 1.7228\n",
            "Running evaluation ...\n"
          ]
        },
        {
          "name": "stderr",
          "output_type": "stream",
          "text": [
            "100%|██████████| 41/41 [00:00<00:00, 81.41it/s]\n"
          ]
        },
        {
          "name": "stdout",
          "output_type": "stream",
          "text": [
            "Saving new checkpoint ...\n",
            "Best ---> Val_Loss: 1.8065, F1_Score: 0.2104, Accuracy: 0.5008\n",
            "------------------\n",
            "Epoch 4\n"
          ]
        },
        {
          "name": "stderr",
          "output_type": "stream",
          "text": [
            "100%|██████████| 62/62 [00:16<00:00,  3.65it/s]\n"
          ]
        },
        {
          "name": "stdout",
          "output_type": "stream",
          "text": [
            "Loss: 1.4555\n",
            "Running evaluation ...\n"
          ]
        },
        {
          "name": "stderr",
          "output_type": "stream",
          "text": [
            "100%|██████████| 41/41 [00:00<00:00, 88.97it/s] \n"
          ]
        },
        {
          "name": "stdout",
          "output_type": "stream",
          "text": [
            "Saving new checkpoint ...\n",
            "Best ---> Val_Loss: 1.5957, F1_Score: 0.2652, Accuracy: 0.5536\n",
            "------------------\n",
            "Epoch 5\n"
          ]
        },
        {
          "name": "stderr",
          "output_type": "stream",
          "text": [
            "100%|██████████| 62/62 [00:16<00:00,  3.67it/s]\n"
          ]
        },
        {
          "name": "stdout",
          "output_type": "stream",
          "text": [
            "Loss: 1.2686\n",
            "Running evaluation ...\n"
          ]
        },
        {
          "name": "stderr",
          "output_type": "stream",
          "text": [
            "100%|██████████| 41/41 [00:00<00:00, 86.03it/s] \n"
          ]
        },
        {
          "name": "stdout",
          "output_type": "stream",
          "text": [
            "Saving new checkpoint ...\n",
            "Best ---> Val_Loss: 1.4403, F1_Score: 0.2894, Accuracy: 0.5911\n",
            "------------------\n",
            "Epoch 6\n"
          ]
        },
        {
          "name": "stderr",
          "output_type": "stream",
          "text": [
            "100%|██████████| 62/62 [00:16<00:00,  3.68it/s]\n"
          ]
        },
        {
          "name": "stdout",
          "output_type": "stream",
          "text": [
            "Loss: 1.1222\n",
            "Running evaluation ...\n"
          ]
        },
        {
          "name": "stderr",
          "output_type": "stream",
          "text": [
            "100%|██████████| 41/41 [00:00<00:00, 82.50it/s]\n"
          ]
        },
        {
          "name": "stdout",
          "output_type": "stream",
          "text": [
            "Saving new checkpoint ...\n",
            "Best ---> Val_Loss: 1.3179, F1_Score: 0.3340, Accuracy: 0.6260\n",
            "------------------\n",
            "Epoch 7\n"
          ]
        },
        {
          "name": "stderr",
          "output_type": "stream",
          "text": [
            "100%|██████████| 62/62 [00:16<00:00,  3.68it/s]\n"
          ]
        },
        {
          "name": "stdout",
          "output_type": "stream",
          "text": [
            "Loss: 1.0005\n",
            "Running evaluation ...\n"
          ]
        },
        {
          "name": "stderr",
          "output_type": "stream",
          "text": [
            "100%|██████████| 41/41 [00:00<00:00, 79.13it/s]\n"
          ]
        },
        {
          "name": "stdout",
          "output_type": "stream",
          "text": [
            "Saving new checkpoint ...\n",
            "Best ---> Val_Loss: 1.2176, F1_Score: 0.3693, Accuracy: 0.6556\n",
            "------------------\n",
            "Epoch 8\n"
          ]
        },
        {
          "name": "stderr",
          "output_type": "stream",
          "text": [
            "100%|██████████| 62/62 [00:16<00:00,  3.69it/s]\n"
          ]
        },
        {
          "name": "stdout",
          "output_type": "stream",
          "text": [
            "Loss: 0.8958\n",
            "Running evaluation ...\n"
          ]
        },
        {
          "name": "stderr",
          "output_type": "stream",
          "text": [
            "100%|██████████| 41/41 [00:00<00:00, 86.50it/s] \n"
          ]
        },
        {
          "name": "stdout",
          "output_type": "stream",
          "text": [
            "Saving new checkpoint ...\n",
            "Best ---> Val_Loss: 1.1338, F1_Score: 0.4003, Accuracy: 0.6785\n",
            "------------------\n",
            "Epoch 9\n"
          ]
        },
        {
          "name": "stderr",
          "output_type": "stream",
          "text": [
            "100%|██████████| 62/62 [00:16<00:00,  3.67it/s]\n"
          ]
        },
        {
          "name": "stdout",
          "output_type": "stream",
          "text": [
            "Loss: 0.8041\n",
            "Running evaluation ...\n"
          ]
        },
        {
          "name": "stderr",
          "output_type": "stream",
          "text": [
            "100%|██████████| 41/41 [00:00<00:00, 86.27it/s] \n"
          ]
        },
        {
          "name": "stdout",
          "output_type": "stream",
          "text": [
            "Saving new checkpoint ...\n",
            "Best ---> Val_Loss: 1.0630, F1_Score: 0.4340, Accuracy: 0.6996\n",
            "------------------\n",
            "Epoch 10\n"
          ]
        },
        {
          "name": "stderr",
          "output_type": "stream",
          "text": [
            "100%|██████████| 62/62 [00:16<00:00,  3.77it/s]\n"
          ]
        },
        {
          "name": "stdout",
          "output_type": "stream",
          "text": [
            "Loss: 0.7231\n",
            "Running evaluation ...\n"
          ]
        },
        {
          "name": "stderr",
          "output_type": "stream",
          "text": [
            "100%|██████████| 41/41 [00:00<00:00, 85.01it/s]\n"
          ]
        },
        {
          "name": "stdout",
          "output_type": "stream",
          "text": [
            "Saving new checkpoint ...\n",
            "Best ---> Val_Loss: 1.0029, F1_Score: 0.4584, Accuracy: 0.7174\n",
            "------------------\n",
            "Epoch 11\n"
          ]
        },
        {
          "name": "stderr",
          "output_type": "stream",
          "text": [
            "100%|██████████| 62/62 [00:16<00:00,  3.68it/s]\n"
          ]
        },
        {
          "name": "stdout",
          "output_type": "stream",
          "text": [
            "Loss: 0.6513\n",
            "Running evaluation ...\n"
          ]
        },
        {
          "name": "stderr",
          "output_type": "stream",
          "text": [
            "100%|██████████| 41/41 [00:00<00:00, 85.86it/s] \n"
          ]
        },
        {
          "name": "stdout",
          "output_type": "stream",
          "text": [
            "Saving new checkpoint ...\n",
            "Best ---> Val_Loss: 0.9517, F1_Score: 0.4735, Accuracy: 0.7319\n",
            "------------------\n",
            "Epoch 12\n"
          ]
        },
        {
          "name": "stderr",
          "output_type": "stream",
          "text": [
            "100%|██████████| 62/62 [00:16<00:00,  3.70it/s]\n"
          ]
        },
        {
          "name": "stdout",
          "output_type": "stream",
          "text": [
            "Loss: 0.5876\n",
            "Running evaluation ...\n"
          ]
        },
        {
          "name": "stderr",
          "output_type": "stream",
          "text": [
            "100%|██████████| 41/41 [00:00<00:00, 42.39it/s]\n"
          ]
        },
        {
          "name": "stdout",
          "output_type": "stream",
          "text": [
            "Saving new checkpoint ...\n",
            "Best ---> Val_Loss: 0.9082, F1_Score: 0.4875, Accuracy: 0.7463\n",
            "------------------\n",
            "Epoch 13\n"
          ]
        },
        {
          "name": "stderr",
          "output_type": "stream",
          "text": [
            "100%|██████████| 62/62 [00:16<00:00,  3.65it/s]\n"
          ]
        },
        {
          "name": "stdout",
          "output_type": "stream",
          "text": [
            "Loss: 0.5311\n",
            "Running evaluation ...\n"
          ]
        },
        {
          "name": "stderr",
          "output_type": "stream",
          "text": [
            "100%|██████████| 41/41 [00:00<00:00, 85.43it/s] \n"
          ]
        },
        {
          "name": "stdout",
          "output_type": "stream",
          "text": [
            "Saving new checkpoint ...\n",
            "Best ---> Val_Loss: 0.8713, F1_Score: 0.4991, Accuracy: 0.7589\n",
            "------------------\n",
            "Epoch 14\n"
          ]
        },
        {
          "name": "stderr",
          "output_type": "stream",
          "text": [
            "100%|██████████| 62/62 [00:16<00:00,  3.71it/s]\n"
          ]
        },
        {
          "name": "stdout",
          "output_type": "stream",
          "text": [
            "Loss: 0.4810\n",
            "Running evaluation ...\n"
          ]
        },
        {
          "name": "stderr",
          "output_type": "stream",
          "text": [
            "100%|██████████| 41/41 [00:00<00:00, 85.76it/s] \n"
          ]
        },
        {
          "name": "stdout",
          "output_type": "stream",
          "text": [
            "Saving new checkpoint ...\n",
            "Best ---> Val_Loss: 0.8400, F1_Score: 0.5087, Accuracy: 0.7691\n",
            "------------------\n",
            "Epoch 15\n"
          ]
        },
        {
          "name": "stderr",
          "output_type": "stream",
          "text": [
            "100%|██████████| 62/62 [00:16<00:00,  3.74it/s]\n"
          ]
        },
        {
          "name": "stdout",
          "output_type": "stream",
          "text": [
            "Loss: 0.4365\n",
            "Running evaluation ...\n"
          ]
        },
        {
          "name": "stderr",
          "output_type": "stream",
          "text": [
            "100%|██████████| 41/41 [00:00<00:00, 87.54it/s] \n"
          ]
        },
        {
          "name": "stdout",
          "output_type": "stream",
          "text": [
            "Saving new checkpoint ...\n",
            "Best ---> Val_Loss: 0.8135, F1_Score: 0.5175, Accuracy: 0.7774\n",
            "------------------\n",
            "Epoch 16\n"
          ]
        },
        {
          "name": "stderr",
          "output_type": "stream",
          "text": [
            "100%|██████████| 62/62 [00:16<00:00,  3.70it/s]\n"
          ]
        },
        {
          "name": "stdout",
          "output_type": "stream",
          "text": [
            "Loss: 0.3968\n",
            "Running evaluation ...\n"
          ]
        },
        {
          "name": "stderr",
          "output_type": "stream",
          "text": [
            "100%|██████████| 41/41 [00:00<00:00, 85.38it/s] \n"
          ]
        },
        {
          "name": "stdout",
          "output_type": "stream",
          "text": [
            "Saving new checkpoint ...\n",
            "Best ---> Val_Loss: 0.7911, F1_Score: 0.5240, Accuracy: 0.7853\n",
            "------------------\n",
            "Epoch 17\n"
          ]
        },
        {
          "name": "stderr",
          "output_type": "stream",
          "text": [
            "100%|██████████| 62/62 [00:16<00:00,  3.71it/s]\n"
          ]
        },
        {
          "name": "stdout",
          "output_type": "stream",
          "text": [
            "Loss: 0.3612\n",
            "Running evaluation ...\n"
          ]
        },
        {
          "name": "stderr",
          "output_type": "stream",
          "text": [
            "100%|██████████| 41/41 [00:00<00:00, 86.79it/s] \n"
          ]
        },
        {
          "name": "stdout",
          "output_type": "stream",
          "text": [
            "Saving new checkpoint ...\n",
            "Best ---> Val_Loss: 0.7723, F1_Score: 0.5295, Accuracy: 0.7926\n",
            "------------------\n",
            "Epoch 18\n"
          ]
        },
        {
          "name": "stderr",
          "output_type": "stream",
          "text": [
            "100%|██████████| 62/62 [00:16<00:00,  3.71it/s]\n"
          ]
        },
        {
          "name": "stdout",
          "output_type": "stream",
          "text": [
            "Loss: 0.3294\n",
            "Running evaluation ...\n"
          ]
        },
        {
          "name": "stderr",
          "output_type": "stream",
          "text": [
            "100%|██████████| 41/41 [00:00<00:00, 86.15it/s] \n"
          ]
        },
        {
          "name": "stdout",
          "output_type": "stream",
          "text": [
            "Saving new checkpoint ...\n",
            "Best ---> Val_Loss: 0.7566, F1_Score: 0.5344, Accuracy: 0.7980\n",
            "------------------\n",
            "Epoch 19\n"
          ]
        },
        {
          "name": "stderr",
          "output_type": "stream",
          "text": [
            "100%|██████████| 62/62 [00:16<00:00,  3.73it/s]\n"
          ]
        },
        {
          "name": "stdout",
          "output_type": "stream",
          "text": [
            "Loss: 0.3008\n",
            "Running evaluation ...\n"
          ]
        },
        {
          "name": "stderr",
          "output_type": "stream",
          "text": [
            "100%|██████████| 41/41 [00:00<00:00, 85.72it/s] \n"
          ]
        },
        {
          "name": "stdout",
          "output_type": "stream",
          "text": [
            "Saving new checkpoint ...\n",
            "Best ---> Val_Loss: 0.7436, F1_Score: 0.5369, Accuracy: 0.8027\n",
            "------------------\n",
            "Epoch 20\n"
          ]
        },
        {
          "name": "stderr",
          "output_type": "stream",
          "text": [
            "100%|██████████| 62/62 [00:16<00:00,  3.75it/s]\n"
          ]
        },
        {
          "name": "stdout",
          "output_type": "stream",
          "text": [
            "Loss: 0.2750\n",
            "Running evaluation ...\n"
          ]
        },
        {
          "name": "stderr",
          "output_type": "stream",
          "text": [
            "100%|██████████| 41/41 [00:00<00:00, 85.98it/s] \n"
          ]
        },
        {
          "name": "stdout",
          "output_type": "stream",
          "text": [
            "Saving new checkpoint ...\n",
            "Best ---> Val_Loss: 0.7330, F1_Score: 0.5401, Accuracy: 0.8072\n",
            "------------------\n",
            "Epoch 21\n"
          ]
        },
        {
          "name": "stderr",
          "output_type": "stream",
          "text": [
            "100%|██████████| 62/62 [00:16<00:00,  3.73it/s]\n"
          ]
        },
        {
          "name": "stdout",
          "output_type": "stream",
          "text": [
            "Loss: 0.2517\n",
            "Running evaluation ...\n"
          ]
        },
        {
          "name": "stderr",
          "output_type": "stream",
          "text": [
            "100%|██████████| 41/41 [00:00<00:00, 85.49it/s] \n"
          ]
        },
        {
          "name": "stdout",
          "output_type": "stream",
          "text": [
            "Saving new checkpoint ...\n",
            "Best ---> Val_Loss: 0.7244, F1_Score: 0.5427, Accuracy: 0.8107\n",
            "------------------\n",
            "Epoch 22\n"
          ]
        },
        {
          "name": "stderr",
          "output_type": "stream",
          "text": [
            "100%|██████████| 62/62 [00:16<00:00,  3.75it/s]\n"
          ]
        },
        {
          "name": "stdout",
          "output_type": "stream",
          "text": [
            "Loss: 0.2307\n",
            "Running evaluation ...\n"
          ]
        },
        {
          "name": "stderr",
          "output_type": "stream",
          "text": [
            "100%|██████████| 41/41 [00:00<00:00, 90.36it/s] \n"
          ]
        },
        {
          "name": "stdout",
          "output_type": "stream",
          "text": [
            "Saving new checkpoint ...\n",
            "Best ---> Val_Loss: 0.7175, F1_Score: 0.5482, Accuracy: 0.8138\n",
            "------------------\n",
            "Epoch 23\n"
          ]
        },
        {
          "name": "stderr",
          "output_type": "stream",
          "text": [
            "100%|██████████| 62/62 [00:16<00:00,  3.74it/s]\n"
          ]
        },
        {
          "name": "stdout",
          "output_type": "stream",
          "text": [
            "Loss: 0.2117\n",
            "Running evaluation ...\n"
          ]
        },
        {
          "name": "stderr",
          "output_type": "stream",
          "text": [
            "100%|██████████| 41/41 [00:00<00:00, 88.98it/s] \n"
          ]
        },
        {
          "name": "stdout",
          "output_type": "stream",
          "text": [
            "Saving new checkpoint ...\n",
            "Best ---> Val_Loss: 0.7122, F1_Score: 0.5510, Accuracy: 0.8167\n",
            "------------------\n",
            "Epoch 24\n"
          ]
        },
        {
          "name": "stderr",
          "output_type": "stream",
          "text": [
            "100%|██████████| 62/62 [00:16<00:00,  3.77it/s]\n"
          ]
        },
        {
          "name": "stdout",
          "output_type": "stream",
          "text": [
            "Loss: 0.1944\n",
            "Running evaluation ...\n"
          ]
        },
        {
          "name": "stderr",
          "output_type": "stream",
          "text": [
            "100%|██████████| 41/41 [00:00<00:00, 85.58it/s] \n"
          ]
        },
        {
          "name": "stdout",
          "output_type": "stream",
          "text": [
            "Saving new checkpoint ...\n",
            "Best ---> Val_Loss: 0.7082, F1_Score: 0.5628, Accuracy: 0.8193\n",
            "------------------\n",
            "Epoch 25\n"
          ]
        },
        {
          "name": "stderr",
          "output_type": "stream",
          "text": [
            "100%|██████████| 62/62 [00:16<00:00,  3.73it/s]\n"
          ]
        },
        {
          "name": "stdout",
          "output_type": "stream",
          "text": [
            "Loss: 0.1788\n",
            "Running evaluation ...\n"
          ]
        },
        {
          "name": "stderr",
          "output_type": "stream",
          "text": [
            "100%|██████████| 41/41 [00:00<00:00, 85.61it/s] \n"
          ]
        },
        {
          "name": "stdout",
          "output_type": "stream",
          "text": [
            "Saving new checkpoint ...\n",
            "Best ---> Val_Loss: 0.7053, F1_Score: 0.5652, Accuracy: 0.8220\n",
            "------------------\n",
            "Epoch 26\n"
          ]
        },
        {
          "name": "stderr",
          "output_type": "stream",
          "text": [
            "100%|██████████| 62/62 [00:16<00:00,  3.73it/s]\n"
          ]
        },
        {
          "name": "stdout",
          "output_type": "stream",
          "text": [
            "Loss: 0.1645\n",
            "Running evaluation ...\n"
          ]
        },
        {
          "name": "stderr",
          "output_type": "stream",
          "text": [
            "100%|██████████| 41/41 [00:00<00:00, 87.95it/s] \n"
          ]
        },
        {
          "name": "stdout",
          "output_type": "stream",
          "text": [
            "Saving new checkpoint ...\n",
            "Best ---> Val_Loss: 0.7034, F1_Score: 0.5725, Accuracy: 0.8239\n",
            "------------------\n",
            "Epoch 27\n"
          ]
        },
        {
          "name": "stderr",
          "output_type": "stream",
          "text": [
            "100%|██████████| 62/62 [00:16<00:00,  3.77it/s]\n"
          ]
        },
        {
          "name": "stdout",
          "output_type": "stream",
          "text": [
            "Loss: 0.1515\n",
            "Running evaluation ...\n"
          ]
        },
        {
          "name": "stderr",
          "output_type": "stream",
          "text": [
            "100%|██████████| 41/41 [00:00<00:00, 89.20it/s] \n"
          ]
        },
        {
          "name": "stdout",
          "output_type": "stream",
          "text": [
            "Saving new checkpoint ...\n",
            "Best ---> Val_Loss: 0.7023, F1_Score: 0.5772, Accuracy: 0.8257\n",
            "------------------\n",
            "Epoch 28\n"
          ]
        },
        {
          "name": "stderr",
          "output_type": "stream",
          "text": [
            "100%|██████████| 62/62 [00:16<00:00,  3.73it/s]\n"
          ]
        },
        {
          "name": "stdout",
          "output_type": "stream",
          "text": [
            "Loss: 0.1397\n",
            "Running evaluation ...\n"
          ]
        },
        {
          "name": "stderr",
          "output_type": "stream",
          "text": [
            "100%|██████████| 41/41 [00:00<00:00, 87.98it/s] \n"
          ]
        },
        {
          "name": "stdout",
          "output_type": "stream",
          "text": [
            "Saving new checkpoint ...\n",
            "Best ---> Val_Loss: 0.7020, F1_Score: 0.5773, Accuracy: 0.8266\n",
            "------------------\n",
            "Epoch 29\n"
          ]
        },
        {
          "name": "stderr",
          "output_type": "stream",
          "text": [
            "100%|██████████| 62/62 [00:17<00:00,  3.54it/s]\n"
          ]
        },
        {
          "name": "stdout",
          "output_type": "stream",
          "text": [
            "Loss: 0.1289\n",
            "Running evaluation ...\n"
          ]
        },
        {
          "name": "stderr",
          "output_type": "stream",
          "text": [
            "100%|██████████| 41/41 [00:00<00:00, 86.69it/s] \n"
          ]
        },
        {
          "name": "stdout",
          "output_type": "stream",
          "text": [
            "------------------\n",
            "Epoch 30\n"
          ]
        },
        {
          "name": "stderr",
          "output_type": "stream",
          "text": [
            "100%|██████████| 62/62 [00:16<00:00,  3.71it/s]\n"
          ]
        },
        {
          "name": "stdout",
          "output_type": "stream",
          "text": [
            "Loss: 0.1190\n",
            "Running evaluation ...\n"
          ]
        },
        {
          "name": "stderr",
          "output_type": "stream",
          "text": [
            "100%|██████████| 41/41 [00:00<00:00, 87.85it/s] \n"
          ]
        },
        {
          "name": "stdout",
          "output_type": "stream",
          "text": [
            "------------------\n",
            "Epoch 31\n"
          ]
        },
        {
          "name": "stderr",
          "output_type": "stream",
          "text": [
            "100%|██████████| 62/62 [00:16<00:00,  3.74it/s]\n"
          ]
        },
        {
          "name": "stdout",
          "output_type": "stream",
          "text": [
            "Loss: 0.1100\n",
            "Running evaluation ...\n"
          ]
        },
        {
          "name": "stderr",
          "output_type": "stream",
          "text": [
            "100%|██████████| 41/41 [00:00<00:00, 80.69it/s]\n"
          ]
        },
        {
          "name": "stdout",
          "output_type": "stream",
          "text": [
            "------------------\n",
            "Epoch 32\n"
          ]
        },
        {
          "name": "stderr",
          "output_type": "stream",
          "text": [
            "100%|██████████| 62/62 [00:16<00:00,  3.73it/s]\n"
          ]
        },
        {
          "name": "stdout",
          "output_type": "stream",
          "text": [
            "Loss: 0.1017\n",
            "Running evaluation ...\n"
          ]
        },
        {
          "name": "stderr",
          "output_type": "stream",
          "text": [
            "100%|██████████| 41/41 [00:00<00:00, 86.07it/s] \n"
          ]
        },
        {
          "name": "stdout",
          "output_type": "stream",
          "text": [
            "------------------\n",
            "Epoch 33\n"
          ]
        },
        {
          "name": "stderr",
          "output_type": "stream",
          "text": [
            "100%|██████████| 62/62 [00:16<00:00,  3.74it/s]\n"
          ]
        },
        {
          "name": "stdout",
          "output_type": "stream",
          "text": [
            "Loss: 0.0941\n",
            "Running evaluation ...\n"
          ]
        },
        {
          "name": "stderr",
          "output_type": "stream",
          "text": [
            "100%|██████████| 41/41 [00:00<00:00, 85.42it/s] \n"
          ]
        },
        {
          "name": "stdout",
          "output_type": "stream",
          "text": [
            "------------------\n",
            "Epoch 34\n"
          ]
        },
        {
          "name": "stderr",
          "output_type": "stream",
          "text": [
            "100%|██████████| 62/62 [00:16<00:00,  3.77it/s]\n"
          ]
        },
        {
          "name": "stdout",
          "output_type": "stream",
          "text": [
            "Loss: 0.0872\n",
            "Running evaluation ...\n"
          ]
        },
        {
          "name": "stderr",
          "output_type": "stream",
          "text": [
            "100%|██████████| 41/41 [00:00<00:00, 86.03it/s] \n"
          ]
        },
        {
          "name": "stdout",
          "output_type": "stream",
          "text": [
            "------------------\n",
            "Epoch 35\n"
          ]
        },
        {
          "name": "stderr",
          "output_type": "stream",
          "text": [
            "100%|██████████| 62/62 [00:16<00:00,  3.71it/s]\n"
          ]
        },
        {
          "name": "stdout",
          "output_type": "stream",
          "text": [
            "Loss: 0.0808\n",
            "Running evaluation ...\n"
          ]
        },
        {
          "name": "stderr",
          "output_type": "stream",
          "text": [
            "100%|██████████| 41/41 [00:00<00:00, 88.73it/s] \n"
          ]
        },
        {
          "name": "stdout",
          "output_type": "stream",
          "text": [
            "------------------\n",
            "Epoch 36\n"
          ]
        },
        {
          "name": "stderr",
          "output_type": "stream",
          "text": [
            "100%|██████████| 62/62 [00:16<00:00,  3.77it/s]\n"
          ]
        },
        {
          "name": "stdout",
          "output_type": "stream",
          "text": [
            "Loss: 0.0749\n",
            "Running evaluation ...\n"
          ]
        },
        {
          "name": "stderr",
          "output_type": "stream",
          "text": [
            "100%|██████████| 41/41 [00:00<00:00, 84.97it/s] \n"
          ]
        },
        {
          "name": "stdout",
          "output_type": "stream",
          "text": [
            "------------------\n",
            "Epoch 37\n"
          ]
        },
        {
          "name": "stderr",
          "output_type": "stream",
          "text": [
            "100%|██████████| 62/62 [00:16<00:00,  3.78it/s]\n"
          ]
        },
        {
          "name": "stdout",
          "output_type": "stream",
          "text": [
            "Loss: 0.0695\n",
            "Running evaluation ...\n"
          ]
        },
        {
          "name": "stderr",
          "output_type": "stream",
          "text": [
            "100%|██████████| 41/41 [00:00<00:00, 86.49it/s] \n"
          ]
        },
        {
          "name": "stdout",
          "output_type": "stream",
          "text": [
            "------------------\n",
            "Epoch 38\n"
          ]
        },
        {
          "name": "stderr",
          "output_type": "stream",
          "text": [
            "100%|██████████| 62/62 [00:16<00:00,  3.71it/s]\n"
          ]
        },
        {
          "name": "stdout",
          "output_type": "stream",
          "text": [
            "Loss: 0.0646\n",
            "Running evaluation ...\n"
          ]
        },
        {
          "name": "stderr",
          "output_type": "stream",
          "text": [
            "100%|██████████| 41/41 [00:00<00:00, 86.71it/s] \n"
          ]
        },
        {
          "name": "stdout",
          "output_type": "stream",
          "text": [
            "------------------\n",
            "Epoch 39\n"
          ]
        },
        {
          "name": "stderr",
          "output_type": "stream",
          "text": [
            "100%|██████████| 62/62 [00:16<00:00,  3.77it/s]\n"
          ]
        },
        {
          "name": "stdout",
          "output_type": "stream",
          "text": [
            "Loss: 0.0600\n",
            "Running evaluation ...\n"
          ]
        },
        {
          "name": "stderr",
          "output_type": "stream",
          "text": [
            "100%|██████████| 41/41 [00:00<00:00, 87.27it/s] \n"
          ]
        },
        {
          "name": "stdout",
          "output_type": "stream",
          "text": [
            "------------------\n",
            "Epoch 40\n"
          ]
        },
        {
          "name": "stderr",
          "output_type": "stream",
          "text": [
            "100%|██████████| 62/62 [00:16<00:00,  3.73it/s]\n"
          ]
        },
        {
          "name": "stdout",
          "output_type": "stream",
          "text": [
            "Loss: 0.0558\n",
            "Running evaluation ...\n"
          ]
        },
        {
          "name": "stderr",
          "output_type": "stream",
          "text": [
            "100%|██████████| 41/41 [00:00<00:00, 88.74it/s] \n"
          ]
        },
        {
          "name": "stdout",
          "output_type": "stream",
          "text": [
            "------------------\n",
            "Epoch 41\n"
          ]
        },
        {
          "name": "stderr",
          "output_type": "stream",
          "text": [
            "100%|██████████| 62/62 [00:16<00:00,  3.77it/s]\n"
          ]
        },
        {
          "name": "stdout",
          "output_type": "stream",
          "text": [
            "Loss: 0.0520\n",
            "Running evaluation ...\n"
          ]
        },
        {
          "name": "stderr",
          "output_type": "stream",
          "text": [
            "100%|██████████| 41/41 [00:00<00:00, 82.97it/s]\n"
          ]
        },
        {
          "name": "stdout",
          "output_type": "stream",
          "text": [
            "------------------\n",
            "Epoch 42\n"
          ]
        },
        {
          "name": "stderr",
          "output_type": "stream",
          "text": [
            "100%|██████████| 62/62 [00:16<00:00,  3.73it/s]\n"
          ]
        },
        {
          "name": "stdout",
          "output_type": "stream",
          "text": [
            "Loss: 0.0485\n",
            "Running evaluation ...\n"
          ]
        },
        {
          "name": "stderr",
          "output_type": "stream",
          "text": [
            "100%|██████████| 41/41 [00:00<00:00, 85.98it/s] \n"
          ]
        },
        {
          "name": "stdout",
          "output_type": "stream",
          "text": [
            "------------------\n",
            "Epoch 43\n"
          ]
        },
        {
          "name": "stderr",
          "output_type": "stream",
          "text": [
            "100%|██████████| 62/62 [00:16<00:00,  3.74it/s]\n"
          ]
        },
        {
          "name": "stdout",
          "output_type": "stream",
          "text": [
            "Loss: 0.0452\n",
            "Running evaluation ...\n"
          ]
        },
        {
          "name": "stderr",
          "output_type": "stream",
          "text": [
            "100%|██████████| 41/41 [00:00<00:00, 82.03it/s]\n"
          ]
        },
        {
          "name": "stdout",
          "output_type": "stream",
          "text": [
            "------------------\n",
            "Epoch 44\n"
          ]
        },
        {
          "name": "stderr",
          "output_type": "stream",
          "text": [
            "100%|██████████| 62/62 [00:16<00:00,  3.71it/s]\n"
          ]
        },
        {
          "name": "stdout",
          "output_type": "stream",
          "text": [
            "Loss: 0.0422\n",
            "Running evaluation ...\n"
          ]
        },
        {
          "name": "stderr",
          "output_type": "stream",
          "text": [
            "100%|██████████| 41/41 [00:00<00:00, 85.62it/s] \n"
          ]
        },
        {
          "name": "stdout",
          "output_type": "stream",
          "text": [
            "------------------\n",
            "Epoch 45\n"
          ]
        },
        {
          "name": "stderr",
          "output_type": "stream",
          "text": [
            "100%|██████████| 62/62 [00:17<00:00,  3.49it/s]\n"
          ]
        },
        {
          "name": "stdout",
          "output_type": "stream",
          "text": [
            "Loss: 0.0394\n",
            "Running evaluation ...\n"
          ]
        },
        {
          "name": "stderr",
          "output_type": "stream",
          "text": [
            "100%|██████████| 41/41 [00:00<00:00, 84.43it/s] \n"
          ]
        },
        {
          "name": "stdout",
          "output_type": "stream",
          "text": [
            "------------------\n",
            "Epoch 46\n"
          ]
        },
        {
          "name": "stderr",
          "output_type": "stream",
          "text": [
            "100%|██████████| 62/62 [00:16<00:00,  3.74it/s]\n"
          ]
        },
        {
          "name": "stdout",
          "output_type": "stream",
          "text": [
            "Loss: 0.0369\n",
            "Running evaluation ...\n"
          ]
        },
        {
          "name": "stderr",
          "output_type": "stream",
          "text": [
            "100%|██████████| 41/41 [00:00<00:00, 87.57it/s] \n"
          ]
        },
        {
          "name": "stdout",
          "output_type": "stream",
          "text": [
            "------------------\n",
            "Epoch 47\n"
          ]
        },
        {
          "name": "stderr",
          "output_type": "stream",
          "text": [
            "100%|██████████| 62/62 [00:16<00:00,  3.75it/s]\n"
          ]
        },
        {
          "name": "stdout",
          "output_type": "stream",
          "text": [
            "Loss: 0.0345\n",
            "Running evaluation ...\n"
          ]
        },
        {
          "name": "stderr",
          "output_type": "stream",
          "text": [
            "100%|██████████| 41/41 [00:00<00:00, 85.59it/s] \n"
          ]
        },
        {
          "name": "stdout",
          "output_type": "stream",
          "text": [
            "------------------\n",
            "Epoch 48\n"
          ]
        },
        {
          "name": "stderr",
          "output_type": "stream",
          "text": [
            "100%|██████████| 62/62 [00:16<00:00,  3.74it/s]\n"
          ]
        },
        {
          "name": "stdout",
          "output_type": "stream",
          "text": [
            "Loss: 0.0323\n",
            "Running evaluation ...\n"
          ]
        },
        {
          "name": "stderr",
          "output_type": "stream",
          "text": [
            "100%|██████████| 41/41 [00:00<00:00, 85.66it/s] \n"
          ]
        },
        {
          "name": "stdout",
          "output_type": "stream",
          "text": [
            "------------------\n",
            "Epoch 49\n"
          ]
        },
        {
          "name": "stderr",
          "output_type": "stream",
          "text": [
            "100%|██████████| 62/62 [00:16<00:00,  3.74it/s]\n"
          ]
        },
        {
          "name": "stdout",
          "output_type": "stream",
          "text": [
            "Loss: 0.0302\n",
            "Running evaluation ...\n"
          ]
        },
        {
          "name": "stderr",
          "output_type": "stream",
          "text": [
            "100%|██████████| 41/41 [00:00<00:00, 85.13it/s] \n"
          ]
        },
        {
          "name": "stdout",
          "output_type": "stream",
          "text": [
            "------------------\n",
            "Epoch 50\n"
          ]
        },
        {
          "name": "stderr",
          "output_type": "stream",
          "text": [
            "100%|██████████| 62/62 [00:16<00:00,  3.76it/s]\n"
          ]
        },
        {
          "name": "stdout",
          "output_type": "stream",
          "text": [
            "Loss: 0.0283\n",
            "Running evaluation ...\n"
          ]
        },
        {
          "name": "stderr",
          "output_type": "stream",
          "text": [
            "100%|██████████| 41/41 [00:00<00:00, 86.85it/s] \n"
          ]
        },
        {
          "name": "stdout",
          "output_type": "stream",
          "text": [
            "------------------\n"
          ]
        }
      ],
      "source": [
        "# Training Loop\n",
        "from torch import optim\n",
        "from tqdm import tqdm\n",
        "\n",
        "# model, model_name = rnn_lm, 'lstm_lm'\n",
        "model, model_name  = gru_lm, 'gru_lm'\n",
        "# model, model_name  = lstm_lm, 'multilstm_lm'\n",
        "# model, model_name  = dense_lm, 'multidense_lm'\n",
        "\n",
        "\n",
        "optimizer = optim.Adam(model.parameters())\n",
        "\n",
        "best_val_loss = None\n",
        "train_loss_list, val_loss_list = [], []\n",
        "train_acc_list, val_acc_list = [], []\n",
        "train_f1_list, val_f1_list = [], []\n",
        "\n",
        "for epoch in range(50):\n",
        "    running_loss = 0.0\n",
        "    p_list, y_list = [], []\n",
        "    print(f'Epoch {epoch+1}')\n",
        "    for i, (seqs, tags, lens) in enumerate(tqdm(train_dl)):\n",
        "        optimizer.zero_grad()\n",
        "\n",
        "        preds = model(seqs, lens).squeeze(dim = -1)\n",
        "        loss = ce_loss(preds, tags)\n",
        "        loss.backward()\n",
        "        optimizer.step()\n",
        "\n",
        "        # saving the outputs of the model in a list for analysis\n",
        "        p_list += torch.argmax(preds, dim=1).flatten().tolist()\n",
        "        y_list += tags.flatten().tolist()\n",
        "\n",
        "        running_loss += loss.item()\n",
        "\n",
        "    \n",
        "    p_list = torch.tensor(p_list)\n",
        "    y_list = torch.tensor(y_list)\n",
        "    \n",
        "    # computing the epoch metrics\n",
        "    train_loss = running_loss / len(train_dl)\n",
        "    train_acc_value = accuracy(p_list, y_list).item()\n",
        "    train_f1_value = f1_score(p_list, y_list).item()\n",
        "\n",
        "    # saving the metrics for visualization\n",
        "    train_loss_list.append(train_loss)\n",
        "    train_acc_list.append(train_acc_value)\n",
        "    train_f1_list.append(train_f1_value)\n",
        "\n",
        "    print(f'Loss: {train_loss:.4f}')\n",
        "    print('Running evaluation ...')\n",
        "    \n",
        "    running_loss = 0.0\n",
        "    p_list, y_list = [], []\n",
        "    with torch.inference_mode():\n",
        "        model.eval()\n",
        "        for (seqs, tags, lens) in tqdm(val_dl):\n",
        "            preds = model(seqs, lens).squeeze(dim = -1)\n",
        "            loss = ce_loss(preds, tags)\n",
        "\n",
        "            # saving the outputs of the model in a list for analysis\n",
        "            p_list += torch.argmax(preds, dim=1).flatten().tolist()\n",
        "            y_list += tags.flatten().tolist()\n",
        "\n",
        "            running_loss += loss.item()\n",
        "\n",
        "        p_list = torch.tensor(p_list)\n",
        "        y_list = torch.tensor(y_list)\n",
        "\n",
        "        # calculating validation metrics at each epoch\n",
        "        val_loss = running_loss / len(val_dl)\n",
        "        val_acc_value = accuracy(p_list, y_list).item()\n",
        "        val_f1_value = f1_score(p_list, y_list).item()\n",
        "        \n",
        "        # saving the metrics for visualization\n",
        "        val_loss_list.append(val_loss)\n",
        "        val_acc_list.append(val_acc_value)\n",
        "        val_f1_list.append(val_f1_value)\n",
        "\n",
        "        # saving the best weights based on validation loss\n",
        "        if best_val_loss is None or val_loss < best_val_loss:\n",
        "            print(f'Saving new checkpoint ...')\n",
        "            print(f'Best ---> Val_Loss: {val_loss:.4f}, F1_Score: {val_f1_value:.4f}, Accuracy: {val_acc_value:.4f}')\n",
        "            torch.save({'model_state_dict': model.state_dict()}, f'./{model_name}')\n",
        "            best_val_loss = val_loss\n",
        "\n",
        "        print('------------------')\n",
        "\n",
        "\n"
      ]
    },
    {
      "cell_type": "markdown",
      "metadata": {
        "id": "UeWaK3x_qcBZ"
      },
      "source": [
        "#### Test Evaluation\n",
        "We now load the best weight to the model and get the outputs for those wieghts to analyse the error and further properties."
      ]
    },
    {
      "cell_type": "code",
      "execution_count": null,
      "metadata": {
        "colab": {
          "base_uri": "https://localhost:8080/"
        },
        "id": "vjTZxVyMqZHC",
        "outputId": "83238554-9caf-4649-c55b-bcd36f30a23a",
        "vscode": {
          "languageId": "python"
        }
      },
      "outputs": [
        {
          "name": "stdout",
          "output_type": "stream",
          "text": [
            "Loading checkpoint ...\n",
            "Running evaluation ...\n"
          ]
        },
        {
          "name": "stderr",
          "output_type": "stream",
          "text": [
            "100%|██████████| 21/21 [00:00<00:00, 38.07it/s]\n"
          ]
        },
        {
          "name": "stdout",
          "output_type": "stream",
          "text": [
            "\n",
            "Test Metrics\n",
            "----------------\n",
            "Val_Loss: 0.6450\n",
            "Accuracy: 0.8323\n",
            "F1_Score: 0.5653\n"
          ]
        }
      ],
      "source": [
        "from tqdm import tqdm\n",
        "from torch.nn import CrossEntropyLoss\n",
        "from torchmetrics import Accuracy, F1Score\n",
        "\n",
        "\n",
        "def evaluate(model, data_loader):\n",
        "    running_loss = 0.0\n",
        "    p_list, y_list = [], []\n",
        "    with torch.inference_mode():\n",
        "        model.eval()\n",
        "        for (seqs, tags, lens) in tqdm(data_loader):\n",
        "            preds = model(seqs, lens).squeeze(dim = -1)\n",
        "            loss = ce_loss(preds, tags)\n",
        "\n",
        "            # saving the outputs of the model in a list for analysis\n",
        "            p_list += torch.argmax(preds, dim=1).flatten().tolist()\n",
        "            y_list += tags.flatten().tolist()\n",
        "\n",
        "            running_loss += loss.item()\n",
        "\n",
        "        p_list = torch.tensor(p_list)\n",
        "        y_list = torch.tensor(y_list)\n",
        "\n",
        "        # computing test set metrics based on the best wieght\n",
        "        test_loss = running_loss / len(data_loader)\n",
        "        test_f1_value = f1_score(p_list, y_list).item()\n",
        "        test_acc_value = accuracy(p_list, y_list).item()\n",
        "\n",
        "    return test_loss, test_f1_value, test_acc_value\n",
        "    \n",
        "\n",
        "# Loading the best weights of the training\n",
        "print(f'Loading checkpoint ...')\n",
        "checkpoint = torch.load(f'./{model_name}')\n",
        "model.load_state_dict(checkpoint['model_state_dict'])\n",
        "\n",
        "print('Running evaluation ...')\n",
        "test_loss, test_f1_value, test_acc_value = evaluate(model, test_dl)\n",
        "\n",
        "print('\\nTest Metrics\\n----------------')\n",
        "print(f'Val_Loss: {test_loss:.4f}')\n",
        "print(f'Accuracy: {test_acc_value:.4f}')\n",
        "print(f'F1_Score: {test_f1_value:.4f}')"
      ]
    },
    {
      "cell_type": "code",
      "execution_count": null,
      "metadata": {
        "id": "67oYSEUfFcUj",
        "vscode": {
          "languageId": "python"
        }
      },
      "outputs": [],
      "source": [
        "# saving the results for future use (plotting and etc.)\n",
        "import pickle\n",
        "\n",
        "stats = {\n",
        "    'train':{\n",
        "        'cross_entropy':train_loss_list,\n",
        "        'f1_score':train_f1_list,\n",
        "        'accuracy':train_acc_list\n",
        "    },\n",
        "    'validation':{\n",
        "        'cross_entropy':val_loss_list,\n",
        "        'f1_score':val_f1_list,\n",
        "        'accuracy':val_acc_list\n",
        "    },\n",
        "    'test':{\n",
        "        'cross_entropy':test_loss,\n",
        "        'f1_score':test_f1_value,\n",
        "        'accuracy':test_acc_value\n",
        "    }\n",
        "}\n",
        "\n",
        "# saving stats as .pkl file\n",
        "with open(f'{model_name}_stats.pickle', 'wb') as p:\n",
        "    pickle.dump(stats, p, protocol=pickle.HIGHEST_PROTOCOL)"
      ]
    },
    {
      "cell_type": "markdown",
      "metadata": {
        "id": "lQSh3lRJDncI"
      },
      "source": [
        "## Results Comparison\n"
      ]
    },
    {
      "cell_type": "code",
      "execution_count": null,
      "metadata": {
        "id": "nNq1U7uJDnCP",
        "vscode": {
          "languageId": "python"
        }
      },
      "outputs": [],
      "source": [
        "# creating structure for dataframe\n",
        "results = {\n",
        "    'lstm_lm':{\n",
        "        'loss':None,\n",
        "        'f1_score':None,\n",
        "        'accuracy':None\n",
        "    },\n",
        "    'gru_lm':{\n",
        "        'loss':None,\n",
        "        'f1_score':None,\n",
        "        'accuracy':None\n",
        "    },\n",
        "    'multilstm_lm':{\n",
        "        'loss':None,\n",
        "        'f1_score':None,\n",
        "        'accuracy':None\n",
        "        },\n",
        "    'multidense_lm':{\n",
        "        'loss':None,\n",
        "        'f1_score':None,\n",
        "        'accuracy':None\n",
        "        },\n",
        "}"
      ]
    },
    {
      "cell_type": "markdown",
      "metadata": {
        "id": "DOiwS2a4J8Uj"
      },
      "source": [
        "#### Validation Set"
      ]
    },
    {
      "cell_type": "code",
      "execution_count": null,
      "metadata": {
        "colab": {
          "base_uri": "https://localhost:8080/",
          "height": 318
        },
        "id": "1kMQpuF5HGGp",
        "outputId": "337d95e0-c478-410d-9e7c-1165f43c8ff4",
        "vscode": {
          "languageId": "python"
        }
      },
      "outputs": [
        {
          "name": "stdout",
          "output_type": "stream",
          "text": [
            "Loading checkpoint for lstm_lm ...\n"
          ]
        },
        {
          "name": "stderr",
          "output_type": "stream",
          "text": [
            "100%|██████████| 41/41 [00:00<00:00, 76.87it/s]\n"
          ]
        },
        {
          "name": "stdout",
          "output_type": "stream",
          "text": [
            "Loading checkpoint for gru_lm ...\n"
          ]
        },
        {
          "name": "stderr",
          "output_type": "stream",
          "text": [
            "100%|██████████| 41/41 [00:01<00:00, 36.93it/s]\n"
          ]
        },
        {
          "name": "stdout",
          "output_type": "stream",
          "text": [
            "Loading checkpoint for multilstm_lm ...\n"
          ]
        },
        {
          "name": "stderr",
          "output_type": "stream",
          "text": [
            "100%|██████████| 41/41 [00:01<00:00, 30.93it/s]\n"
          ]
        },
        {
          "name": "stdout",
          "output_type": "stream",
          "text": [
            "Loading checkpoint for multidense_lm ...\n"
          ]
        },
        {
          "name": "stderr",
          "output_type": "stream",
          "text": [
            "100%|██████████| 41/41 [00:01<00:00, 37.12it/s]\n"
          ]
        },
        {
          "data": {
            "application/vnd.google.colaboratory.module+javascript": "\n      import \"https://ssl.gstatic.com/colaboratory/data_table/fb998edc550c7947/data_table.js\";\n\n      window.createDataTable({\n        data: [[\"lstm_lm\",\n{\n            'v': 0.6640422344207764,\n            'f': \"0.6640422344207764\",\n        },\n{\n            'v': 0.5739603638648987,\n            'f': \"0.5739603638648987\",\n        },\n{\n            'v': 0.8298026919364929,\n            'f': \"0.8298026919364929\",\n        }],\n [\"gru_lm\",\n{\n            'v': 0.7019856514000311,\n            'f': \"0.7019856514000311\",\n        },\n{\n            'v': 0.5772905349731445,\n            'f': \"0.5772905349731445\",\n        },\n{\n            'v': 0.8266051411628723,\n            'f': \"0.8266051411628723\",\n        }],\n [\"multilstm_lm\",\n{\n            'v': 0.7424550390825039,\n            'f': \"0.7424550390825039\",\n        },\n{\n            'v': 0.523077130317688,\n            'f': \"0.523077130317688\",\n        },\n{\n            'v': 0.8099632859230042,\n            'f': \"0.8099632859230042\",\n        }],\n [\"multidense_lm\",\n{\n            'v': 0.7940333471065615,\n            'f': \"0.7940333471065615\",\n        },\n{\n            'v': 0.5175033211708069,\n            'f': \"0.5175033211708069\",\n        },\n{\n            'v': 0.7973183989524841,\n            'f': \"0.7973183989524841\",\n        }]],\n        columns: [[\"string\", \"index\"], [\"number\", \"loss\"], [\"number\", \"f1_score\"], [\"number\", \"accuracy\"]],\n        columnOptions: [{\"width\": \"1px\", \"className\": \"index_column\"}],\n        rowsPerPage: 25,\n        helpUrl: \"https://colab.research.google.com/notebooks/data_table.ipynb\",\n        suppressOutputScrolling: true,\n        minimumWidth: undefined,\n      });\n    ",
            "text/html": [
              "\n",
              "  <div id=\"df-ccee4b58-1f88-4d7c-ae76-9e59a975c4b5\">\n",
              "    <div class=\"colab-df-container\">\n",
              "      <div>\n",
              "<style scoped>\n",
              "    .dataframe tbody tr th:only-of-type {\n",
              "        vertical-align: middle;\n",
              "    }\n",
              "\n",
              "    .dataframe tbody tr th {\n",
              "        vertical-align: top;\n",
              "    }\n",
              "\n",
              "    .dataframe thead th {\n",
              "        text-align: right;\n",
              "    }\n",
              "</style>\n",
              "<table border=\"1\" class=\"dataframe\">\n",
              "  <thead>\n",
              "    <tr style=\"text-align: right;\">\n",
              "      <th></th>\n",
              "      <th>loss</th>\n",
              "      <th>f1_score</th>\n",
              "      <th>accuracy</th>\n",
              "    </tr>\n",
              "  </thead>\n",
              "  <tbody>\n",
              "    <tr>\n",
              "      <th>lstm_lm</th>\n",
              "      <td>0.664042</td>\n",
              "      <td>0.573960</td>\n",
              "      <td>0.829803</td>\n",
              "    </tr>\n",
              "    <tr>\n",
              "      <th>gru_lm</th>\n",
              "      <td>0.701986</td>\n",
              "      <td>0.577291</td>\n",
              "      <td>0.826605</td>\n",
              "    </tr>\n",
              "    <tr>\n",
              "      <th>multilstm_lm</th>\n",
              "      <td>0.742455</td>\n",
              "      <td>0.523077</td>\n",
              "      <td>0.809963</td>\n",
              "    </tr>\n",
              "    <tr>\n",
              "      <th>multidense_lm</th>\n",
              "      <td>0.794033</td>\n",
              "      <td>0.517503</td>\n",
              "      <td>0.797318</td>\n",
              "    </tr>\n",
              "  </tbody>\n",
              "</table>\n",
              "</div>\n",
              "      <button class=\"colab-df-convert\" onclick=\"convertToInteractive('df-ccee4b58-1f88-4d7c-ae76-9e59a975c4b5')\"\n",
              "              title=\"Convert this dataframe to an interactive table.\"\n",
              "              style=\"display:none;\">\n",
              "        \n",
              "  <svg xmlns=\"http://www.w3.org/2000/svg\" height=\"24px\"viewBox=\"0 0 24 24\"\n",
              "       width=\"24px\">\n",
              "    <path d=\"M0 0h24v24H0V0z\" fill=\"none\"/>\n",
              "    <path d=\"M18.56 5.44l.94 2.06.94-2.06 2.06-.94-2.06-.94-.94-2.06-.94 2.06-2.06.94zm-11 1L8.5 8.5l.94-2.06 2.06-.94-2.06-.94L8.5 2.5l-.94 2.06-2.06.94zm10 10l.94 2.06.94-2.06 2.06-.94-2.06-.94-.94-2.06-.94 2.06-2.06.94z\"/><path d=\"M17.41 7.96l-1.37-1.37c-.4-.4-.92-.59-1.43-.59-.52 0-1.04.2-1.43.59L10.3 9.45l-7.72 7.72c-.78.78-.78 2.05 0 2.83L4 21.41c.39.39.9.59 1.41.59.51 0 1.02-.2 1.41-.59l7.78-7.78 2.81-2.81c.8-.78.8-2.07 0-2.86zM5.41 20L4 18.59l7.72-7.72 1.47 1.35L5.41 20z\"/>\n",
              "  </svg>\n",
              "      </button>\n",
              "      \n",
              "  <style>\n",
              "    .colab-df-container {\n",
              "      display:flex;\n",
              "      flex-wrap:wrap;\n",
              "      gap: 12px;\n",
              "    }\n",
              "\n",
              "    .colab-df-convert {\n",
              "      background-color: #E8F0FE;\n",
              "      border: none;\n",
              "      border-radius: 50%;\n",
              "      cursor: pointer;\n",
              "      display: none;\n",
              "      fill: #1967D2;\n",
              "      height: 32px;\n",
              "      padding: 0 0 0 0;\n",
              "      width: 32px;\n",
              "    }\n",
              "\n",
              "    .colab-df-convert:hover {\n",
              "      background-color: #E2EBFA;\n",
              "      box-shadow: 0px 1px 2px rgba(60, 64, 67, 0.3), 0px 1px 3px 1px rgba(60, 64, 67, 0.15);\n",
              "      fill: #174EA6;\n",
              "    }\n",
              "\n",
              "    [theme=dark] .colab-df-convert {\n",
              "      background-color: #3B4455;\n",
              "      fill: #D2E3FC;\n",
              "    }\n",
              "\n",
              "    [theme=dark] .colab-df-convert:hover {\n",
              "      background-color: #434B5C;\n",
              "      box-shadow: 0px 1px 3px 1px rgba(0, 0, 0, 0.15);\n",
              "      filter: drop-shadow(0px 1px 2px rgba(0, 0, 0, 0.3));\n",
              "      fill: #FFFFFF;\n",
              "    }\n",
              "  </style>\n",
              "\n",
              "      <script>\n",
              "        const buttonEl =\n",
              "          document.querySelector('#df-ccee4b58-1f88-4d7c-ae76-9e59a975c4b5 button.colab-df-convert');\n",
              "        buttonEl.style.display =\n",
              "          google.colab.kernel.accessAllowed ? 'block' : 'none';\n",
              "\n",
              "        async function convertToInteractive(key) {\n",
              "          const element = document.querySelector('#df-ccee4b58-1f88-4d7c-ae76-9e59a975c4b5');\n",
              "          const dataTable =\n",
              "            await google.colab.kernel.invokeFunction('convertToInteractive',\n",
              "                                                     [key], {});\n",
              "          if (!dataTable) return;\n",
              "\n",
              "          const docLinkHtml = 'Like what you see? Visit the ' +\n",
              "            '<a target=\"_blank\" href=https://colab.research.google.com/notebooks/data_table.ipynb>data table notebook</a>'\n",
              "            + ' to learn more about interactive tables.';\n",
              "          element.innerHTML = '';\n",
              "          dataTable['output_type'] = 'display_data';\n",
              "          await google.colab.output.renderOutput(dataTable, element);\n",
              "          const docLink = document.createElement('div');\n",
              "          docLink.innerHTML = docLinkHtml;\n",
              "          element.appendChild(docLink);\n",
              "        }\n",
              "      </script>\n",
              "    </div>\n",
              "  </div>\n",
              "  "
            ],
            "text/plain": [
              "                   loss  f1_score  accuracy\n",
              "lstm_lm        0.664042  0.573960  0.829803\n",
              "gru_lm         0.701986  0.577291  0.826605\n",
              "multilstm_lm   0.742455  0.523077  0.809963\n",
              "multidense_lm  0.794033  0.517503  0.797318"
            ]
          },
          "execution_count": 55,
          "metadata": {},
          "output_type": "execute_result"
        }
      ],
      "source": [
        "models = [rnn_lm, gru_lm, lstm_lm, dense_lm]\n",
        "models_names = ['lstm_lm', 'gru_lm', 'multilstm_lm', 'multidense_lm']\n",
        "\n",
        "\n",
        "for model, name in zip(models, models_names):\n",
        "    print(f'Loading checkpoint for {name} ...')\n",
        "    checkpoint = torch.load(f'./{name}')\n",
        "    model.load_state_dict(checkpoint['model_state_dict'])\n",
        "    \n",
        "    loss_value, f1_value, acc_value = evaluate(model, val_dl)\n",
        "\n",
        "\n",
        "    results[name]['loss'] = loss_value\n",
        "    results[name]['f1_score'] = f1_value\n",
        "    results[name]['accuracy'] = acc_value\n",
        "\n",
        "pd.DataFrame(results).T.head()"
      ]
    },
    {
      "cell_type": "markdown",
      "metadata": {
        "id": "NVsNwDX8J_r1"
      },
      "source": [
        "#### Test Set"
      ]
    },
    {
      "cell_type": "code",
      "execution_count": null,
      "metadata": {
        "colab": {
          "base_uri": "https://localhost:8080/",
          "height": 318
        },
        "id": "vV5I5SisJ3Pi",
        "outputId": "3ae5c9b6-ecba-4893-d364-c0c2fe3bd4ee",
        "vscode": {
          "languageId": "python"
        }
      },
      "outputs": [
        {
          "name": "stdout",
          "output_type": "stream",
          "text": [
            "Loading checkpoint for lstm_lm ...\n"
          ]
        },
        {
          "name": "stderr",
          "output_type": "stream",
          "text": [
            "100%|██████████| 21/21 [00:00<00:00, 64.95it/s]\n"
          ]
        },
        {
          "name": "stdout",
          "output_type": "stream",
          "text": [
            "Loading checkpoint for gru_lm ...\n"
          ]
        },
        {
          "name": "stderr",
          "output_type": "stream",
          "text": [
            "100%|██████████| 21/21 [00:00<00:00, 64.16it/s]\n"
          ]
        },
        {
          "name": "stdout",
          "output_type": "stream",
          "text": [
            "Loading checkpoint for multilstm_lm ...\n"
          ]
        },
        {
          "name": "stderr",
          "output_type": "stream",
          "text": [
            "100%|██████████| 21/21 [00:00<00:00, 53.72it/s]\n"
          ]
        },
        {
          "name": "stdout",
          "output_type": "stream",
          "text": [
            "Loading checkpoint for multidense_lm ...\n"
          ]
        },
        {
          "name": "stderr",
          "output_type": "stream",
          "text": [
            "100%|██████████| 21/21 [00:00<00:00, 63.73it/s]\n"
          ]
        },
        {
          "data": {
            "application/vnd.google.colaboratory.module+javascript": "\n      import \"https://ssl.gstatic.com/colaboratory/data_table/fb998edc550c7947/data_table.js\";\n\n      window.createDataTable({\n        data: [[\"lstm_lm\",\n{\n            'v': 0.6082409804775601,\n            'f': \"0.6082409804775601\",\n        },\n{\n            'v': 0.564370334148407,\n            'f': \"0.564370334148407\",\n        },\n{\n            'v': 0.8374416828155518,\n            'f': \"0.8374416828155518\",\n        }],\n [\"gru_lm\",\n{\n            'v': 0.6450443523270744,\n            'f': \"0.6450443523270744\",\n        },\n{\n            'v': 0.5652768015861511,\n            'f': \"0.5652768015861511\",\n        },\n{\n            'v': 0.8323366641998291,\n            'f': \"0.8323366641998291\",\n        }],\n [\"multilstm_lm\",\n{\n            'v': 0.6931710782505217,\n            'f': \"0.6931710782505217\",\n        },\n{\n            'v': 0.5347160696983337,\n            'f': \"0.5347160696983337\",\n        },\n{\n            'v': 0.8181884288787842,\n            'f': \"0.8181884288787842\",\n        }],\n [\"multidense_lm\",\n{\n            'v': 0.7384255045936221,\n            'f': \"0.7384255045936221\",\n        },\n{\n            'v': 0.5171457529067993,\n            'f': \"0.5171457529067993\",\n        },\n{\n            'v': 0.8057176470756531,\n            'f': \"0.8057176470756531\",\n        }]],\n        columns: [[\"string\", \"index\"], [\"number\", \"loss\"], [\"number\", \"f1_score\"], [\"number\", \"accuracy\"]],\n        columnOptions: [{\"width\": \"1px\", \"className\": \"index_column\"}],\n        rowsPerPage: 25,\n        helpUrl: \"https://colab.research.google.com/notebooks/data_table.ipynb\",\n        suppressOutputScrolling: true,\n        minimumWidth: undefined,\n      });\n    ",
            "text/html": [
              "\n",
              "  <div id=\"df-852c4b80-7af2-4949-86a3-c49781fa6bd8\">\n",
              "    <div class=\"colab-df-container\">\n",
              "      <div>\n",
              "<style scoped>\n",
              "    .dataframe tbody tr th:only-of-type {\n",
              "        vertical-align: middle;\n",
              "    }\n",
              "\n",
              "    .dataframe tbody tr th {\n",
              "        vertical-align: top;\n",
              "    }\n",
              "\n",
              "    .dataframe thead th {\n",
              "        text-align: right;\n",
              "    }\n",
              "</style>\n",
              "<table border=\"1\" class=\"dataframe\">\n",
              "  <thead>\n",
              "    <tr style=\"text-align: right;\">\n",
              "      <th></th>\n",
              "      <th>loss</th>\n",
              "      <th>f1_score</th>\n",
              "      <th>accuracy</th>\n",
              "    </tr>\n",
              "  </thead>\n",
              "  <tbody>\n",
              "    <tr>\n",
              "      <th>lstm_lm</th>\n",
              "      <td>0.608241</td>\n",
              "      <td>0.564370</td>\n",
              "      <td>0.837442</td>\n",
              "    </tr>\n",
              "    <tr>\n",
              "      <th>gru_lm</th>\n",
              "      <td>0.645044</td>\n",
              "      <td>0.565277</td>\n",
              "      <td>0.832337</td>\n",
              "    </tr>\n",
              "    <tr>\n",
              "      <th>multilstm_lm</th>\n",
              "      <td>0.693171</td>\n",
              "      <td>0.534716</td>\n",
              "      <td>0.818188</td>\n",
              "    </tr>\n",
              "    <tr>\n",
              "      <th>multidense_lm</th>\n",
              "      <td>0.738426</td>\n",
              "      <td>0.517146</td>\n",
              "      <td>0.805718</td>\n",
              "    </tr>\n",
              "  </tbody>\n",
              "</table>\n",
              "</div>\n",
              "      <button class=\"colab-df-convert\" onclick=\"convertToInteractive('df-852c4b80-7af2-4949-86a3-c49781fa6bd8')\"\n",
              "              title=\"Convert this dataframe to an interactive table.\"\n",
              "              style=\"display:none;\">\n",
              "        \n",
              "  <svg xmlns=\"http://www.w3.org/2000/svg\" height=\"24px\"viewBox=\"0 0 24 24\"\n",
              "       width=\"24px\">\n",
              "    <path d=\"M0 0h24v24H0V0z\" fill=\"none\"/>\n",
              "    <path d=\"M18.56 5.44l.94 2.06.94-2.06 2.06-.94-2.06-.94-.94-2.06-.94 2.06-2.06.94zm-11 1L8.5 8.5l.94-2.06 2.06-.94-2.06-.94L8.5 2.5l-.94 2.06-2.06.94zm10 10l.94 2.06.94-2.06 2.06-.94-2.06-.94-.94-2.06-.94 2.06-2.06.94z\"/><path d=\"M17.41 7.96l-1.37-1.37c-.4-.4-.92-.59-1.43-.59-.52 0-1.04.2-1.43.59L10.3 9.45l-7.72 7.72c-.78.78-.78 2.05 0 2.83L4 21.41c.39.39.9.59 1.41.59.51 0 1.02-.2 1.41-.59l7.78-7.78 2.81-2.81c.8-.78.8-2.07 0-2.86zM5.41 20L4 18.59l7.72-7.72 1.47 1.35L5.41 20z\"/>\n",
              "  </svg>\n",
              "      </button>\n",
              "      \n",
              "  <style>\n",
              "    .colab-df-container {\n",
              "      display:flex;\n",
              "      flex-wrap:wrap;\n",
              "      gap: 12px;\n",
              "    }\n",
              "\n",
              "    .colab-df-convert {\n",
              "      background-color: #E8F0FE;\n",
              "      border: none;\n",
              "      border-radius: 50%;\n",
              "      cursor: pointer;\n",
              "      display: none;\n",
              "      fill: #1967D2;\n",
              "      height: 32px;\n",
              "      padding: 0 0 0 0;\n",
              "      width: 32px;\n",
              "    }\n",
              "\n",
              "    .colab-df-convert:hover {\n",
              "      background-color: #E2EBFA;\n",
              "      box-shadow: 0px 1px 2px rgba(60, 64, 67, 0.3), 0px 1px 3px 1px rgba(60, 64, 67, 0.15);\n",
              "      fill: #174EA6;\n",
              "    }\n",
              "\n",
              "    [theme=dark] .colab-df-convert {\n",
              "      background-color: #3B4455;\n",
              "      fill: #D2E3FC;\n",
              "    }\n",
              "\n",
              "    [theme=dark] .colab-df-convert:hover {\n",
              "      background-color: #434B5C;\n",
              "      box-shadow: 0px 1px 3px 1px rgba(0, 0, 0, 0.15);\n",
              "      filter: drop-shadow(0px 1px 2px rgba(0, 0, 0, 0.3));\n",
              "      fill: #FFFFFF;\n",
              "    }\n",
              "  </style>\n",
              "\n",
              "      <script>\n",
              "        const buttonEl =\n",
              "          document.querySelector('#df-852c4b80-7af2-4949-86a3-c49781fa6bd8 button.colab-df-convert');\n",
              "        buttonEl.style.display =\n",
              "          google.colab.kernel.accessAllowed ? 'block' : 'none';\n",
              "\n",
              "        async function convertToInteractive(key) {\n",
              "          const element = document.querySelector('#df-852c4b80-7af2-4949-86a3-c49781fa6bd8');\n",
              "          const dataTable =\n",
              "            await google.colab.kernel.invokeFunction('convertToInteractive',\n",
              "                                                     [key], {});\n",
              "          if (!dataTable) return;\n",
              "\n",
              "          const docLinkHtml = 'Like what you see? Visit the ' +\n",
              "            '<a target=\"_blank\" href=https://colab.research.google.com/notebooks/data_table.ipynb>data table notebook</a>'\n",
              "            + ' to learn more about interactive tables.';\n",
              "          element.innerHTML = '';\n",
              "          dataTable['output_type'] = 'display_data';\n",
              "          await google.colab.output.renderOutput(dataTable, element);\n",
              "          const docLink = document.createElement('div');\n",
              "          docLink.innerHTML = docLinkHtml;\n",
              "          element.appendChild(docLink);\n",
              "        }\n",
              "      </script>\n",
              "    </div>\n",
              "  </div>\n",
              "  "
            ],
            "text/plain": [
              "                   loss  f1_score  accuracy\n",
              "lstm_lm        0.608241  0.564370  0.837442\n",
              "gru_lm         0.645044  0.565277  0.832337\n",
              "multilstm_lm   0.693171  0.534716  0.818188\n",
              "multidense_lm  0.738426  0.517146  0.805718"
            ]
          },
          "execution_count": 56,
          "metadata": {},
          "output_type": "execute_result"
        }
      ],
      "source": [
        "models = [rnn_lm, gru_lm, lstm_lm, dense_lm]\n",
        "models_names = ['lstm_lm', 'gru_lm', 'multilstm_lm', 'multidense_lm']\n",
        "\n",
        "\n",
        "for model, name in zip(models, models_names):\n",
        "    print(f'Loading checkpoint for {name} ...')\n",
        "    checkpoint = torch.load(f'./{name}')\n",
        "    model.load_state_dict(checkpoint['model_state_dict'])\n",
        "    \n",
        "    loss_value, f1_value, acc_value = evaluate(model, test_dl)\n",
        "\n",
        "\n",
        "    results[name]['loss'] = loss_value\n",
        "    results[name]['f1_score'] = f1_value\n",
        "    results[name]['accuracy'] = acc_value\n",
        "\n",
        "pd.DataFrame(results).T.head()"
      ]
    },
    {
      "cell_type": "markdown",
      "metadata": {
        "id": "zxviUoLtxRRj"
      },
      "source": [
        "Based on the result we can see on the tables above, it seems the best model `Accuracy` and `F1-Macro` seems to be the one with GRU layer and although the performance of the other top models is almost similar, we choose this model to analyze the outputs and errors."
      ]
    },
    {
      "cell_type": "markdown",
      "metadata": {
        "id": "5ru96nPnM_7V"
      },
      "source": [
        "### Display model performance for Best Model (GRU)\n",
        "\n",
        "We show the stats for each single tag using `classification_report`. Then we analyse the results for each tag and reason about the causes of errors in that group."
      ]
    },
    {
      "cell_type": "markdown",
      "metadata": {
        "id": "r2Bumf2UmWPQ"
      },
      "source": [
        "### model performance"
      ]
    },
    {
      "cell_type": "code",
      "execution_count": null,
      "metadata": {
        "id": "iJxjLx5SQwFy",
        "vscode": {
          "languageId": "python"
        }
      },
      "outputs": [],
      "source": [
        "best_model, model_name = rnn_lm, 'lstm_lm'"
      ]
    },
    {
      "cell_type": "code",
      "execution_count": null,
      "metadata": {
        "colab": {
          "base_uri": "https://localhost:8080/",
          "height": 268
        },
        "id": "IKp5uB1anCuS",
        "outputId": "d4b41146-5b93-48a0-9c8a-401d05dd95a5",
        "vscode": {
          "languageId": "python"
        }
      },
      "outputs": [
        {
          "data": {
            "image/png": "[encoded data removed]",
            "text/plain": [
              "<Figure size 1800x360 with 3 Axes>"
            ]
          },
          "metadata": {
            "needs_background": "light"
          },
          "output_type": "display_data"
        }
      ],
      "source": [
        "def plot_stats(model_stats):\n",
        "    f, (ax1, ax2, ax3) = plt.subplots(1, 3, figsize = (25,5))\n",
        "\n",
        "    ax1.plot(stats['train']['cross_entropy'])\n",
        "    ax1.plot(stats['validation']['cross_entropy'])\n",
        "    ax1.set_title('CrossEntropyLoss')\n",
        "    ax1.set_xlabel('Epoch')\n",
        "    ax1.set_ylabel('Loss Value')\n",
        "\n",
        "    ax2.plot(stats['train']['accuracy'])\n",
        "    ax2.plot(stats['validation']['accuracy'])\n",
        "    ax2.set_title('Accuracy')\n",
        "    ax2.set_xlabel('Epoch')\n",
        "    ax2.set_ylabel('Loss Value')\n",
        "\n",
        "    ax3.plot(stats['train']['f1_score'])\n",
        "    ax3.plot(stats['validation']['f1_score'])\n",
        "    ax3.set_title('F1-Score')\n",
        "    ax3.set_xlabel('Epoch')\n",
        "    ax3.set_ylabel('Loss Value')\n",
        "\n",
        "\n",
        "\n",
        "# saving stats as .pkl file\n",
        "with open(f'{model_name}_stats.pickle', 'rb') as p:\n",
        "    stats = pickle.load(p)\n",
        "\n",
        "plot_stats(stats)"
      ]
    },
    {
      "cell_type": "code",
      "execution_count": null,
      "metadata": {
        "colab": {
          "base_uri": "https://localhost:8080/"
        },
        "id": "gAyji66exzoh",
        "outputId": "9a8eccc1-6788-4dda-9d5c-24bb9e3538ec",
        "vscode": {
          "languageId": "python"
        }
      },
      "outputs": [
        {
          "name": "stdout",
          "output_type": "stream",
          "text": [
            "Loading checkpoint for lstm_lm ...\n"
          ]
        },
        {
          "name": "stderr",
          "output_type": "stream",
          "text": [
            "100%|██████████| 21/21 [00:00<00:00, 51.97it/s]\n"
          ]
        }
      ],
      "source": [
        "print(f'Loading checkpoint for {model_name} ...')\n",
        "checkpoint = torch.load(f'./{model_name}')\n",
        "best_model.load_state_dict(checkpoint['model_state_dict'])\n",
        "\n",
        "p_list, y_list = [], []\n",
        "with torch.inference_mode():\n",
        "    best_model.eval()\n",
        "    for (seqs, tags, lens) in tqdm(test_dl):\n",
        "        preds = model(seqs, lens).squeeze(dim = -1)\n",
        "\n",
        "        # saving the outputs of the model in a list for analysis\n",
        "        p_list += torch.argmax(preds, dim=1).flatten().tolist()\n",
        "        y_list += tags.flatten().tolist()\n",
        "\n",
        "    p_list = torch.tensor(p_list)\n",
        "    y_list = torch.tensor(y_list)"
      ]
    },
    {
      "cell_type": "markdown",
      "metadata": {
        "id": "b1MseDSPdeF7"
      },
      "source": [
        "Note:\n",
        "- To sort the table, click on the column you wish as sorting parameter (e.g. f1-score)"
      ]
    },
    {
      "cell_type": "code",
      "execution_count": null,
      "metadata": {
        "colab": {
          "base_uri": "https://localhost:8080/",
          "height": 1206
        },
        "id": "eVzAHD8fx_ic",
        "outputId": "beea05e1-7d1f-4e7d-d15e-50a58793db2b",
        "vscode": {
          "languageId": "python"
        }
      },
      "outputs": [
        {
          "name": "stderr",
          "output_type": "stream",
          "text": [
            "/usr/local/lib/python3.8/dist-packages/sklearn/metrics/_classification.py:1318: UndefinedMetricWarning: Precision and F-score are ill-defined and being set to 0.0 in labels with no predicted samples. Use `zero_division` parameter to control this behavior.\n",
            "  _warn_prf(average, modifier, msg_start, len(result))\n",
            "/usr/local/lib/python3.8/dist-packages/sklearn/metrics/_classification.py:1318: UndefinedMetricWarning: Recall and F-score are ill-defined and being set to 0.0 in labels with no true samples. Use `zero_division` parameter to control this behavior.\n",
            "  _warn_prf(average, modifier, msg_start, len(result))\n",
            "/usr/local/lib/python3.8/dist-packages/sklearn/metrics/_classification.py:1318: UndefinedMetricWarning: Precision and F-score are ill-defined and being set to 0.0 in labels with no predicted samples. Use `zero_division` parameter to control this behavior.\n",
            "  _warn_prf(average, modifier, msg_start, len(result))\n",
            "/usr/local/lib/python3.8/dist-packages/sklearn/metrics/_classification.py:1318: UndefinedMetricWarning: Recall and F-score are ill-defined and being set to 0.0 in labels with no true samples. Use `zero_division` parameter to control this behavior.\n",
            "  _warn_prf(average, modifier, msg_start, len(result))\n",
            "/usr/local/lib/python3.8/dist-packages/sklearn/metrics/_classification.py:1318: UndefinedMetricWarning: Precision and F-score are ill-defined and being set to 0.0 in labels with no predicted samples. Use `zero_division` parameter to control this behavior.\n",
            "  _warn_prf(average, modifier, msg_start, len(result))\n",
            "/usr/local/lib/python3.8/dist-packages/sklearn/metrics/_classification.py:1318: UndefinedMetricWarning: Recall and F-score are ill-defined and being set to 0.0 in labels with no true samples. Use `zero_division` parameter to control this behavior.\n",
            "  _warn_prf(average, modifier, msg_start, len(result))\n"
          ]
        },
        {
          "data": {
            "application/vnd.google.colaboratory.module+javascript": "\n      import \"https://ssl.gstatic.com/colaboratory/data_table/fb998edc550c7947/data_table.js\";\n\n      window.createDataTable({\n        data: [[\"0\",\n{\n            'v': 0.0,\n            'f': \"0.0\",\n        },\n{\n            'v': 0.0,\n            'f': \"0.0\",\n        },\n{\n            'v': 0.0,\n            'f': \"0.0\",\n        },\n{\n            'v': 15624.0,\n            'f': \"15624.0\",\n        }],\n [\"1\",\n{\n            'v': 0.79,\n            'f': \"0.79\",\n        },\n{\n            'v': 0.66,\n            'f': \"0.66\",\n        },\n{\n            'v': 0.72,\n            'f': \"0.72\",\n        },\n{\n            'v': 1504.0,\n            'f': \"1504.0\",\n        }],\n [\"2\",\n{\n            'v': 0.0,\n            'f': \"0.0\",\n        },\n{\n            'v': 0.0,\n            'f': \"0.0\",\n        },\n{\n            'v': 0.0,\n            'f': \"0.0\",\n        },\n{\n            'v': 0.0,\n            'f': \"0.0\",\n        }],\n [\"3\",\n{\n            'v': 0.87,\n            'f': \"0.87\",\n        },\n{\n            'v': 0.77,\n            'f': \"0.77\",\n        },\n{\n            'v': 0.82,\n            'f': \"0.82\",\n        },\n{\n            'v': 858.0,\n            'f': \"858.0\",\n        }],\n [\"4\",\n{\n            'v': 0.67,\n            'f': \"0.67\",\n        },\n{\n            'v': 0.71,\n            'f': \"0.71\",\n        },\n{\n            'v': 0.69,\n            'f': \"0.69\",\n        },\n{\n            'v': 941.0,\n            'f': \"941.0\",\n        }],\n [\"5\",\n{\n            'v': 0.59,\n            'f': \"0.59\",\n        },\n{\n            'v': 0.69,\n            'f': \"0.69\",\n        },\n{\n            'v': 0.64,\n            'f': \"0.64\",\n        },\n{\n            'v': 918.0,\n            'f': \"918.0\",\n        }],\n [\"6\",\n{\n            'v': 0.95,\n            'f': \"0.95\",\n        },\n{\n            'v': 0.96,\n            'f': \"0.96\",\n        },\n{\n            'v': 0.96,\n            'f': \"0.96\",\n        },\n{\n            'v': 167.0,\n            'f': \"167.0\",\n        }],\n [\"7\",\n{\n            'v': 0.78,\n            'f': \"0.78\",\n        },\n{\n            'v': 0.85,\n            'f': \"0.85\",\n        },\n{\n            'v': 0.81,\n            'f': \"0.81\",\n        },\n{\n            'v': 403.0,\n            'f': \"403.0\",\n        }],\n [\"8\",\n{\n            'v': 0.97,\n            'f': \"0.97\",\n        },\n{\n            'v': 0.99,\n            'f': \"0.99\",\n        },\n{\n            'v': 0.98,\n            'f': \"0.98\",\n        },\n{\n            'v': 1335.0,\n            'f': \"1335.0\",\n        }],\n [\"9\",\n{\n            'v': 0.76,\n            'f': \"0.76\",\n        },\n{\n            'v': 0.81,\n            'f': \"0.81\",\n        },\n{\n            'v': 0.78,\n            'f': \"0.78\",\n        },\n{\n            'v': 2383.0,\n            'f': \"2383.0\",\n        }],\n [\"10\",\n{\n            'v': 0.96,\n            'f': \"0.96\",\n        },\n{\n            'v': 0.95,\n            'f': \"0.95\",\n        },\n{\n            'v': 0.96,\n            'f': \"0.96\",\n        },\n{\n            'v': 1630.0,\n            'f': \"1630.0\",\n        }],\n [\"11\",\n{\n            'v': 0.0,\n            'f': \"0.0\",\n        },\n{\n            'v': 0.0,\n            'f': \"0.0\",\n        },\n{\n            'v': 0.0,\n            'f': \"0.0\",\n        },\n{\n            'v': 0.0,\n            'f': \"0.0\",\n        }],\n [\"12\",\n{\n            'v': 0.8,\n            'f': \"0.8\",\n        },\n{\n            'v': 0.77,\n            'f': \"0.77\",\n        },\n{\n            'v': 0.78,\n            'f': \"0.78\",\n        },\n{\n            'v': 280.0,\n            'f': \"280.0\",\n        }],\n [\"13\",\n{\n            'v': 0.44,\n            'f': \"0.44\",\n        },\n{\n            'v': 0.47,\n            'f': \"0.47\",\n        },\n{\n            'v': 0.46,\n            'f': \"0.46\",\n        },\n{\n            'v': 221.0,\n            'f': \"221.0\",\n        }],\n [\"14\",\n{\n            'v': 0.99,\n            'f': \"0.99\",\n        },\n{\n            'v': 1.0,\n            'f': \"1.0\",\n        },\n{\n            'v': 0.99,\n            'f': \"0.99\",\n        },\n{\n            'v': 366.0,\n            'f': \"366.0\",\n        }],\n [\"15\",\n{\n            'v': 0.85,\n            'f': \"0.85\",\n        },\n{\n            'v': 0.78,\n            'f': \"0.78\",\n        },\n{\n            'v': 0.81,\n            'f': \"0.81\",\n        },\n{\n            'v': 634.0,\n            'f': \"634.0\",\n        }],\n [\"16\",\n{\n            'v': 0.64,\n            'f': \"0.64\",\n        },\n{\n            'v': 0.57,\n            'f': \"0.57\",\n        },\n{\n            'v': 0.6,\n            'f': \"0.6\",\n        },\n{\n            'v': 366.0,\n            'f': \"366.0\",\n        }],\n [\"17\",\n{\n            'v': 0.02,\n            'f': \"0.02\",\n        },\n{\n            'v': 0.69,\n            'f': \"0.69\",\n        },\n{\n            'v': 0.04,\n            'f': \"0.04\",\n        },\n{\n            'v': 381.0,\n            'f': \"381.0\",\n        }],\n [\"18\",\n{\n            'v': 1.0,\n            'f': \"1.0\",\n        },\n{\n            'v': 1.0,\n            'f': \"1.0\",\n        },\n{\n            'v': 1.0,\n            'f': \"1.0\",\n        },\n{\n            'v': 386.0,\n            'f': \"386.0\",\n        }],\n [\"19\",\n{\n            'v': 0.95,\n            'f': \"0.95\",\n        },\n{\n            'v': 0.98,\n            'f': \"0.98\",\n        },\n{\n            'v': 0.96,\n            'f': \"0.96\",\n        },\n{\n            'v': 192.0,\n            'f': \"192.0\",\n        }],\n [\"20\",\n{\n            'v': 0.0,\n            'f': \"0.0\",\n        },\n{\n            'v': 0.0,\n            'f': \"0.0\",\n        },\n{\n            'v': 0.0,\n            'f': \"0.0\",\n        },\n{\n            'v': 15.0,\n            'f': \"15.0\",\n        }],\n [\"21\",\n{\n            'v': 0.89,\n            'f': \"0.89\",\n        },\n{\n            'v': 0.89,\n            'f': \"0.89\",\n        },\n{\n            'v': 0.89,\n            'f': \"0.89\",\n        },\n{\n            'v': 84.0,\n            'f': \"84.0\",\n        }],\n [\"22\",\n{\n            'v': 0.67,\n            'f': \"0.67\",\n        },\n{\n            'v': 0.68,\n            'f': \"0.68\",\n        },\n{\n            'v': 0.68,\n            'f': \"0.68\",\n        },\n{\n            'v': 134.0,\n            'f': \"134.0\",\n        }],\n [\"23\",\n{\n            'v': 0.38,\n            'f': \"0.38\",\n        },\n{\n            'v': 0.73,\n            'f': \"0.73\",\n        },\n{\n            'v': 0.5,\n            'f': \"0.5\",\n        },\n{\n            'v': 33.0,\n            'f': \"33.0\",\n        }],\n [\"24\",\n{\n            'v': 0.91,\n            'f': \"0.91\",\n        },\n{\n            'v': 0.94,\n            'f': \"0.94\",\n        },\n{\n            'v': 0.93,\n            'f': \"0.93\",\n        },\n{\n            'v': 99.0,\n            'f': \"99.0\",\n        }],\n [\"25\",\n{\n            'v': 0.93,\n            'f': \"0.93\",\n        },\n{\n            'v': 0.45,\n            'f': \"0.45\",\n        },\n{\n            'v': 0.61,\n            'f': \"0.61\",\n        },\n{\n            'v': 31.0,\n            'f': \"31.0\",\n        }],\n [\"26\",\n{\n            'v': 0.96,\n            'f': \"0.96\",\n        },\n{\n            'v': 0.99,\n            'f': \"0.99\",\n        },\n{\n            'v': 0.98,\n            'f': \"0.98\",\n        },\n{\n            'v': 152.0,\n            'f': \"152.0\",\n        }],\n [\"27\",\n{\n            'v': 0.0,\n            'f': \"0.0\",\n        },\n{\n            'v': 0.0,\n            'f': \"0.0\",\n        },\n{\n            'v': 0.0,\n            'f': \"0.0\",\n        },\n{\n            'v': 0.0,\n            'f': \"0.0\",\n        }],\n [\"28\",\n{\n            'v': 0.71,\n            'f': \"0.71\",\n        },\n{\n            'v': 1.0,\n            'f': \"1.0\",\n        },\n{\n            'v': 0.83,\n            'f': \"0.83\",\n        },\n{\n            'v': 5.0,\n            'f': \"5.0\",\n        }],\n [\"29\",\n{\n            'v': 0.0,\n            'f': \"0.0\",\n        },\n{\n            'v': 0.0,\n            'f': \"0.0\",\n        },\n{\n            'v': 0.0,\n            'f': \"0.0\",\n        },\n{\n            'v': 0.0,\n            'f': \"0.0\",\n        }],\n [\"30\",\n{\n            'v': 1.0,\n            'f': \"1.0\",\n        },\n{\n            'v': 1.0,\n            'f': \"1.0\",\n        },\n{\n            'v': 1.0,\n            'f': \"1.0\",\n        },\n{\n            'v': 20.0,\n            'f': \"20.0\",\n        }],\n [\"31\",\n{\n            'v': 0.0,\n            'f': \"0.0\",\n        },\n{\n            'v': 0.0,\n            'f': \"0.0\",\n        },\n{\n            'v': 0.0,\n            'f': \"0.0\",\n        },\n{\n            'v': 0.0,\n            'f': \"0.0\",\n        }],\n [\"32\",\n{\n            'v': 0.71,\n            'f': \"0.71\",\n        },\n{\n            'v': 0.75,\n            'f': \"0.75\",\n        },\n{\n            'v': 0.73,\n            'f': \"0.73\",\n        },\n{\n            'v': 59.0,\n            'f': \"59.0\",\n        }],\n [\"33\",\n{\n            'v': 0.8,\n            'f': \"0.8\",\n        },\n{\n            'v': 0.83,\n            'f': \"0.83\",\n        },\n{\n            'v': 0.82,\n            'f': \"0.82\",\n        },\n{\n            'v': 24.0,\n            'f': \"24.0\",\n        }],\n [\"34\",\n{\n            'v': 0.0,\n            'f': \"0.0\",\n        },\n{\n            'v': 0.0,\n            'f': \"0.0\",\n        },\n{\n            'v': 0.0,\n            'f': \"0.0\",\n        },\n{\n            'v': 0.0,\n            'f': \"0.0\",\n        }],\n [\"35\",\n{\n            'v': 0.0,\n            'f': \"0.0\",\n        },\n{\n            'v': 0.0,\n            'f': \"0.0\",\n        },\n{\n            'v': 0.0,\n            'f': \"0.0\",\n        },\n{\n            'v': 44.0,\n            'f': \"44.0\",\n        }],\n [\"36\",\n{\n            'v': 0.0,\n            'f': \"0.0\",\n        },\n{\n            'v': 0.0,\n            'f': \"0.0\",\n        },\n{\n            'v': 0.0,\n            'f': \"0.0\",\n        },\n{\n            'v': 4.0,\n            'f': \"4.0\",\n        }],\n [\"37\",\n{\n            'v': 1.0,\n            'f': \"1.0\",\n        },\n{\n            'v': 1.0,\n            'f': \"1.0\",\n        },\n{\n            'v': 1.0,\n            'f': \"1.0\",\n        },\n{\n            'v': 18.0,\n            'f': \"18.0\",\n        }],\n [\"38\",\n{\n            'v': 0.95,\n            'f': \"0.95\",\n        },\n{\n            'v': 1.0,\n            'f': \"1.0\",\n        },\n{\n            'v': 0.97,\n            'f': \"0.97\",\n        },\n{\n            'v': 18.0,\n            'f': \"18.0\",\n        }],\n [\"39\",\n{\n            'v': 0.0,\n            'f': \"0.0\",\n        },\n{\n            'v': 0.0,\n            'f': \"0.0\",\n        },\n{\n            'v': 0.0,\n            'f': \"0.0\",\n        },\n{\n            'v': 4.0,\n            'f': \"4.0\",\n        }],\n [\"40\",\n{\n            'v': 0.2,\n            'f': \"0.2\",\n        },\n{\n            'v': 0.33,\n            'f': \"0.33\",\n        },\n{\n            'v': 0.25,\n            'f': \"0.25\",\n        },\n{\n            'v': 3.0,\n            'f': \"3.0\",\n        }]],\n        columns: [[\"string\", \"index\"], [\"number\", \"precision\"], [\"number\", \"recall\"], [\"number\", \"f1-score\"], [\"number\", \"support\"]],\n        columnOptions: [{\"width\": \"1px\", \"className\": \"index_column\"}],\n        rowsPerPage: 25,\n        helpUrl: \"https://colab.research.google.com/notebooks/data_table.ipynb\",\n        suppressOutputScrolling: true,\n        minimumWidth: undefined,\n      });\n    ",
            "text/html": [
              "\n",
              "  <div id=\"df-a1873440-9524-467b-8aa2-cb033febb410\">\n",
              "    <div class=\"colab-df-container\">\n",
              "      <div>\n",
              "<style scoped>\n",
              "    .dataframe tbody tr th:only-of-type {\n",
              "        vertical-align: middle;\n",
              "    }\n",
              "\n",
              "    .dataframe tbody tr th {\n",
              "        vertical-align: top;\n",
              "    }\n",
              "\n",
              "    .dataframe thead th {\n",
              "        text-align: right;\n",
              "    }\n",
              "</style>\n",
              "<table border=\"1\" class=\"dataframe\">\n",
              "  <thead>\n",
              "    <tr style=\"text-align: right;\">\n",
              "      <th></th>\n",
              "      <th>precision</th>\n",
              "      <th>recall</th>\n",
              "      <th>f1-score</th>\n",
              "      <th>support</th>\n",
              "    </tr>\n",
              "  </thead>\n",
              "  <tbody>\n",
              "    <tr>\n",
              "      <th>0</th>\n",
              "      <td>0.00</td>\n",
              "      <td>0.00</td>\n",
              "      <td>0.00</td>\n",
              "      <td>15624.0</td>\n",
              "    </tr>\n",
              "    <tr>\n",
              "      <th>1</th>\n",
              "      <td>0.79</td>\n",
              "      <td>0.66</td>\n",
              "      <td>0.72</td>\n",
              "      <td>1504.0</td>\n",
              "    </tr>\n",
              "    <tr>\n",
              "      <th>2</th>\n",
              "      <td>0.00</td>\n",
              "      <td>0.00</td>\n",
              "      <td>0.00</td>\n",
              "      <td>0.0</td>\n",
              "    </tr>\n",
              "    <tr>\n",
              "      <th>3</th>\n",
              "      <td>0.87</td>\n",
              "      <td>0.77</td>\n",
              "      <td>0.82</td>\n",
              "      <td>858.0</td>\n",
              "    </tr>\n",
              "    <tr>\n",
              "      <th>4</th>\n",
              "      <td>0.67</td>\n",
              "      <td>0.71</td>\n",
              "      <td>0.69</td>\n",
              "      <td>941.0</td>\n",
              "    </tr>\n",
              "    <tr>\n",
              "      <th>5</th>\n",
              "      <td>0.59</td>\n",
              "      <td>0.69</td>\n",
              "      <td>0.64</td>\n",
              "      <td>918.0</td>\n",
              "    </tr>\n",
              "    <tr>\n",
              "      <th>6</th>\n",
              "      <td>0.95</td>\n",
              "      <td>0.96</td>\n",
              "      <td>0.96</td>\n",
              "      <td>167.0</td>\n",
              "    </tr>\n",
              "    <tr>\n",
              "      <th>7</th>\n",
              "      <td>0.78</td>\n",
              "      <td>0.85</td>\n",
              "      <td>0.81</td>\n",
              "      <td>403.0</td>\n",
              "    </tr>\n",
              "    <tr>\n",
              "      <th>8</th>\n",
              "      <td>0.97</td>\n",
              "      <td>0.99</td>\n",
              "      <td>0.98</td>\n",
              "      <td>1335.0</td>\n",
              "    </tr>\n",
              "    <tr>\n",
              "      <th>9</th>\n",
              "      <td>0.76</td>\n",
              "      <td>0.81</td>\n",
              "      <td>0.78</td>\n",
              "      <td>2383.0</td>\n",
              "    </tr>\n",
              "    <tr>\n",
              "      <th>10</th>\n",
              "      <td>0.96</td>\n",
              "      <td>0.95</td>\n",
              "      <td>0.96</td>\n",
              "      <td>1630.0</td>\n",
              "    </tr>\n",
              "    <tr>\n",
              "      <th>11</th>\n",
              "      <td>0.00</td>\n",
              "      <td>0.00</td>\n",
              "      <td>0.00</td>\n",
              "      <td>0.0</td>\n",
              "    </tr>\n",
              "    <tr>\n",
              "      <th>12</th>\n",
              "      <td>0.80</td>\n",
              "      <td>0.77</td>\n",
              "      <td>0.78</td>\n",
              "      <td>280.0</td>\n",
              "    </tr>\n",
              "    <tr>\n",
              "      <th>13</th>\n",
              "      <td>0.44</td>\n",
              "      <td>0.47</td>\n",
              "      <td>0.46</td>\n",
              "      <td>221.0</td>\n",
              "    </tr>\n",
              "    <tr>\n",
              "      <th>14</th>\n",
              "      <td>0.99</td>\n",
              "      <td>1.00</td>\n",
              "      <td>0.99</td>\n",
              "      <td>366.0</td>\n",
              "    </tr>\n",
              "    <tr>\n",
              "      <th>15</th>\n",
              "      <td>0.85</td>\n",
              "      <td>0.78</td>\n",
              "      <td>0.81</td>\n",
              "      <td>634.0</td>\n",
              "    </tr>\n",
              "    <tr>\n",
              "      <th>16</th>\n",
              "      <td>0.64</td>\n",
              "      <td>0.57</td>\n",
              "      <td>0.60</td>\n",
              "      <td>366.0</td>\n",
              "    </tr>\n",
              "    <tr>\n",
              "      <th>17</th>\n",
              "      <td>0.02</td>\n",
              "      <td>0.69</td>\n",
              "      <td>0.04</td>\n",
              "      <td>381.0</td>\n",
              "    </tr>\n",
              "    <tr>\n",
              "      <th>18</th>\n",
              "      <td>1.00</td>\n",
              "      <td>1.00</td>\n",
              "      <td>1.00</td>\n",
              "      <td>386.0</td>\n",
              "    </tr>\n",
              "    <tr>\n",
              "      <th>19</th>\n",
              "      <td>0.95</td>\n",
              "      <td>0.98</td>\n",
              "      <td>0.96</td>\n",
              "      <td>192.0</td>\n",
              "    </tr>\n",
              "    <tr>\n",
              "      <th>20</th>\n",
              "      <td>0.00</td>\n",
              "      <td>0.00</td>\n",
              "      <td>0.00</td>\n",
              "      <td>15.0</td>\n",
              "    </tr>\n",
              "    <tr>\n",
              "      <th>21</th>\n",
              "      <td>0.89</td>\n",
              "      <td>0.89</td>\n",
              "      <td>0.89</td>\n",
              "      <td>84.0</td>\n",
              "    </tr>\n",
              "    <tr>\n",
              "      <th>22</th>\n",
              "      <td>0.67</td>\n",
              "      <td>0.68</td>\n",
              "      <td>0.68</td>\n",
              "      <td>134.0</td>\n",
              "    </tr>\n",
              "    <tr>\n",
              "      <th>23</th>\n",
              "      <td>0.38</td>\n",
              "      <td>0.73</td>\n",
              "      <td>0.50</td>\n",
              "      <td>33.0</td>\n",
              "    </tr>\n",
              "    <tr>\n",
              "      <th>24</th>\n",
              "      <td>0.91</td>\n",
              "      <td>0.94</td>\n",
              "      <td>0.93</td>\n",
              "      <td>99.0</td>\n",
              "    </tr>\n",
              "    <tr>\n",
              "      <th>25</th>\n",
              "      <td>0.93</td>\n",
              "      <td>0.45</td>\n",
              "      <td>0.61</td>\n",
              "      <td>31.0</td>\n",
              "    </tr>\n",
              "    <tr>\n",
              "      <th>26</th>\n",
              "      <td>0.96</td>\n",
              "      <td>0.99</td>\n",
              "      <td>0.98</td>\n",
              "      <td>152.0</td>\n",
              "    </tr>\n",
              "    <tr>\n",
              "      <th>27</th>\n",
              "      <td>0.00</td>\n",
              "      <td>0.00</td>\n",
              "      <td>0.00</td>\n",
              "      <td>0.0</td>\n",
              "    </tr>\n",
              "    <tr>\n",
              "      <th>28</th>\n",
              "      <td>0.71</td>\n",
              "      <td>1.00</td>\n",
              "      <td>0.83</td>\n",
              "      <td>5.0</td>\n",
              "    </tr>\n",
              "    <tr>\n",
              "      <th>29</th>\n",
              "      <td>0.00</td>\n",
              "      <td>0.00</td>\n",
              "      <td>0.00</td>\n",
              "      <td>0.0</td>\n",
              "    </tr>\n",
              "    <tr>\n",
              "      <th>30</th>\n",
              "      <td>1.00</td>\n",
              "      <td>1.00</td>\n",
              "      <td>1.00</td>\n",
              "      <td>20.0</td>\n",
              "    </tr>\n",
              "    <tr>\n",
              "      <th>31</th>\n",
              "      <td>0.00</td>\n",
              "      <td>0.00</td>\n",
              "      <td>0.00</td>\n",
              "      <td>0.0</td>\n",
              "    </tr>\n",
              "    <tr>\n",
              "      <th>32</th>\n",
              "      <td>0.71</td>\n",
              "      <td>0.75</td>\n",
              "      <td>0.73</td>\n",
              "      <td>59.0</td>\n",
              "    </tr>\n",
              "    <tr>\n",
              "      <th>33</th>\n",
              "      <td>0.80</td>\n",
              "      <td>0.83</td>\n",
              "      <td>0.82</td>\n",
              "      <td>24.0</td>\n",
              "    </tr>\n",
              "    <tr>\n",
              "      <th>34</th>\n",
              "      <td>0.00</td>\n",
              "      <td>0.00</td>\n",
              "      <td>0.00</td>\n",
              "      <td>0.0</td>\n",
              "    </tr>\n",
              "    <tr>\n",
              "      <th>35</th>\n",
              "      <td>0.00</td>\n",
              "      <td>0.00</td>\n",
              "      <td>0.00</td>\n",
              "      <td>44.0</td>\n",
              "    </tr>\n",
              "    <tr>\n",
              "      <th>36</th>\n",
              "      <td>0.00</td>\n",
              "      <td>0.00</td>\n",
              "      <td>0.00</td>\n",
              "      <td>4.0</td>\n",
              "    </tr>\n",
              "    <tr>\n",
              "      <th>37</th>\n",
              "      <td>1.00</td>\n",
              "      <td>1.00</td>\n",
              "      <td>1.00</td>\n",
              "      <td>18.0</td>\n",
              "    </tr>\n",
              "    <tr>\n",
              "      <th>38</th>\n",
              "      <td>0.95</td>\n",
              "      <td>1.00</td>\n",
              "      <td>0.97</td>\n",
              "      <td>18.0</td>\n",
              "    </tr>\n",
              "    <tr>\n",
              "      <th>39</th>\n",
              "      <td>0.00</td>\n",
              "      <td>0.00</td>\n",
              "      <td>0.00</td>\n",
              "      <td>4.0</td>\n",
              "    </tr>\n",
              "    <tr>\n",
              "      <th>40</th>\n",
              "      <td>0.20</td>\n",
              "      <td>0.33</td>\n",
              "      <td>0.25</td>\n",
              "      <td>3.0</td>\n",
              "    </tr>\n",
              "  </tbody>\n",
              "</table>\n",
              "</div>\n",
              "      <button class=\"colab-df-convert\" onclick=\"convertToInteractive('df-a1873440-9524-467b-8aa2-cb033febb410')\"\n",
              "              title=\"Convert this dataframe to an interactive table.\"\n",
              "              style=\"display:none;\">\n",
              "        \n",
              "  <svg xmlns=\"http://www.w3.org/2000/svg\" height=\"24px\"viewBox=\"0 0 24 24\"\n",
              "       width=\"24px\">\n",
              "    <path d=\"M0 0h24v24H0V0z\" fill=\"none\"/>\n",
              "    <path d=\"M18.56 5.44l.94 2.06.94-2.06 2.06-.94-2.06-.94-.94-2.06-.94 2.06-2.06.94zm-11 1L8.5 8.5l.94-2.06 2.06-.94-2.06-.94L8.5 2.5l-.94 2.06-2.06.94zm10 10l.94 2.06.94-2.06 2.06-.94-2.06-.94-.94-2.06-.94 2.06-2.06.94z\"/><path d=\"M17.41 7.96l-1.37-1.37c-.4-.4-.92-.59-1.43-.59-.52 0-1.04.2-1.43.59L10.3 9.45l-7.72 7.72c-.78.78-.78 2.05 0 2.83L4 21.41c.39.39.9.59 1.41.59.51 0 1.02-.2 1.41-.59l7.78-7.78 2.81-2.81c.8-.78.8-2.07 0-2.86zM5.41 20L4 18.59l7.72-7.72 1.47 1.35L5.41 20z\"/>\n",
              "  </svg>\n",
              "      </button>\n",
              "      \n",
              "  <style>\n",
              "    .colab-df-container {\n",
              "      display:flex;\n",
              "      flex-wrap:wrap;\n",
              "      gap: 12px;\n",
              "    }\n",
              "\n",
              "    .colab-df-convert {\n",
              "      background-color: #E8F0FE;\n",
              "      border: none;\n",
              "      border-radius: 50%;\n",
              "      cursor: pointer;\n",
              "      display: none;\n",
              "      fill: #1967D2;\n",
              "      height: 32px;\n",
              "      padding: 0 0 0 0;\n",
              "      width: 32px;\n",
              "    }\n",
              "\n",
              "    .colab-df-convert:hover {\n",
              "      background-color: #E2EBFA;\n",
              "      box-shadow: 0px 1px 2px rgba(60, 64, 67, 0.3), 0px 1px 3px 1px rgba(60, 64, 67, 0.15);\n",
              "      fill: #174EA6;\n",
              "    }\n",
              "\n",
              "    [theme=dark] .colab-df-convert {\n",
              "      background-color: #3B4455;\n",
              "      fill: #D2E3FC;\n",
              "    }\n",
              "\n",
              "    [theme=dark] .colab-df-convert:hover {\n",
              "      background-color: #434B5C;\n",
              "      box-shadow: 0px 1px 3px 1px rgba(0, 0, 0, 0.15);\n",
              "      filter: drop-shadow(0px 1px 2px rgba(0, 0, 0, 0.3));\n",
              "      fill: #FFFFFF;\n",
              "    }\n",
              "  </style>\n",
              "\n",
              "      <script>\n",
              "        const buttonEl =\n",
              "          document.querySelector('#df-a1873440-9524-467b-8aa2-cb033febb410 button.colab-df-convert');\n",
              "        buttonEl.style.display =\n",
              "          google.colab.kernel.accessAllowed ? 'block' : 'none';\n",
              "\n",
              "        async function convertToInteractive(key) {\n",
              "          const element = document.querySelector('#df-a1873440-9524-467b-8aa2-cb033febb410');\n",
              "          const dataTable =\n",
              "            await google.colab.kernel.invokeFunction('convertToInteractive',\n",
              "                                                     [key], {});\n",
              "          if (!dataTable) return;\n",
              "\n",
              "          const docLinkHtml = 'Like what you see? Visit the ' +\n",
              "            '<a target=\"_blank\" href=https://colab.research.google.com/notebooks/data_table.ipynb>data table notebook</a>'\n",
              "            + ' to learn more about interactive tables.';\n",
              "          element.innerHTML = '';\n",
              "          dataTable['output_type'] = 'display_data';\n",
              "          await google.colab.output.renderOutput(dataTable, element);\n",
              "          const docLink = document.createElement('div');\n",
              "          docLink.innerHTML = docLinkHtml;\n",
              "          element.appendChild(docLink);\n",
              "        }\n",
              "      </script>\n",
              "    </div>\n",
              "  </div>\n",
              "  "
            ],
            "text/plain": [
              "    precision  recall  f1-score  support\n",
              "0        0.00    0.00      0.00  15624.0\n",
              "1        0.79    0.66      0.72   1504.0\n",
              "2        0.00    0.00      0.00      0.0\n",
              "3        0.87    0.77      0.82    858.0\n",
              "4        0.67    0.71      0.69    941.0\n",
              "5        0.59    0.69      0.64    918.0\n",
              "6        0.95    0.96      0.96    167.0\n",
              "7        0.78    0.85      0.81    403.0\n",
              "8        0.97    0.99      0.98   1335.0\n",
              "9        0.76    0.81      0.78   2383.0\n",
              "10       0.96    0.95      0.96   1630.0\n",
              "11       0.00    0.00      0.00      0.0\n",
              "12       0.80    0.77      0.78    280.0\n",
              "13       0.44    0.47      0.46    221.0\n",
              "14       0.99    1.00      0.99    366.0\n",
              "15       0.85    0.78      0.81    634.0\n",
              "16       0.64    0.57      0.60    366.0\n",
              "17       0.02    0.69      0.04    381.0\n",
              "18       1.00    1.00      1.00    386.0\n",
              "19       0.95    0.98      0.96    192.0\n",
              "20       0.00    0.00      0.00     15.0\n",
              "21       0.89    0.89      0.89     84.0\n",
              "22       0.67    0.68      0.68    134.0\n",
              "23       0.38    0.73      0.50     33.0\n",
              "24       0.91    0.94      0.93     99.0\n",
              "25       0.93    0.45      0.61     31.0\n",
              "26       0.96    0.99      0.98    152.0\n",
              "27       0.00    0.00      0.00      0.0\n",
              "28       0.71    1.00      0.83      5.0\n",
              "29       0.00    0.00      0.00      0.0\n",
              "30       1.00    1.00      1.00     20.0\n",
              "31       0.00    0.00      0.00      0.0\n",
              "32       0.71    0.75      0.73     59.0\n",
              "33       0.80    0.83      0.82     24.0\n",
              "34       0.00    0.00      0.00      0.0\n",
              "35       0.00    0.00      0.00     44.0\n",
              "36       0.00    0.00      0.00      4.0\n",
              "37       1.00    1.00      1.00     18.0\n",
              "38       0.95    1.00      0.97     18.0\n",
              "39       0.00    0.00      0.00      4.0\n",
              "40       0.20    0.33      0.25      3.0"
            ]
          },
          "execution_count": 61,
          "metadata": {},
          "output_type": "execute_result"
        }
      ],
      "source": [
        "from sklearn.metrics import classification_report\n",
        "\n",
        "report_test = classification_report(y_list, p_list, output_dict=True)\n",
        "report_df = pd.DataFrame.from_dict(report_test).drop(columns=['accuracy', 'macro avg', 'weighted avg'])\n",
        "report_df = report_df.T.round(decimals=2)\n",
        "report_df.head(50)"
      ]
    },
    {
      "cell_type": "markdown",
      "metadata": {
        "id": "U5_oFlbG0R1D"
      },
      "source": [
        "Not considering `<pad>` (index 0) and puctuation tags (refer to `ignore_indices` or just consider this list: 2, 11, 27, 29, 31, 34, 45) that are at the top of the list, the best model has very poor performance on some other tasks which we have discussed the possible causes in the main report."
      ]
    },
    {
      "cell_type": "code",
      "execution_count": null,
      "metadata": {
        "colab": {
          "base_uri": "https://localhost:8080/"
        },
        "id": "QUhcGnEVRrxP",
        "outputId": "596d2ca9-5440-4b4a-d5da-1085788b2128",
        "vscode": {
          "languageId": "python"
        }
      },
      "outputs": [
        {
          "data": {
            "text/plain": [
              "('NNPS', 'WP$', 'PDT', 'RB')"
            ]
          },
          "execution_count": 70,
          "metadata": {},
          "output_type": "execute_result"
        }
      ],
      "source": [
        "# worst tags\n",
        "ind2tag[35], ind2tag[36], ind2tag[39], ind2tag[17]"
      ]
    },
    {
      "cell_type": "code",
      "execution_count": null,
      "metadata": {
        "colab": {
          "base_uri": "https://localhost:8080/",
          "height": 1000
        },
        "id": "4OoSebueTL4Z",
        "outputId": "c2f56a12-d483-4bd5-8b96-cd4de4303a6e",
        "vscode": {
          "languageId": "python"
        }
      },
      "outputs": [
        {
          "data": {
            "text/plain": [
              "<sklearn.metrics._plot.confusion_matrix.ConfusionMatrixDisplay at 0x7f2deb00cf40>"
            ]
          },
          "execution_count": 67,
          "metadata": {},
          "output_type": "execute_result"
        },
        {
          "data": {
            "image/png": "[encoded data removed]",
            "text/plain": [
              "<Figure size 1440x1440 with 2 Axes>"
            ]
          },
          "metadata": {
            "needs_background": "light"
          },
          "output_type": "display_data"
        }
      ],
      "source": [
        "from sklearn.metrics import precision_recall_curve, plot_precision_recall_curve, plot_confusion_matrix, ConfusionMatrixDisplay, PrecisionRecallDisplay\n",
        "from sklearn.metrics import plot_confusion_matrix, confusion_matrix\n",
        "\n",
        "cm = confusion_matrix(y_list, p_list)\n",
        "cmp = ConfusionMatrixDisplay(cm)\n",
        "fig, ax = plt.subplots(figsize=(20,20))\n",
        "cmp.plot(ax=ax)"
      ]
    },
    {
      "cell_type": "markdown",
      "metadata": {
        "id": "JoxnZSD5obkc"
      },
      "source": [
        "One possible reason can be due to the low number of support for these tags, for example, as can be seen in tags distribution (at the beginning of the report), 'WP$' has extremely low support in the train set. Also, the classification report shows that most of the 'NNPS' tags are classified as 'NNP' which may be due to the spelling or grammatical errors in the dataset. Another one may be related to OOV words. Since we used placeholders (vectors of zeros) for OOV words, the model may struggle for classifying them."
      ]
    },
    {
      "cell_type": "markdown",
      "metadata": {
        "id": "BwdgwXuCx0ki"
      },
      "source": [
        "### Finally let's visualize some outputs"
      ]
    },
    {
      "cell_type": "code",
      "execution_count": null,
      "metadata": {
        "id": "htEuN-NsxHj8",
        "vscode": {
          "languageId": "python"
        }
      },
      "outputs": [],
      "source": [
        "# Batch_size * Num_tags * Seq_len * 1\n",
        "it = iter(train_dl)\n",
        "batch = next(it)\n",
        "\n",
        "# use model with best weights to get output\n",
        "preds = best_model(batch[0], batch[2]).squeeze(dim = -1)\n",
        "preds_idx_list = torch.argmax(preds, dim = 1)\n",
        "preds_idx_list.tolist()[0]\n",
        "\n",
        "\n",
        "preds_tag = [[ind2tag[ind] for ind in preds_idx] for preds_idx in preds_idx_list.tolist()]\n",
        "true_tag = [[ind2tag[ind] for ind in preds_idx] for preds_idx in batch[1].tolist()]\n",
        "\n",
        "pred_df = pd.DataFrame({'Ground Truth': true_tag, 'Prediction': preds_tag})"
      ]
    },
    {
      "cell_type": "code",
      "execution_count": null,
      "metadata": {
        "colab": {
          "base_uri": "https://localhost:8080/",
          "height": 263
        },
        "id": "FJz1Cj3pz0HA",
        "outputId": "cab1f326-3fdc-4e48-d23a-fdc91d0ee734",
        "vscode": {
          "languageId": "python"
        }
      },
      "outputs": [
        {
          "data": {
            "application/vnd.google.colaboratory.module+javascript": "\n      import \"https://ssl.gstatic.com/colaboratory/data_table/fb998edc550c7947/data_table.js\";\n\n      window.createDataTable({\n        data: [[{\n            'v': 0,\n            'f': \"0\",\n        },\n[\"DT\", \"NNP\", \"VBZ\", \"CD\", \"IN\", \"DT\", \"JJ\", \"VBN\", \"NNS\", \"WDT\", \"VBZ\", \"RB\", \"VB\", \"DT\", \"JJR\", \"NN\", \"IN\", \"NN\", \"IN\", \"DT\", \"JJ\", \",\", \"JJ\", \"NNS\", \"JJ\", \"IN\", \"NN\", \"WDT\", \"VBP\", \"VBN\", \"IN\", \"NNS\", \",\", \"VBG\", \"TO\", \"NNP\", \"NNP\", \"NNP\", \",\", \"DT\", \"NN\", \"IN\", \"NN\", \"IN\", \"DT\", \"NNP\", \"IN\", \"NNP\", \"NNP\", \"IN\", \"NNP\", \".\"],\n[\"DT\", \"NNP\", \"VBZ\", \"CD\", \"IN\", \"DT\", \"JJ\", \"JJ\", \"NNS\", \"WDT\", \"VBZ\", \"RB\", \"VB\", \"DT\", \"JJR\", \"NN\", \"IN\", \"NN\", \"IN\", \"DT\", \"JJ\", \",\", \"JJ\", \"NNS\", \"JJ\", \"IN\", \"NN\", \"WDT\", \"VBP\", \"VBN\", \"IN\", \"NNS\", \",\", \"VBG\", \"TO\", \"NNP\", \"NNP\", \"NNP\", \",\", \"DT\", \"NN\", \"IN\", \"NN\", \"IN\", \"DT\", \"NNP\", \"IN\", \"NNP\", \"NNP\", \"IN\", \"NNP\", \".\"]],\n [{\n            'v': 1,\n            'f': \"1\",\n        },\n[\"DT\", \"NN\", \"RB\", \"MD\", \"VB\", \"DT\", \"WP\", \"VBP\", \"IN\", \"DT\", \"NNP\", \"MD\", \"VB\", \"DT\", \"NN\", \"IN\", \"NN\", \"VBG\", \"NN\", \"RBR\", \"RB\", \"IN\", \"DT\", \"JJ\", \"NN\", \"IN\", \"NN\", \",\", \"NN\", \",\", \"VBN\", \"IN\", \"JJS\", \"NNS\", \"CC\", \"JJ\", \"NNS\", \",\", \"NNP\", \"NNP\", \"VBD\", \".\", \"<pad>\", \"<pad>\", \"<pad>\", \"<pad>\", \"<pad>\", \"<pad>\", \"<pad>\", \"<pad>\", \"<pad>\", \"<pad>\"],\n[\"DT\", \"NN\", \"RB\", \"MD\", \"VB\", \"DT\", \"WP\", \"VBP\", \"IN\", \"DT\", \"NNP\", \"MD\", \"VB\", \"DT\", \"NN\", \"IN\", \"NN\", \"VBG\", \"NN\", \"RBR\", \"RB\", \"IN\", \"DT\", \"JJ\", \"NN\", \"IN\", \"NN\", \",\", \"NN\", \",\", \"VBD\", \"IN\", \"JJS\", \"NNS\", \"CC\", \"JJ\", \"NNS\", \",\", \"NNP\", \"NNP\", \"VBD\", \".\", \"RB\", \"RB\", \"RB\", \"RB\", \"RB\", \"RB\", \"RB\", \"RB\", \"RB\", \"RB\"]],\n [{\n            'v': 2,\n            'f': \"2\",\n        },\n[\"DT\", \"NN\", \"IN\", \"NN\", \"RB\", \"VBN\", \"TO\", \"VB\", \"NNP\", \"NN\", \"NNS\", \"VBZ\", \"VBN\", \"DT\", \"JJ\", \"NN\", \"IN\", \"NN\", \"NNS\", \"IN\", \"DT\", \"NN\", \"IN\", \"NNS\", \"VBN\", \"TO\", \"PRP\", \"RBR\", \"IN\", \"CD\", \"NNS\", \"IN\", \",\", \"NNS\", \"VBD\", \".\", \"<pad>\", \"<pad>\", \"<pad>\", \"<pad>\", \"<pad>\", \"<pad>\", \"<pad>\", \"<pad>\", \"<pad>\", \"<pad>\", \"<pad>\", \"<pad>\", \"<pad>\", \"<pad>\", \"<pad>\", \"<pad>\"],\n[\"DT\", \"NN\", \"IN\", \"NN\", \"RB\", \"VBN\", \"TO\", \"VB\", \"NNP\", \"NN\", \"NNS\", \"VBZ\", \"VBN\", \"DT\", \"JJ\", \"NN\", \"IN\", \"NN\", \"NNS\", \"IN\", \"DT\", \"NN\", \"IN\", \"NNS\", \"VBN\", \"TO\", \"PRP\", \"RBR\", \"IN\", \"CD\", \"NNS\", \"RB\", \",\", \"JJ\", \"VBD\", \".\", \"RB\", \"RB\", \"RB\", \"RB\", \"RB\", \"RB\", \"RB\", \"RB\", \"RB\", \"RB\", \"RB\", \"RB\", \"RB\", \"RB\", \"RB\", \"RB\"]],\n [{\n            'v': 3,\n            'f': \"3\",\n        },\n[\"DT\", \"NN\", \"IN\", \"NN\", \"NN\", \"NNS\", \"IN\", \"DT\", \"NNS\", \"IN\", \"DT\", \"NNP\", \"NNP\", \",\", \"NNP\", \",\", \"NN\", \"NN\", \"VBZ\", \"TO\", \"VB\", \"DT\", \"JJS\", \"IN\", \"DT\", \"NN\", \"NNS\", \"VBN\", \"IN\", \"JJ\", \"VBN\", \"NNS\", \",\", \"PRP\", \"VBD\", \".\", \"<pad>\", \"<pad>\", \"<pad>\", \"<pad>\", \"<pad>\", \"<pad>\", \"<pad>\", \"<pad>\", \"<pad>\", \"<pad>\", \"<pad>\", \"<pad>\", \"<pad>\", \"<pad>\", \"<pad>\", \"<pad>\"],\n[\"DT\", \"NN\", \"IN\", \"NN\", \"NN\", \"NNS\", \"IN\", \"DT\", \"NNS\", \"IN\", \"DT\", \"NNP\", \"NNP\", \",\", \"NNP\", \",\", \"NN\", \"NN\", \"VBZ\", \"TO\", \"VB\", \"DT\", \"JJS\", \"IN\", \"DT\", \"NN\", \"NNS\", \"VBN\", \"IN\", \"JJ\", \"NN\", \"NNS\", \",\", \"PRP\", \"VBD\", \".\", \"RB\", \"RB\", \"RB\", \"RB\", \"RB\", \"RB\", \"RB\", \"RB\", \"RB\", \"RB\", \"RB\", \"RB\", \"RB\", \"RB\", \"RB\", \"RB\"]],\n [{\n            'v': 4,\n            'f': \"4\",\n        },\n[\"IN\", \"JJ\", \"NNS\", \"VBD\", \"VBN\", \"RBR\", \"IN\", \"DT\", \"NN\", \"IN\", \",\", \"DT\", \"JJS\", \"NNS\", \"VBP\", \"IN\", \"NN\", \"POS\", \"NNP\", \"NNP\", \"NNP\", \"IN\", \"NNP\", \",\", \"DT\", \"NN\", \"JJ\", \"TO\", \"VB\", \"JJ\", \"NN\", \"TO\", \"DT\", \"NN\", \".\", \"<pad>\", \"<pad>\", \"<pad>\", \"<pad>\", \"<pad>\", \"<pad>\", \"<pad>\", \"<pad>\", \"<pad>\", \"<pad>\", \"<pad>\", \"<pad>\", \"<pad>\", \"<pad>\", \"<pad>\", \"<pad>\", \"<pad>\"],\n[\"IN\", \"JJ\", \"NNS\", \"VBD\", \"VBN\", \"RBR\", \"IN\", \"DT\", \"NN\", \"RB\", \",\", \"DT\", \"JJS\", \"NNS\", \"VBP\", \"IN\", \"NN\", \"POS\", \"NNP\", \"NNP\", \"NNP\", \"IN\", \"NNP\", \",\", \"DT\", \"NN\", \"JJ\", \"TO\", \"VB\", \"JJ\", \"NN\", \"TO\", \"DT\", \"NN\", \".\", \"RB\", \"RB\", \"RB\", \"RB\", \"RB\", \"RB\", \"RB\", \"RB\", \"RB\", \"RB\", \"RB\", \"RB\", \"RB\", \"RB\", \"RB\", \"RB\", \"RB\"]]],\n        columns: [[\"number\", \"index\"], [\"string\", \"Ground Truth\"], [\"string\", \"Prediction\"]],\n        columnOptions: [{\"width\": \"1px\", \"className\": \"index_column\"}],\n        rowsPerPage: 25,\n        helpUrl: \"https://colab.research.google.com/notebooks/data_table.ipynb\",\n        suppressOutputScrolling: true,\n        minimumWidth: undefined,\n      });\n    ",
            "text/html": [
              "\n",
              "  <div id=\"df-118cd80d-6b2d-436a-ab53-111070c4627f\">\n",
              "    <div class=\"colab-df-container\">\n",
              "      <div>\n",
              "<style scoped>\n",
              "    .dataframe tbody tr th:only-of-type {\n",
              "        vertical-align: middle;\n",
              "    }\n",
              "\n",
              "    .dataframe tbody tr th {\n",
              "        vertical-align: top;\n",
              "    }\n",
              "\n",
              "    .dataframe thead th {\n",
              "        text-align: right;\n",
              "    }\n",
              "</style>\n",
              "<table border=\"1\" class=\"dataframe\">\n",
              "  <thead>\n",
              "    <tr style=\"text-align: right;\">\n",
              "      <th></th>\n",
              "      <th>Ground Truth</th>\n",
              "      <th>Prediction</th>\n",
              "    </tr>\n",
              "  </thead>\n",
              "  <tbody>\n",
              "    <tr>\n",
              "      <th>0</th>\n",
              "      <td>[DT, NNP, VBZ, CD, IN, DT, JJ, VBN, NNS, WDT, ...</td>\n",
              "      <td>[DT, NNP, VBZ, CD, IN, DT, JJ, JJ, NNS, WDT, V...</td>\n",
              "    </tr>\n",
              "    <tr>\n",
              "      <th>1</th>\n",
              "      <td>[DT, NN, RB, MD, VB, DT, WP, VBP, IN, DT, NNP,...</td>\n",
              "      <td>[DT, NN, RB, MD, VB, DT, WP, VBP, IN, DT, NNP,...</td>\n",
              "    </tr>\n",
              "    <tr>\n",
              "      <th>2</th>\n",
              "      <td>[DT, NN, IN, NN, RB, VBN, TO, VB, NNP, NN, NNS...</td>\n",
              "      <td>[DT, NN, IN, NN, RB, VBN, TO, VB, NNP, NN, NNS...</td>\n",
              "    </tr>\n",
              "    <tr>\n",
              "      <th>3</th>\n",
              "      <td>[DT, NN, IN, NN, NN, NNS, IN, DT, NNS, IN, DT,...</td>\n",
              "      <td>[DT, NN, IN, NN, NN, NNS, IN, DT, NNS, IN, DT,...</td>\n",
              "    </tr>\n",
              "    <tr>\n",
              "      <th>4</th>\n",
              "      <td>[IN, JJ, NNS, VBD, VBN, RBR, IN, DT, NN, IN, ,...</td>\n",
              "      <td>[IN, JJ, NNS, VBD, VBN, RBR, IN, DT, NN, RB, ,...</td>\n",
              "    </tr>\n",
              "  </tbody>\n",
              "</table>\n",
              "</div>\n",
              "      <button class=\"colab-df-convert\" onclick=\"convertToInteractive('df-118cd80d-6b2d-436a-ab53-111070c4627f')\"\n",
              "              title=\"Convert this dataframe to an interactive table.\"\n",
              "              style=\"display:none;\">\n",
              "        \n",
              "  <svg xmlns=\"http://www.w3.org/2000/svg\" height=\"24px\"viewBox=\"0 0 24 24\"\n",
              "       width=\"24px\">\n",
              "    <path d=\"M0 0h24v24H0V0z\" fill=\"none\"/>\n",
              "    <path d=\"M18.56 5.44l.94 2.06.94-2.06 2.06-.94-2.06-.94-.94-2.06-.94 2.06-2.06.94zm-11 1L8.5 8.5l.94-2.06 2.06-.94-2.06-.94L8.5 2.5l-.94 2.06-2.06.94zm10 10l.94 2.06.94-2.06 2.06-.94-2.06-.94-.94-2.06-.94 2.06-2.06.94z\"/><path d=\"M17.41 7.96l-1.37-1.37c-.4-.4-.92-.59-1.43-.59-.52 0-1.04.2-1.43.59L10.3 9.45l-7.72 7.72c-.78.78-.78 2.05 0 2.83L4 21.41c.39.39.9.59 1.41.59.51 0 1.02-.2 1.41-.59l7.78-7.78 2.81-2.81c.8-.78.8-2.07 0-2.86zM5.41 20L4 18.59l7.72-7.72 1.47 1.35L5.41 20z\"/>\n",
              "  </svg>\n",
              "      </button>\n",
              "      \n",
              "  <style>\n",
              "    .colab-df-container {\n",
              "      display:flex;\n",
              "      flex-wrap:wrap;\n",
              "      gap: 12px;\n",
              "    }\n",
              "\n",
              "    .colab-df-convert {\n",
              "      background-color: #E8F0FE;\n",
              "      border: none;\n",
              "      border-radius: 50%;\n",
              "      cursor: pointer;\n",
              "      display: none;\n",
              "      fill: #1967D2;\n",
              "      height: 32px;\n",
              "      padding: 0 0 0 0;\n",
              "      width: 32px;\n",
              "    }\n",
              "\n",
              "    .colab-df-convert:hover {\n",
              "      background-color: #E2EBFA;\n",
              "      box-shadow: 0px 1px 2px rgba(60, 64, 67, 0.3), 0px 1px 3px 1px rgba(60, 64, 67, 0.15);\n",
              "      fill: #174EA6;\n",
              "    }\n",
              "\n",
              "    [theme=dark] .colab-df-convert {\n",
              "      background-color: #3B4455;\n",
              "      fill: #D2E3FC;\n",
              "    }\n",
              "\n",
              "    [theme=dark] .colab-df-convert:hover {\n",
              "      background-color: #434B5C;\n",
              "      box-shadow: 0px 1px 3px 1px rgba(0, 0, 0, 0.15);\n",
              "      filter: drop-shadow(0px 1px 2px rgba(0, 0, 0, 0.3));\n",
              "      fill: #FFFFFF;\n",
              "    }\n",
              "  </style>\n",
              "\n",
              "      <script>\n",
              "        const buttonEl =\n",
              "          document.querySelector('#df-118cd80d-6b2d-436a-ab53-111070c4627f button.colab-df-convert');\n",
              "        buttonEl.style.display =\n",
              "          google.colab.kernel.accessAllowed ? 'block' : 'none';\n",
              "\n",
              "        async function convertToInteractive(key) {\n",
              "          const element = document.querySelector('#df-118cd80d-6b2d-436a-ab53-111070c4627f');\n",
              "          const dataTable =\n",
              "            await google.colab.kernel.invokeFunction('convertToInteractive',\n",
              "                                                     [key], {});\n",
              "          if (!dataTable) return;\n",
              "\n",
              "          const docLinkHtml = 'Like what you see? Visit the ' +\n",
              "            '<a target=\"_blank\" href=https://colab.research.google.com/notebooks/data_table.ipynb>data table notebook</a>'\n",
              "            + ' to learn more about interactive tables.';\n",
              "          element.innerHTML = '';\n",
              "          dataTable['output_type'] = 'display_data';\n",
              "          await google.colab.output.renderOutput(dataTable, element);\n",
              "          const docLink = document.createElement('div');\n",
              "          docLink.innerHTML = docLinkHtml;\n",
              "          element.appendChild(docLink);\n",
              "        }\n",
              "      </script>\n",
              "    </div>\n",
              "  </div>\n",
              "  "
            ],
            "text/plain": [
              "                                        Ground Truth  \\\n",
              "0  [DT, NNP, VBZ, CD, IN, DT, JJ, VBN, NNS, WDT, ...   \n",
              "1  [DT, NN, RB, MD, VB, DT, WP, VBP, IN, DT, NNP,...   \n",
              "2  [DT, NN, IN, NN, RB, VBN, TO, VB, NNP, NN, NNS...   \n",
              "3  [DT, NN, IN, NN, NN, NNS, IN, DT, NNS, IN, DT,...   \n",
              "4  [IN, JJ, NNS, VBD, VBN, RBR, IN, DT, NN, IN, ,...   \n",
              "\n",
              "                                          Prediction  \n",
              "0  [DT, NNP, VBZ, CD, IN, DT, JJ, JJ, NNS, WDT, V...  \n",
              "1  [DT, NN, RB, MD, VB, DT, WP, VBP, IN, DT, NNP,...  \n",
              "2  [DT, NN, IN, NN, RB, VBN, TO, VB, NNP, NN, NNS...  \n",
              "3  [DT, NN, IN, NN, NN, NNS, IN, DT, NNS, IN, DT,...  \n",
              "4  [IN, JJ, NNS, VBD, VBN, RBR, IN, DT, NN, RB, ,...  "
            ]
          },
          "execution_count": 72,
          "metadata": {},
          "output_type": "execute_result"
        }
      ],
      "source": [
        "pred_df.head()"
      ]
    }
  ],
  "metadata": {
    "accelerator": "GPU",
    "colab": {
      "provenance": []
    },
    "gpuClass": "standard",
    "kernelspec": {
      "display_name": "Python 3",
      "name": "python3"
    },
    "widgets": {
      "application/vnd.jupyter.widget-state+json": {
        "00b122340e694ed7a1b517a173f10d9f": {
          "model_module": "@jupyter-widgets/base",
          "model_module_version": "1.2.0",
          "model_name": "LayoutModel",
          "state": {
            "_model_module": "@jupyter-widgets/base",
            "_model_module_version": "1.2.0",
            "_model_name": "LayoutModel",
            "_view_count": null,
            "_view_module": "@jupyter-widgets/base",
            "_view_module_version": "1.2.0",
            "_view_name": "LayoutView",
            "align_content": null,
            "align_items": null,
            "align_self": null,
            "border": null,
            "bottom": null,
            "display": null,
            "flex": null,
            "flex_flow": null,
            "grid_area": null,
            "grid_auto_columns": null,
            "grid_auto_flow": null,
            "grid_auto_rows": null,
            "grid_column": null,
            "grid_gap": null,
            "grid_row": null,
            "grid_template_areas": null,
            "grid_template_columns": null,
            "grid_template_rows": null,
            "height": null,
            "justify_content": null,
            "justify_items": null,
            "left": null,
            "margin": null,
            "max_height": null,
            "max_width": null,
            "min_height": null,
            "min_width": null,
            "object_fit": null,
            "object_position": null,
            "order": null,
            "overflow": null,
            "overflow_x": null,
            "overflow_y": null,
            "padding": null,
            "right": null,
            "top": null,
            "visibility": null,
            "width": null
          }
        },
        "0711d0903c9f42d0a91ea7890c21a255": {
          "model_module": "@jupyter-widgets/controls",
          "model_module_version": "1.5.0",
          "model_name": "FloatProgressModel",
          "state": {
            "_dom_classes": [],
            "_model_module": "@jupyter-widgets/controls",
            "_model_module_version": "1.5.0",
            "_model_name": "FloatProgressModel",
            "_view_count": null,
            "_view_module": "@jupyter-widgets/controls",
            "_view_module_version": "1.5.0",
            "_view_name": "ProgressView",
            "bar_style": "success",
            "description": "",
            "description_tooltip": null,
            "layout": "IPY_MODEL_a783ed4c27a54daeb821a6d2f9d49d20",
            "max": 2346,
            "min": 0,
            "orientation": "horizontal",
            "style": "IPY_MODEL_cae6dca3e8bc40bb835b8c98e66eef6e",
            "value": 2346
          }
        },
        "1156c668cf5243a19dca452bfd317693": {
          "model_module": "@jupyter-widgets/controls",
          "model_module_version": "1.5.0",
          "model_name": "HTMLModel",
          "state": {
            "_dom_classes": [],
            "_model_module": "@jupyter-widgets/controls",
            "_model_module_version": "1.5.0",
            "_model_name": "HTMLModel",
            "_view_count": null,
            "_view_module": "@jupyter-widgets/controls",
            "_view_module_version": "1.5.0",
            "_view_name": "HTMLView",
            "description": "",
            "description_tooltip": null,
            "layout": "IPY_MODEL_446aefe6fb4c4983bf6ff6054a2515ce",
            "placeholder": "​",
            "style": "IPY_MODEL_b7b95079e63245d5832b9ac13b21e671",
            "value": "100%"
          }
        },
        "11b4c99537c5489e8bc314ac42d4b29a": {
          "model_module": "@jupyter-widgets/controls",
          "model_module_version": "1.5.0",
          "model_name": "HBoxModel",
          "state": {
            "_dom_classes": [],
            "_model_module": "@jupyter-widgets/controls",
            "_model_module_version": "1.5.0",
            "_model_name": "HBoxModel",
            "_view_count": null,
            "_view_module": "@jupyter-widgets/controls",
            "_view_module_version": "1.5.0",
            "_view_name": "HBoxView",
            "box_style": "",
            "children": [
              "IPY_MODEL_cd8ed268f4d8413882337bd0ba391be6",
              "IPY_MODEL_928bdaf4936245adb23dc08f2db30132",
              "IPY_MODEL_2ca9aaa10a4141d69ade00c106a58455"
            ],
            "layout": "IPY_MODEL_d6f10a09ad4e445290e6e840c7b3b468"
          }
        },
        "1279e2eb25604ea7925450b54ce82fc2": {
          "model_module": "@jupyter-widgets/controls",
          "model_module_version": "1.5.0",
          "model_name": "HBoxModel",
          "state": {
            "_dom_classes": [],
            "_model_module": "@jupyter-widgets/controls",
            "_model_module_version": "1.5.0",
            "_model_name": "HBoxModel",
            "_view_count": null,
            "_view_module": "@jupyter-widgets/controls",
            "_view_module_version": "1.5.0",
            "_view_name": "HBoxView",
            "box_style": "",
            "children": [
              "IPY_MODEL_1156c668cf5243a19dca452bfd317693",
              "IPY_MODEL_0711d0903c9f42d0a91ea7890c21a255",
              "IPY_MODEL_a2f771f42e9d4484a6e3f282e8974470"
            ],
            "layout": "IPY_MODEL_e1dce61d25f142dca8269ed32a5590da"
          }
        },
        "260f71db733849bf8f0098e148c72d1c": {
          "model_module": "@jupyter-widgets/controls",
          "model_module_version": "1.5.0",
          "model_name": "ProgressStyleModel",
          "state": {
            "_model_module": "@jupyter-widgets/controls",
            "_model_module_version": "1.5.0",
            "_model_name": "ProgressStyleModel",
            "_view_count": null,
            "_view_module": "@jupyter-widgets/base",
            "_view_module_version": "1.2.0",
            "_view_name": "StyleView",
            "bar_color": null,
            "description_width": ""
          }
        },
        "2ca9aaa10a4141d69ade00c106a58455": {
          "model_module": "@jupyter-widgets/controls",
          "model_module_version": "1.5.0",
          "model_name": "HTMLModel",
          "state": {
            "_dom_classes": [],
            "_model_module": "@jupyter-widgets/controls",
            "_model_module_version": "1.5.0",
            "_model_name": "HTMLModel",
            "_view_count": null,
            "_view_module": "@jupyter-widgets/controls",
            "_view_module_version": "1.5.0",
            "_view_name": "HTMLView",
            "description": "",
            "description_tooltip": null,
            "layout": "IPY_MODEL_00b122340e694ed7a1b517a173f10d9f",
            "placeholder": "​",
            "style": "IPY_MODEL_72c762fe69b64491b0959d7de0113670",
            "value": " 944/944 [00:17&lt;00:00, 53.63it/s]"
          }
        },
        "33f831524f9640608da64ec537882cfe": {
          "model_module": "@jupyter-widgets/controls",
          "model_module_version": "1.5.0",
          "model_name": "HTMLModel",
          "state": {
            "_dom_classes": [],
            "_model_module": "@jupyter-widgets/controls",
            "_model_module_version": "1.5.0",
            "_model_name": "HTMLModel",
            "_view_count": null,
            "_view_module": "@jupyter-widgets/controls",
            "_view_module_version": "1.5.0",
            "_view_name": "HTMLView",
            "description": "",
            "description_tooltip": null,
            "layout": "IPY_MODEL_5dc2c0a9debd4c0fad0beded73f6fe71",
            "placeholder": "​",
            "style": "IPY_MODEL_a1ab4a854aea4639967397222030df7d",
            "value": "100%"
          }
        },
        "3e69eb4f71e84caa93644cdf18490928": {
          "model_module": "@jupyter-widgets/controls",
          "model_module_version": "1.5.0",
          "model_name": "FloatProgressModel",
          "state": {
            "_dom_classes": [],
            "_model_module": "@jupyter-widgets/controls",
            "_model_module_version": "1.5.0",
            "_model_name": "FloatProgressModel",
            "_view_count": null,
            "_view_module": "@jupyter-widgets/controls",
            "_view_module_version": "1.5.0",
            "_view_name": "ProgressView",
            "bar_style": "success",
            "description": "",
            "description_tooltip": null,
            "layout": "IPY_MODEL_bd6d6c53f0b74871b0ab24fad768b771",
            "max": 455,
            "min": 0,
            "orientation": "horizontal",
            "style": "IPY_MODEL_260f71db733849bf8f0098e148c72d1c",
            "value": 455
          }
        },
        "43ef3e0424e74e848b4d4b6e39d30aea": {
          "model_module": "@jupyter-widgets/controls",
          "model_module_version": "1.5.0",
          "model_name": "DescriptionStyleModel",
          "state": {
            "_model_module": "@jupyter-widgets/controls",
            "_model_module_version": "1.5.0",
            "_model_name": "DescriptionStyleModel",
            "_view_count": null,
            "_view_module": "@jupyter-widgets/base",
            "_view_module_version": "1.2.0",
            "_view_name": "StyleView",
            "description_width": ""
          }
        },
        "446aefe6fb4c4983bf6ff6054a2515ce": {
          "model_module": "@jupyter-widgets/base",
          "model_module_version": "1.2.0",
          "model_name": "LayoutModel",
          "state": {
            "_model_module": "@jupyter-widgets/base",
            "_model_module_version": "1.2.0",
            "_model_name": "LayoutModel",
            "_view_count": null,
            "_view_module": "@jupyter-widgets/base",
            "_view_module_version": "1.2.0",
            "_view_name": "LayoutView",
            "align_content": null,
            "align_items": null,
            "align_self": null,
            "border": null,
            "bottom": null,
            "display": null,
            "flex": null,
            "flex_flow": null,
            "grid_area": null,
            "grid_auto_columns": null,
            "grid_auto_flow": null,
            "grid_auto_rows": null,
            "grid_column": null,
            "grid_gap": null,
            "grid_row": null,
            "grid_template_areas": null,
            "grid_template_columns": null,
            "grid_template_rows": null,
            "height": null,
            "justify_content": null,
            "justify_items": null,
            "left": null,
            "margin": null,
            "max_height": null,
            "max_width": null,
            "min_height": null,
            "min_width": null,
            "object_fit": null,
            "object_position": null,
            "order": null,
            "overflow": null,
            "overflow_x": null,
            "overflow_y": null,
            "padding": null,
            "right": null,
            "top": null,
            "visibility": null,
            "width": null
          }
        },
        "5dc2c0a9debd4c0fad0beded73f6fe71": {
          "model_module": "@jupyter-widgets/base",
          "model_module_version": "1.2.0",
          "model_name": "LayoutModel",
          "state": {
            "_model_module": "@jupyter-widgets/base",
            "_model_module_version": "1.2.0",
            "_model_name": "LayoutModel",
            "_view_count": null,
            "_view_module": "@jupyter-widgets/base",
            "_view_module_version": "1.2.0",
            "_view_name": "LayoutView",
            "align_content": null,
            "align_items": null,
            "align_self": null,
            "border": null,
            "bottom": null,
            "display": null,
            "flex": null,
            "flex_flow": null,
            "grid_area": null,
            "grid_auto_columns": null,
            "grid_auto_flow": null,
            "grid_auto_rows": null,
            "grid_column": null,
            "grid_gap": null,
            "grid_row": null,
            "grid_template_areas": null,
            "grid_template_columns": null,
            "grid_template_rows": null,
            "height": null,
            "justify_content": null,
            "justify_items": null,
            "left": null,
            "margin": null,
            "max_height": null,
            "max_width": null,
            "min_height": null,
            "min_width": null,
            "object_fit": null,
            "object_position": null,
            "order": null,
            "overflow": null,
            "overflow_x": null,
            "overflow_y": null,
            "padding": null,
            "right": null,
            "top": null,
            "visibility": null,
            "width": null
          }
        },
        "638f8735721648138e334c36bf44c4bd": {
          "model_module": "@jupyter-widgets/controls",
          "model_module_version": "1.5.0",
          "model_name": "DescriptionStyleModel",
          "state": {
            "_model_module": "@jupyter-widgets/controls",
            "_model_module_version": "1.5.0",
            "_model_name": "DescriptionStyleModel",
            "_view_count": null,
            "_view_module": "@jupyter-widgets/base",
            "_view_module_version": "1.2.0",
            "_view_name": "StyleView",
            "description_width": ""
          }
        },
        "72c762fe69b64491b0959d7de0113670": {
          "model_module": "@jupyter-widgets/controls",
          "model_module_version": "1.5.0",
          "model_name": "DescriptionStyleModel",
          "state": {
            "_model_module": "@jupyter-widgets/controls",
            "_model_module_version": "1.5.0",
            "_model_name": "DescriptionStyleModel",
            "_view_count": null,
            "_view_module": "@jupyter-widgets/base",
            "_view_module_version": "1.2.0",
            "_view_name": "StyleView",
            "description_width": ""
          }
        },
        "74f3cfa343d64953805268c634fa24f0": {
          "model_module": "@jupyter-widgets/base",
          "model_module_version": "1.2.0",
          "model_name": "LayoutModel",
          "state": {
            "_model_module": "@jupyter-widgets/base",
            "_model_module_version": "1.2.0",
            "_model_name": "LayoutModel",
            "_view_count": null,
            "_view_module": "@jupyter-widgets/base",
            "_view_module_version": "1.2.0",
            "_view_name": "LayoutView",
            "align_content": null,
            "align_items": null,
            "align_self": null,
            "border": null,
            "bottom": null,
            "display": null,
            "flex": null,
            "flex_flow": null,
            "grid_area": null,
            "grid_auto_columns": null,
            "grid_auto_flow": null,
            "grid_auto_rows": null,
            "grid_column": null,
            "grid_gap": null,
            "grid_row": null,
            "grid_template_areas": null,
            "grid_template_columns": null,
            "grid_template_rows": null,
            "height": null,
            "justify_content": null,
            "justify_items": null,
            "left": null,
            "margin": null,
            "max_height": null,
            "max_width": null,
            "min_height": null,
            "min_width": null,
            "object_fit": null,
            "object_position": null,
            "order": null,
            "overflow": null,
            "overflow_x": null,
            "overflow_y": null,
            "padding": null,
            "right": null,
            "top": null,
            "visibility": null,
            "width": null
          }
        },
        "7654dcdde8774790baf8936aa43f8393": {
          "model_module": "@jupyter-widgets/controls",
          "model_module_version": "1.5.0",
          "model_name": "ProgressStyleModel",
          "state": {
            "_model_module": "@jupyter-widgets/controls",
            "_model_module_version": "1.5.0",
            "_model_name": "ProgressStyleModel",
            "_view_count": null,
            "_view_module": "@jupyter-widgets/base",
            "_view_module_version": "1.2.0",
            "_view_name": "StyleView",
            "bar_color": null,
            "description_width": ""
          }
        },
        "805a74f70a7142c1a84e454f2ec44f89": {
          "model_module": "@jupyter-widgets/controls",
          "model_module_version": "1.5.0",
          "model_name": "HTMLModel",
          "state": {
            "_dom_classes": [],
            "_model_module": "@jupyter-widgets/controls",
            "_model_module_version": "1.5.0",
            "_model_name": "HTMLModel",
            "_view_count": null,
            "_view_module": "@jupyter-widgets/controls",
            "_view_module_version": "1.5.0",
            "_view_name": "HTMLView",
            "description": "",
            "description_tooltip": null,
            "layout": "IPY_MODEL_96cd7b71adfc45a68bb0e559c6995c68",
            "placeholder": "​",
            "style": "IPY_MODEL_887d3211a81648d0af01792622fbb021",
            "value": " 455/455 [00:08&lt;00:00, 52.65it/s]"
          }
        },
        "84ee8ddf664e4feaad20deac0e4ffbcf": {
          "model_module": "@jupyter-widgets/controls",
          "model_module_version": "1.5.0",
          "model_name": "HBoxModel",
          "state": {
            "_dom_classes": [],
            "_model_module": "@jupyter-widgets/controls",
            "_model_module_version": "1.5.0",
            "_model_name": "HBoxModel",
            "_view_count": null,
            "_view_module": "@jupyter-widgets/controls",
            "_view_module_version": "1.5.0",
            "_view_name": "HBoxView",
            "box_style": "",
            "children": [
              "IPY_MODEL_33f831524f9640608da64ec537882cfe",
              "IPY_MODEL_3e69eb4f71e84caa93644cdf18490928",
              "IPY_MODEL_805a74f70a7142c1a84e454f2ec44f89"
            ],
            "layout": "IPY_MODEL_74f3cfa343d64953805268c634fa24f0"
          }
        },
        "887d3211a81648d0af01792622fbb021": {
          "model_module": "@jupyter-widgets/controls",
          "model_module_version": "1.5.0",
          "model_name": "DescriptionStyleModel",
          "state": {
            "_model_module": "@jupyter-widgets/controls",
            "_model_module_version": "1.5.0",
            "_model_name": "DescriptionStyleModel",
            "_view_count": null,
            "_view_module": "@jupyter-widgets/base",
            "_view_module_version": "1.2.0",
            "_view_name": "StyleView",
            "description_width": ""
          }
        },
        "928bdaf4936245adb23dc08f2db30132": {
          "model_module": "@jupyter-widgets/controls",
          "model_module_version": "1.5.0",
          "model_name": "FloatProgressModel",
          "state": {
            "_dom_classes": [],
            "_model_module": "@jupyter-widgets/controls",
            "_model_module_version": "1.5.0",
            "_model_name": "FloatProgressModel",
            "_view_count": null,
            "_view_module": "@jupyter-widgets/controls",
            "_view_module_version": "1.5.0",
            "_view_name": "ProgressView",
            "bar_style": "success",
            "description": "",
            "description_tooltip": null,
            "layout": "IPY_MODEL_99b2b6d1b08343febf595762c3991fc8",
            "max": 944,
            "min": 0,
            "orientation": "horizontal",
            "style": "IPY_MODEL_7654dcdde8774790baf8936aa43f8393",
            "value": 944
          }
        },
        "96cd7b71adfc45a68bb0e559c6995c68": {
          "model_module": "@jupyter-widgets/base",
          "model_module_version": "1.2.0",
          "model_name": "LayoutModel",
          "state": {
            "_model_module": "@jupyter-widgets/base",
            "_model_module_version": "1.2.0",
            "_model_name": "LayoutModel",
            "_view_count": null,
            "_view_module": "@jupyter-widgets/base",
            "_view_module_version": "1.2.0",
            "_view_name": "LayoutView",
            "align_content": null,
            "align_items": null,
            "align_self": null,
            "border": null,
            "bottom": null,
            "display": null,
            "flex": null,
            "flex_flow": null,
            "grid_area": null,
            "grid_auto_columns": null,
            "grid_auto_flow": null,
            "grid_auto_rows": null,
            "grid_column": null,
            "grid_gap": null,
            "grid_row": null,
            "grid_template_areas": null,
            "grid_template_columns": null,
            "grid_template_rows": null,
            "height": null,
            "justify_content": null,
            "justify_items": null,
            "left": null,
            "margin": null,
            "max_height": null,
            "max_width": null,
            "min_height": null,
            "min_width": null,
            "object_fit": null,
            "object_position": null,
            "order": null,
            "overflow": null,
            "overflow_x": null,
            "overflow_y": null,
            "padding": null,
            "right": null,
            "top": null,
            "visibility": null,
            "width": null
          }
        },
        "99b2b6d1b08343febf595762c3991fc8": {
          "model_module": "@jupyter-widgets/base",
          "model_module_version": "1.2.0",
          "model_name": "LayoutModel",
          "state": {
            "_model_module": "@jupyter-widgets/base",
            "_model_module_version": "1.2.0",
            "_model_name": "LayoutModel",
            "_view_count": null,
            "_view_module": "@jupyter-widgets/base",
            "_view_module_version": "1.2.0",
            "_view_name": "LayoutView",
            "align_content": null,
            "align_items": null,
            "align_self": null,
            "border": null,
            "bottom": null,
            "display": null,
            "flex": null,
            "flex_flow": null,
            "grid_area": null,
            "grid_auto_columns": null,
            "grid_auto_flow": null,
            "grid_auto_rows": null,
            "grid_column": null,
            "grid_gap": null,
            "grid_row": null,
            "grid_template_areas": null,
            "grid_template_columns": null,
            "grid_template_rows": null,
            "height": null,
            "justify_content": null,
            "justify_items": null,
            "left": null,
            "margin": null,
            "max_height": null,
            "max_width": null,
            "min_height": null,
            "min_width": null,
            "object_fit": null,
            "object_position": null,
            "order": null,
            "overflow": null,
            "overflow_x": null,
            "overflow_y": null,
            "padding": null,
            "right": null,
            "top": null,
            "visibility": null,
            "width": null
          }
        },
        "a1ab4a854aea4639967397222030df7d": {
          "model_module": "@jupyter-widgets/controls",
          "model_module_version": "1.5.0",
          "model_name": "DescriptionStyleModel",
          "state": {
            "_model_module": "@jupyter-widgets/controls",
            "_model_module_version": "1.5.0",
            "_model_name": "DescriptionStyleModel",
            "_view_count": null,
            "_view_module": "@jupyter-widgets/base",
            "_view_module_version": "1.2.0",
            "_view_name": "StyleView",
            "description_width": ""
          }
        },
        "a2f771f42e9d4484a6e3f282e8974470": {
          "model_module": "@jupyter-widgets/controls",
          "model_module_version": "1.5.0",
          "model_name": "HTMLModel",
          "state": {
            "_dom_classes": [],
            "_model_module": "@jupyter-widgets/controls",
            "_model_module_version": "1.5.0",
            "_model_name": "HTMLModel",
            "_view_count": null,
            "_view_module": "@jupyter-widgets/controls",
            "_view_module_version": "1.5.0",
            "_view_name": "HTMLView",
            "description": "",
            "description_tooltip": null,
            "layout": "IPY_MODEL_d15825b357bb426a8fd3758c37d76f05",
            "placeholder": "​",
            "style": "IPY_MODEL_638f8735721648138e334c36bf44c4bd",
            "value": " 2346/2346 [00:43&lt;00:00, 54.68it/s]"
          }
        },
        "a783ed4c27a54daeb821a6d2f9d49d20": {
          "model_module": "@jupyter-widgets/base",
          "model_module_version": "1.2.0",
          "model_name": "LayoutModel",
          "state": {
            "_model_module": "@jupyter-widgets/base",
            "_model_module_version": "1.2.0",
            "_model_name": "LayoutModel",
            "_view_count": null,
            "_view_module": "@jupyter-widgets/base",
            "_view_module_version": "1.2.0",
            "_view_name": "LayoutView",
            "align_content": null,
            "align_items": null,
            "align_self": null,
            "border": null,
            "bottom": null,
            "display": null,
            "flex": null,
            "flex_flow": null,
            "grid_area": null,
            "grid_auto_columns": null,
            "grid_auto_flow": null,
            "grid_auto_rows": null,
            "grid_column": null,
            "grid_gap": null,
            "grid_row": null,
            "grid_template_areas": null,
            "grid_template_columns": null,
            "grid_template_rows": null,
            "height": null,
            "justify_content": null,
            "justify_items": null,
            "left": null,
            "margin": null,
            "max_height": null,
            "max_width": null,
            "min_height": null,
            "min_width": null,
            "object_fit": null,
            "object_position": null,
            "order": null,
            "overflow": null,
            "overflow_x": null,
            "overflow_y": null,
            "padding": null,
            "right": null,
            "top": null,
            "visibility": null,
            "width": null
          }
        },
        "b7b95079e63245d5832b9ac13b21e671": {
          "model_module": "@jupyter-widgets/controls",
          "model_module_version": "1.5.0",
          "model_name": "DescriptionStyleModel",
          "state": {
            "_model_module": "@jupyter-widgets/controls",
            "_model_module_version": "1.5.0",
            "_model_name": "DescriptionStyleModel",
            "_view_count": null,
            "_view_module": "@jupyter-widgets/base",
            "_view_module_version": "1.2.0",
            "_view_name": "StyleView",
            "description_width": ""
          }
        },
        "bd6d6c53f0b74871b0ab24fad768b771": {
          "model_module": "@jupyter-widgets/base",
          "model_module_version": "1.2.0",
          "model_name": "LayoutModel",
          "state": {
            "_model_module": "@jupyter-widgets/base",
            "_model_module_version": "1.2.0",
            "_model_name": "LayoutModel",
            "_view_count": null,
            "_view_module": "@jupyter-widgets/base",
            "_view_module_version": "1.2.0",
            "_view_name": "LayoutView",
            "align_content": null,
            "align_items": null,
            "align_self": null,
            "border": null,
            "bottom": null,
            "display": null,
            "flex": null,
            "flex_flow": null,
            "grid_area": null,
            "grid_auto_columns": null,
            "grid_auto_flow": null,
            "grid_auto_rows": null,
            "grid_column": null,
            "grid_gap": null,
            "grid_row": null,
            "grid_template_areas": null,
            "grid_template_columns": null,
            "grid_template_rows": null,
            "height": null,
            "justify_content": null,
            "justify_items": null,
            "left": null,
            "margin": null,
            "max_height": null,
            "max_width": null,
            "min_height": null,
            "min_width": null,
            "object_fit": null,
            "object_position": null,
            "order": null,
            "overflow": null,
            "overflow_x": null,
            "overflow_y": null,
            "padding": null,
            "right": null,
            "top": null,
            "visibility": null,
            "width": null
          }
        },
        "cae6dca3e8bc40bb835b8c98e66eef6e": {
          "model_module": "@jupyter-widgets/controls",
          "model_module_version": "1.5.0",
          "model_name": "ProgressStyleModel",
          "state": {
            "_model_module": "@jupyter-widgets/controls",
            "_model_module_version": "1.5.0",
            "_model_name": "ProgressStyleModel",
            "_view_count": null,
            "_view_module": "@jupyter-widgets/base",
            "_view_module_version": "1.2.0",
            "_view_name": "StyleView",
            "bar_color": null,
            "description_width": ""
          }
        },
        "cd8ed268f4d8413882337bd0ba391be6": {
          "model_module": "@jupyter-widgets/controls",
          "model_module_version": "1.5.0",
          "model_name": "HTMLModel",
          "state": {
            "_dom_classes": [],
            "_model_module": "@jupyter-widgets/controls",
            "_model_module_version": "1.5.0",
            "_model_name": "HTMLModel",
            "_view_count": null,
            "_view_module": "@jupyter-widgets/controls",
            "_view_module_version": "1.5.0",
            "_view_name": "HTMLView",
            "description": "",
            "description_tooltip": null,
            "layout": "IPY_MODEL_d20b78d3bd73416bb675bb08a13025f2",
            "placeholder": "​",
            "style": "IPY_MODEL_43ef3e0424e74e848b4d4b6e39d30aea",
            "value": "100%"
          }
        },
        "d15825b357bb426a8fd3758c37d76f05": {
          "model_module": "@jupyter-widgets/base",
          "model_module_version": "1.2.0",
          "model_name": "LayoutModel",
          "state": {
            "_model_module": "@jupyter-widgets/base",
            "_model_module_version": "1.2.0",
            "_model_name": "LayoutModel",
            "_view_count": null,
            "_view_module": "@jupyter-widgets/base",
            "_view_module_version": "1.2.0",
            "_view_name": "LayoutView",
            "align_content": null,
            "align_items": null,
            "align_self": null,
            "border": null,
            "bottom": null,
            "display": null,
            "flex": null,
            "flex_flow": null,
            "grid_area": null,
            "grid_auto_columns": null,
            "grid_auto_flow": null,
            "grid_auto_rows": null,
            "grid_column": null,
            "grid_gap": null,
            "grid_row": null,
            "grid_template_areas": null,
            "grid_template_columns": null,
            "grid_template_rows": null,
            "height": null,
            "justify_content": null,
            "justify_items": null,
            "left": null,
            "margin": null,
            "max_height": null,
            "max_width": null,
            "min_height": null,
            "min_width": null,
            "object_fit": null,
            "object_position": null,
            "order": null,
            "overflow": null,
            "overflow_x": null,
            "overflow_y": null,
            "padding": null,
            "right": null,
            "top": null,
            "visibility": null,
            "width": null
          }
        },
        "d20b78d3bd73416bb675bb08a13025f2": {
          "model_module": "@jupyter-widgets/base",
          "model_module_version": "1.2.0",
          "model_name": "LayoutModel",
          "state": {
            "_model_module": "@jupyter-widgets/base",
            "_model_module_version": "1.2.0",
            "_model_name": "LayoutModel",
            "_view_count": null,
            "_view_module": "@jupyter-widgets/base",
            "_view_module_version": "1.2.0",
            "_view_name": "LayoutView",
            "align_content": null,
            "align_items": null,
            "align_self": null,
            "border": null,
            "bottom": null,
            "display": null,
            "flex": null,
            "flex_flow": null,
            "grid_area": null,
            "grid_auto_columns": null,
            "grid_auto_flow": null,
            "grid_auto_rows": null,
            "grid_column": null,
            "grid_gap": null,
            "grid_row": null,
            "grid_template_areas": null,
            "grid_template_columns": null,
            "grid_template_rows": null,
            "height": null,
            "justify_content": null,
            "justify_items": null,
            "left": null,
            "margin": null,
            "max_height": null,
            "max_width": null,
            "min_height": null,
            "min_width": null,
            "object_fit": null,
            "object_position": null,
            "order": null,
            "overflow": null,
            "overflow_x": null,
            "overflow_y": null,
            "padding": null,
            "right": null,
            "top": null,
            "visibility": null,
            "width": null
          }
        },
        "d6f10a09ad4e445290e6e840c7b3b468": {
          "model_module": "@jupyter-widgets/base",
          "model_module_version": "1.2.0",
          "model_name": "LayoutModel",
          "state": {
            "_model_module": "@jupyter-widgets/base",
            "_model_module_version": "1.2.0",
            "_model_name": "LayoutModel",
            "_view_count": null,
            "_view_module": "@jupyter-widgets/base",
            "_view_module_version": "1.2.0",
            "_view_name": "LayoutView",
            "align_content": null,
            "align_items": null,
            "align_self": null,
            "border": null,
            "bottom": null,
            "display": null,
            "flex": null,
            "flex_flow": null,
            "grid_area": null,
            "grid_auto_columns": null,
            "grid_auto_flow": null,
            "grid_auto_rows": null,
            "grid_column": null,
            "grid_gap": null,
            "grid_row": null,
            "grid_template_areas": null,
            "grid_template_columns": null,
            "grid_template_rows": null,
            "height": null,
            "justify_content": null,
            "justify_items": null,
            "left": null,
            "margin": null,
            "max_height": null,
            "max_width": null,
            "min_height": null,
            "min_width": null,
            "object_fit": null,
            "object_position": null,
            "order": null,
            "overflow": null,
            "overflow_x": null,
            "overflow_y": null,
            "padding": null,
            "right": null,
            "top": null,
            "visibility": null,
            "width": null
          }
        },
        "e1dce61d25f142dca8269ed32a5590da": {
          "model_module": "@jupyter-widgets/base",
          "model_module_version": "1.2.0",
          "model_name": "LayoutModel",
          "state": {
            "_model_module": "@jupyter-widgets/base",
            "_model_module_version": "1.2.0",
            "_model_name": "LayoutModel",
            "_view_count": null,
            "_view_module": "@jupyter-widgets/base",
            "_view_module_version": "1.2.0",
            "_view_name": "LayoutView",
            "align_content": null,
            "align_items": null,
            "align_self": null,
            "border": null,
            "bottom": null,
            "display": null,
            "flex": null,
            "flex_flow": null,
            "grid_area": null,
            "grid_auto_columns": null,
            "grid_auto_flow": null,
            "grid_auto_rows": null,
            "grid_column": null,
            "grid_gap": null,
            "grid_row": null,
            "grid_template_areas": null,
            "grid_template_columns": null,
            "grid_template_rows": null,
            "height": null,
            "justify_content": null,
            "justify_items": null,
            "left": null,
            "margin": null,
            "max_height": null,
            "max_width": null,
            "min_height": null,
            "min_width": null,
            "object_fit": null,
            "object_position": null,
            "order": null,
            "overflow": null,
            "overflow_x": null,
            "overflow_y": null,
            "padding": null,
            "right": null,
            "top": null,
            "visibility": null,
            "width": null
          }
        }
      }
    }
  },
  "nbformat": 4,
  "nbformat_minor": 0
}
